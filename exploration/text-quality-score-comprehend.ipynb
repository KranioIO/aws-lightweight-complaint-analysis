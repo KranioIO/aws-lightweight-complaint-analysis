{
 "cells": [
  {
   "cell_type": "markdown",
   "metadata": {},
   "source": [
    "# Initial Load Config"
   ]
  },
  {
   "cell_type": "code",
   "execution_count": 1,
   "metadata": {},
   "outputs": [],
   "source": [
    "import pandas as pd\n",
    "import boto3\n",
    "from io import BytesIO\n",
    "import gzip\n",
    "import numpy as np\n",
    "\n",
    "import seaborn as sns\n",
    "import matplotlib.pyplot as plt\n",
    "from datetime import timedelta, datetime, date\n",
    "\n",
    "AWS_REGION = 'us-east-1'\n",
    "MAX_SENTENCE_LENGTH_IN_CHARS = 4500\n",
    "\n",
    "s3 = boto3.client('s3')\n",
    "comprehend_client = boto3.client('comprehend')"
   ]
  },
  {
   "cell_type": "code",
   "execution_count": 2,
   "metadata": {},
   "outputs": [],
   "source": [
    "bucket = \"sura-text-mining-poc\"\n",
    "key = \"raw/complaints/complaints.csv\"\n",
    "\n",
    "obj = s3.get_object(Bucket=bucket, Key=key)\n",
    "obj = BytesIO(obj['Body'].read())\n",
    "\n",
    "df_source = pd.read_csv(obj)"
   ]
  },
  {
   "cell_type": "markdown",
   "metadata": {},
   "source": [
    "# Exploratory Analysis"
   ]
  },
  {
   "cell_type": "code",
   "execution_count": 3,
   "metadata": {
    "scrolled": true
   },
   "outputs": [
    {
     "data": {
      "text/html": [
       "<div>\n",
       "<style scoped>\n",
       "    .dataframe tbody tr th:only-of-type {\n",
       "        vertical-align: middle;\n",
       "    }\n",
       "\n",
       "    .dataframe tbody tr th {\n",
       "        vertical-align: top;\n",
       "    }\n",
       "\n",
       "    .dataframe thead th {\n",
       "        text-align: right;\n",
       "    }\n",
       "</style>\n",
       "<table border=\"1\" class=\"dataframe\">\n",
       "  <thead>\n",
       "    <tr style=\"text-align: right;\">\n",
       "      <th></th>\n",
       "      <th>Ticket #</th>\n",
       "      <th>Customer Complaint</th>\n",
       "      <th>Date</th>\n",
       "      <th>Time</th>\n",
       "      <th>Received Via</th>\n",
       "      <th>City</th>\n",
       "      <th>State</th>\n",
       "      <th>Zip code</th>\n",
       "      <th>Status</th>\n",
       "      <th>Filing on Behalf of Someone</th>\n",
       "      <th>Description</th>\n",
       "    </tr>\n",
       "  </thead>\n",
       "  <tbody>\n",
       "    <tr>\n",
       "      <th>0</th>\n",
       "      <td>250635</td>\n",
       "      <td>Comcast Cable Internet Speeds</td>\n",
       "      <td>4/22/2015</td>\n",
       "      <td>3:53:50 PM</td>\n",
       "      <td>Internet</td>\n",
       "      <td>Abingdon</td>\n",
       "      <td>Maryland</td>\n",
       "      <td>21009</td>\n",
       "      <td>Closed</td>\n",
       "      <td>No</td>\n",
       "      <td>I have been contacting Comcast Internet Techni...</td>\n",
       "    </tr>\n",
       "    <tr>\n",
       "      <th>1</th>\n",
       "      <td>223441</td>\n",
       "      <td>Payment disappear - service got disconnected</td>\n",
       "      <td>4/8/2015</td>\n",
       "      <td>10:22:56 AM</td>\n",
       "      <td>Internet</td>\n",
       "      <td>Acworth</td>\n",
       "      <td>Georgia</td>\n",
       "      <td>30102</td>\n",
       "      <td>Closed</td>\n",
       "      <td>No</td>\n",
       "      <td>Back in January 2015 I made 2 payments: One fo...</td>\n",
       "    </tr>\n",
       "    <tr>\n",
       "      <th>2</th>\n",
       "      <td>242732</td>\n",
       "      <td>Speed and Service</td>\n",
       "      <td>4/18/2015</td>\n",
       "      <td>9:55:47 AM</td>\n",
       "      <td>Internet</td>\n",
       "      <td>Acworth</td>\n",
       "      <td>Georgia</td>\n",
       "      <td>30101</td>\n",
       "      <td>Closed</td>\n",
       "      <td>Yes</td>\n",
       "      <td>Our home is located at in Acworth Georgia 3010...</td>\n",
       "    </tr>\n",
       "    <tr>\n",
       "      <th>3</th>\n",
       "      <td>277946</td>\n",
       "      <td>Comcast Imposed a New Usage Cap of 300GB that ...</td>\n",
       "      <td>5/7/2015</td>\n",
       "      <td>11:59:35 AM</td>\n",
       "      <td>Internet</td>\n",
       "      <td>Acworth</td>\n",
       "      <td>Georgia</td>\n",
       "      <td>30101</td>\n",
       "      <td>Open</td>\n",
       "      <td>Yes</td>\n",
       "      <td>Comcast in the Atlanta area has just put into ...</td>\n",
       "    </tr>\n",
       "    <tr>\n",
       "      <th>4</th>\n",
       "      <td>307175</td>\n",
       "      <td>Comcast not working and no service to boot</td>\n",
       "      <td>5/26/2015</td>\n",
       "      <td>1:25:26 PM</td>\n",
       "      <td>Internet</td>\n",
       "      <td>Acworth</td>\n",
       "      <td>Georgia</td>\n",
       "      <td>30101</td>\n",
       "      <td>Solved</td>\n",
       "      <td>No</td>\n",
       "      <td>I have been a customer of Comcast of some sort...</td>\n",
       "    </tr>\n",
       "  </tbody>\n",
       "</table>\n",
       "</div>"
      ],
      "text/plain": [
       "  Ticket #                                 Customer Complaint       Date  \\\n",
       "0   250635                      Comcast Cable Internet Speeds  4/22/2015   \n",
       "1   223441       Payment disappear - service got disconnected   4/8/2015   \n",
       "2   242732                                  Speed and Service  4/18/2015   \n",
       "3   277946  Comcast Imposed a New Usage Cap of 300GB that ...   5/7/2015   \n",
       "4   307175         Comcast not working and no service to boot  5/26/2015   \n",
       "\n",
       "          Time Received Via      City     State  Zip code  Status  \\\n",
       "0   3:53:50 PM     Internet  Abingdon  Maryland     21009  Closed   \n",
       "1  10:22:56 AM     Internet   Acworth   Georgia     30102  Closed   \n",
       "2   9:55:47 AM     Internet   Acworth   Georgia     30101  Closed   \n",
       "3  11:59:35 AM     Internet   Acworth   Georgia     30101    Open   \n",
       "4   1:25:26 PM     Internet   Acworth   Georgia     30101  Solved   \n",
       "\n",
       "  Filing on Behalf of Someone  \\\n",
       "0                          No   \n",
       "1                          No   \n",
       "2                         Yes   \n",
       "3                         Yes   \n",
       "4                          No   \n",
       "\n",
       "                                         Description  \n",
       "0  I have been contacting Comcast Internet Techni...  \n",
       "1  Back in January 2015 I made 2 payments: One fo...  \n",
       "2  Our home is located at in Acworth Georgia 3010...  \n",
       "3  Comcast in the Atlanta area has just put into ...  \n",
       "4  I have been a customer of Comcast of some sort...  "
      ]
     },
     "execution_count": 3,
     "metadata": {},
     "output_type": "execute_result"
    }
   ],
   "source": [
    "df_source.head()"
   ]
  },
  {
   "cell_type": "markdown",
   "metadata": {},
   "source": [
    "# Calculating a score to opened tickets using comprehend"
   ]
  },
  {
   "cell_type": "markdown",
   "metadata": {},
   "source": [
    "### Select Columns"
   ]
  },
  {
   "cell_type": "code",
   "execution_count": 4,
   "metadata": {},
   "outputs": [],
   "source": [
    "df = df_source[[\"Ticket #\", \"Customer Complaint\", \"Description\", \"Status\"]]"
   ]
  },
  {
   "cell_type": "markdown",
   "metadata": {},
   "source": [
    "### Filter only opened tickets"
   ]
  },
  {
   "cell_type": "code",
   "execution_count": 5,
   "metadata": {},
   "outputs": [],
   "source": [
    "opened_tickets_indexes = df[\"Status\"] == \"Open\"\n",
    "df = df[opened_tickets_indexes]"
   ]
  },
  {
   "cell_type": "markdown",
   "metadata": {},
   "source": [
    "### Truncate Text to the limit of comprehend"
   ]
  },
  {
   "cell_type": "code",
   "execution_count": 6,
   "metadata": {},
   "outputs": [],
   "source": [
    "df[\"TextToBeAnalyzed\"] = df[\"Description\"].str[:MAX_SENTENCE_LENGTH_IN_CHARS]"
   ]
  },
  {
   "cell_type": "markdown",
   "metadata": {},
   "source": [
    "### Add QualityScore Column"
   ]
  },
  {
   "cell_type": "code",
   "execution_count": 7,
   "metadata": {},
   "outputs": [],
   "source": [
    "df[\"QualityScore\"] = 0.0"
   ]
  },
  {
   "cell_type": "markdown",
   "metadata": {},
   "source": [
    "### Split DataFrame to the limit of comprehend"
   ]
  },
  {
   "cell_type": "code",
   "execution_count": 8,
   "metadata": {},
   "outputs": [],
   "source": [
    "(rows, _) = df.shape\n",
    "splitted_dataframe = np.array_split(df, rows / 23)"
   ]
  },
  {
   "cell_type": "markdown",
   "metadata": {},
   "source": [
    "### Get score from comprehend"
   ]
  },
  {
   "cell_type": "code",
   "execution_count": 9,
   "metadata": {
    "scrolled": true
   },
   "outputs": [],
   "source": [
    "def select_score_list(syntax_tokens):\n",
    "    score_list = list(map(lambda r: r['PartOfSpeech']['Score'], syntax_tokens))\n",
    "    return score_list\n",
    "\n",
    "def calculate_score_from_comprehend_response(response):\n",
    "    comprehend_result = pd.DataFrame(response[\"ResultList\"])\n",
    "    comprehend_result[\"QualityScore\"] = comprehend_result[\"SyntaxTokens\"].apply(select_score_list)\n",
    "    comprehend_result[\"QualityScore\"] = comprehend_result[\"QualityScore\"].apply(lambda r: round(np.mean(r) * 100, 1))\n",
    "    comprehend_result = comprehend_result[\"QualityScore\"]\n",
    "    \n",
    "    return comprehend_result"
   ]
  },
  {
   "cell_type": "code",
   "execution_count": 10,
   "metadata": {
    "scrolled": true
   },
   "outputs": [],
   "source": [
    "df_result = pd.DataFrame()\n",
    "\n",
    "for dataframe in splitted_dataframe:\n",
    "    dataframe_selected = dataframe.reset_index()\n",
    "    text_list = dataframe_selected[\"TextToBeAnalyzed\"].tolist()\n",
    "\n",
    "    response = comprehend_client.batch_detect_syntax(TextList=text_list, LanguageCode=\"en\")\n",
    "    dataframe_selected[\"QualityScore\"] = calculate_score_from_comprehend_response(response)\n",
    "\n",
    "    dataframe_selected = dataframe_selected[[\"Ticket #\", \"Customer Complaint\", \"QualityScore\"]]\n",
    "    df_result = pd.concat([df_result, dataframe_selected], ignore_index=True)\n",
    "    \n",
    "df_result = df_result.sort_values(by=[\"QualityScore\"], ascending=False)"
   ]
  },
  {
   "cell_type": "code",
   "execution_count": 11,
   "metadata": {},
   "outputs": [
    {
     "data": {
      "text/html": [
       "<div>\n",
       "<style scoped>\n",
       "    .dataframe tbody tr th:only-of-type {\n",
       "        vertical-align: middle;\n",
       "    }\n",
       "\n",
       "    .dataframe tbody tr th {\n",
       "        vertical-align: top;\n",
       "    }\n",
       "\n",
       "    .dataframe thead th {\n",
       "        text-align: right;\n",
       "    }\n",
       "</style>\n",
       "<table border=\"1\" class=\"dataframe\">\n",
       "  <thead>\n",
       "    <tr style=\"text-align: right;\">\n",
       "      <th></th>\n",
       "      <th>Ticket #</th>\n",
       "      <th>Customer Complaint</th>\n",
       "      <th>QualityScore</th>\n",
       "    </tr>\n",
       "  </thead>\n",
       "  <tbody>\n",
       "    <tr>\n",
       "      <th>102</th>\n",
       "      <td>291175</td>\n",
       "      <td>Data Caps</td>\n",
       "      <td>99.6</td>\n",
       "    </tr>\n",
       "    <tr>\n",
       "      <th>345</th>\n",
       "      <td>303296</td>\n",
       "      <td>Data Caps</td>\n",
       "      <td>99.5</td>\n",
       "    </tr>\n",
       "    <tr>\n",
       "      <th>269</th>\n",
       "      <td>310714</td>\n",
       "      <td>Data limit with Comcast</td>\n",
       "      <td>99.3</td>\n",
       "    </tr>\n",
       "    <tr>\n",
       "      <th>9</th>\n",
       "      <td>343346</td>\n",
       "      <td>Slow Internet Speed</td>\n",
       "      <td>99.3</td>\n",
       "    </tr>\n",
       "    <tr>\n",
       "      <th>186</th>\n",
       "      <td>322200</td>\n",
       "      <td>Comcast monopoly hurting my business</td>\n",
       "      <td>99.3</td>\n",
       "    </tr>\n",
       "  </tbody>\n",
       "</table>\n",
       "</div>"
      ],
      "text/plain": [
       "    Ticket #                    Customer Complaint  QualityScore\n",
       "102   291175                             Data Caps          99.6\n",
       "345   303296                             Data Caps          99.5\n",
       "269   310714               Data limit with Comcast          99.3\n",
       "9     343346                   Slow Internet Speed          99.3\n",
       "186   322200  Comcast monopoly hurting my business          99.3"
      ]
     },
     "execution_count": 11,
     "metadata": {},
     "output_type": "execute_result"
    }
   ],
   "source": [
    "df_result.head()"
   ]
  },
  {
   "cell_type": "markdown",
   "metadata": {},
   "source": [
    "# Results"
   ]
  },
  {
   "cell_type": "markdown",
   "metadata": {},
   "source": [
    "### Top 10 Quality Scored Texts"
   ]
  },
  {
   "cell_type": "code",
   "execution_count": 12,
   "metadata": {},
   "outputs": [
    {
     "data": {
      "text/html": [
       "<div>\n",
       "<style scoped>\n",
       "    .dataframe tbody tr th:only-of-type {\n",
       "        vertical-align: middle;\n",
       "    }\n",
       "\n",
       "    .dataframe tbody tr th {\n",
       "        vertical-align: top;\n",
       "    }\n",
       "\n",
       "    .dataframe thead th {\n",
       "        text-align: right;\n",
       "    }\n",
       "</style>\n",
       "<table border=\"1\" class=\"dataframe\">\n",
       "  <thead>\n",
       "    <tr style=\"text-align: right;\">\n",
       "      <th></th>\n",
       "      <th>Ticket #</th>\n",
       "      <th>Customer Complaint</th>\n",
       "      <th>QualityScore</th>\n",
       "    </tr>\n",
       "  </thead>\n",
       "  <tbody>\n",
       "    <tr>\n",
       "      <th>102</th>\n",
       "      <td>291175</td>\n",
       "      <td>Data Caps</td>\n",
       "      <td>99.6</td>\n",
       "    </tr>\n",
       "    <tr>\n",
       "      <th>345</th>\n",
       "      <td>303296</td>\n",
       "      <td>Data Caps</td>\n",
       "      <td>99.5</td>\n",
       "    </tr>\n",
       "    <tr>\n",
       "      <th>269</th>\n",
       "      <td>310714</td>\n",
       "      <td>Data limit with Comcast</td>\n",
       "      <td>99.3</td>\n",
       "    </tr>\n",
       "    <tr>\n",
       "      <th>9</th>\n",
       "      <td>343346</td>\n",
       "      <td>Slow Internet Speed</td>\n",
       "      <td>99.3</td>\n",
       "    </tr>\n",
       "    <tr>\n",
       "      <th>186</th>\n",
       "      <td>322200</td>\n",
       "      <td>Comcast monopoly hurting my business</td>\n",
       "      <td>99.3</td>\n",
       "    </tr>\n",
       "    <tr>\n",
       "      <th>308</th>\n",
       "      <td>374393</td>\n",
       "      <td>Comcast pricing practices</td>\n",
       "      <td>99.1</td>\n",
       "    </tr>\n",
       "    <tr>\n",
       "      <th>90</th>\n",
       "      <td>309213</td>\n",
       "      <td>Billed for modem rental for several years, Com...</td>\n",
       "      <td>98.9</td>\n",
       "    </tr>\n",
       "    <tr>\n",
       "      <th>320</th>\n",
       "      <td>316257</td>\n",
       "      <td>Comcast Data Usage Meter</td>\n",
       "      <td>98.9</td>\n",
       "    </tr>\n",
       "    <tr>\n",
       "      <th>350</th>\n",
       "      <td>312977</td>\n",
       "      <td>Comcast Fraudulent Charges</td>\n",
       "      <td>98.8</td>\n",
       "    </tr>\n",
       "    <tr>\n",
       "      <th>267</th>\n",
       "      <td>307604</td>\n",
       "      <td>Comcast has a monopoly on our internet</td>\n",
       "      <td>98.8</td>\n",
       "    </tr>\n",
       "  </tbody>\n",
       "</table>\n",
       "</div>"
      ],
      "text/plain": [
       "    Ticket #                                 Customer Complaint  QualityScore\n",
       "102   291175                                          Data Caps          99.6\n",
       "345   303296                                          Data Caps          99.5\n",
       "269   310714                            Data limit with Comcast          99.3\n",
       "9     343346                                Slow Internet Speed          99.3\n",
       "186   322200               Comcast monopoly hurting my business          99.3\n",
       "308   374393                          Comcast pricing practices          99.1\n",
       "90    309213  Billed for modem rental for several years, Com...          98.9\n",
       "320   316257                           Comcast Data Usage Meter          98.9\n",
       "350   312977                         Comcast Fraudulent Charges          98.8\n",
       "267   307604             Comcast has a monopoly on our internet          98.8"
      ]
     },
     "execution_count": 12,
     "metadata": {},
     "output_type": "execute_result"
    }
   ],
   "source": [
    "df_result.head(10)"
   ]
  }
 ],
 "metadata": {
  "kernelspec": {
   "display_name": "conda_python3",
   "language": "python",
   "name": "conda_python3"
  },
  "language_info": {
   "codemirror_mode": {
    "name": "ipython",
    "version": 3
   },
   "file_extension": ".py",
   "mimetype": "text/x-python",
   "name": "python",
   "nbconvert_exporter": "python",
   "pygments_lexer": "ipython3",
   "version": "3.6.5"
  }
 },
 "nbformat": 4,
 "nbformat_minor": 4
}
