{
 "cells": [
  {
   "cell_type": "markdown",
   "metadata": {},
   "source": [
    "# Initial Load Config"
   ]
  },
  {
   "cell_type": "code",
   "execution_count": 1,
   "metadata": {},
   "outputs": [
    {
     "name": "stdout",
     "output_type": "stream",
     "text": [
      "[nltk_data] Downloading package stopwords to /tmp...\n",
      "[nltk_data]   Package stopwords is already up-to-date!\n"
     ]
    }
   ],
   "source": [
    "import pandas as pd\n",
    "import boto3\n",
    "from io import BytesIO\n",
    "\n",
    "import nltk\n",
    "from nltk.corpus import stopwords\n",
    "\n",
    "AWS_REGION = 'us-east-2'\n",
    "\n",
    "session = boto3.Session(profile_name='kranio')\n",
    "s3 = session.client('s3')\n",
    "\n",
    "nltk.data.path.append(\"/tmp\")\n",
    "nltk.download('stopwords', download_dir='/tmp')\n",
    "ESW = stopwords.words('english')"
   ]
  },
  {
   "cell_type": "code",
   "execution_count": 2,
   "metadata": {},
   "outputs": [],
   "source": [
    "bucket = \"kranio-datalake\"\n",
    "key = \"internal/webinar/leoCamilo/enriched/complaints-standard/cd377ca5c3594fba93bca95e25545b6a\"\n",
    "\n",
    "obj = s3.get_object(Bucket=bucket, Key=key)\n",
    "obj = BytesIO(obj['Body'].read())\n",
    "\n",
    "df_source = pd.read_json(obj, lines=True)"
   ]
  },
  {
   "cell_type": "markdown",
   "metadata": {},
   "source": [
    "# Exploratory Analysis"
   ]
  },
  {
   "cell_type": "code",
   "execution_count": 76,
   "metadata": {},
   "outputs": [],
   "source": [
    "stop_words = list(ESW) + [\"comcast\", \"xfinity\", \"i\", \"i'm\", \"don't\", \"xfintity\", \"am\", \"pm\", \"pt\", \"gb\", \"fcc\", \"br\"]\n",
    "\n",
    "df_result = df_source.iloc[:1000].copy()\n",
    "df_result[\"WordCloud\"] = df_result[\"Description\"].str.lower()\n",
    "\n",
    "df_result[\"WordCloud\"] = df_result[\"WordCloud\"].str.replace(r'(\\'s|\\W|\\W+|[0-9_-])', ' ', regex=True)\n",
    "df_result[\"WordCloud\"] = df_result[\"WordCloud\"].str.split()\n",
    "df_result[\"WordCloud\"] = df_result[\"WordCloud\"].apply(lambda w: [item for item in w if item])\n",
    "df_result[\"WordCloud\"] = df_result[\"WordCloud\"].apply(lambda w: [item for item in w if item not in stop_words])\n",
    "df_result[\"WordCloud\"] = df_result[\"WordCloud\"].str.join(\" \")"
   ]
  },
  {
   "cell_type": "code",
   "execution_count": 77,
   "metadata": {},
   "outputs": [],
   "source": [
    "all_description = ' '.join(df_result[\"WordCloud\"])\n",
    "all_description_df = pd.DataFrame({\"Words\": all_description.split(), \"Count\": 1})"
   ]
  },
  {
   "cell_type": "code",
   "execution_count": 78,
   "metadata": {},
   "outputs": [],
   "source": [
    "all_description_group_df = all_description_df.groupby([\"Words\"], as_index=False).count()\n",
    "all_description_group_df = all_description_group_df[all_description_group_df[\"Count\"] > 100]\n",
    "all_description_group_df = all_description_group_df.sort_values(by=[\"Count\"], ascending=False)"
   ]
  },
  {
   "cell_type": "code",
   "execution_count": 79,
   "metadata": {},
   "outputs": [
    {
     "data": {
      "text/html": [
       "<div>\n",
       "<style scoped>\n",
       "    .dataframe tbody tr th:only-of-type {\n",
       "        vertical-align: middle;\n",
       "    }\n",
       "\n",
       "    .dataframe tbody tr th {\n",
       "        vertical-align: top;\n",
       "    }\n",
       "\n",
       "    .dataframe thead th {\n",
       "        text-align: right;\n",
       "    }\n",
       "</style>\n",
       "<table border=\"1\" class=\"dataframe\">\n",
       "  <thead>\n",
       "    <tr style=\"text-align: right;\">\n",
       "      <th></th>\n",
       "      <th>Words</th>\n",
       "      <th>Count</th>\n",
       "    </tr>\n",
       "  </thead>\n",
       "  <tbody>\n",
       "    <tr>\n",
       "      <th>4283</th>\n",
       "      <td>notice</td>\n",
       "      <td>2346</td>\n",
       "    </tr>\n",
       "    <tr>\n",
       "      <th>5688</th>\n",
       "      <td>service</td>\n",
       "      <td>2301</td>\n",
       "    </tr>\n",
       "    <tr>\n",
       "      <th>1225</th>\n",
       "      <td>complaint</td>\n",
       "      <td>2104</td>\n",
       "    </tr>\n",
       "    <tr>\n",
       "      <th>5372</th>\n",
       "      <td>response</td>\n",
       "      <td>1878</td>\n",
       "    </tr>\n",
       "    <tr>\n",
       "      <th>3364</th>\n",
       "      <td>internet</td>\n",
       "      <td>1756</td>\n",
       "    </tr>\n",
       "  </tbody>\n",
       "</table>\n",
       "</div>"
      ],
      "text/plain": [
       "          Words  Count\n",
       "4283     notice   2346\n",
       "5688    service   2301\n",
       "1225  complaint   2104\n",
       "5372   response   1878\n",
       "3364   internet   1756"
      ]
     },
     "execution_count": 79,
     "metadata": {},
     "output_type": "execute_result"
    }
   ],
   "source": [
    "all_description_group_df.head()"
   ]
  },
  {
   "cell_type": "code",
   "execution_count": 80,
   "metadata": {},
   "outputs": [
    {
     "data": {
      "text/html": [
       "<div>\n",
       "<style scoped>\n",
       "    .dataframe tbody tr th:only-of-type {\n",
       "        vertical-align: middle;\n",
       "    }\n",
       "\n",
       "    .dataframe tbody tr th {\n",
       "        vertical-align: top;\n",
       "    }\n",
       "\n",
       "    .dataframe thead th {\n",
       "        text-align: right;\n",
       "    }\n",
       "</style>\n",
       "<table border=\"1\" class=\"dataframe\">\n",
       "  <thead>\n",
       "    <tr style=\"text-align: right;\">\n",
       "      <th></th>\n",
       "      <th>Ticket #</th>\n",
       "      <th>WordCloud</th>\n",
       "      <th>Sentiment</th>\n",
       "    </tr>\n",
       "  </thead>\n",
       "  <tbody>\n",
       "    <tr>\n",
       "      <th>0</th>\n",
       "      <td>250635</td>\n",
       "      <td>contacting internet technical support last mon...</td>\n",
       "      <td>NEGATIVE</td>\n",
       "    </tr>\n",
       "    <tr>\n",
       "      <th>1</th>\n",
       "      <td>223441</td>\n",
       "      <td>back january made payments one january service...</td>\n",
       "      <td>NEGATIVE</td>\n",
       "    </tr>\n",
       "    <tr>\n",
       "      <th>2</th>\n",
       "      <td>242732</td>\n",
       "      <td>home located acworth georgia signed one year c...</td>\n",
       "      <td>NEGATIVE</td>\n",
       "    </tr>\n",
       "    <tr>\n",
       "      <th>3</th>\n",
       "      <td>277946</td>\n",
       "      <td>atlanta area put effect unprecendented usage c...</td>\n",
       "      <td>NEGATIVE</td>\n",
       "    </tr>\n",
       "    <tr>\n",
       "      <th>4</th>\n",
       "      <td>307175</td>\n",
       "      <td>customer sort years never issues like past yea...</td>\n",
       "      <td>NEGATIVE</td>\n",
       "    </tr>\n",
       "  </tbody>\n",
       "</table>\n",
       "</div>"
      ],
      "text/plain": [
       "  Ticket #                                          WordCloud Sentiment\n",
       "0   250635  contacting internet technical support last mon...  NEGATIVE\n",
       "1   223441  back january made payments one january service...  NEGATIVE\n",
       "2   242732  home located acworth georgia signed one year c...  NEGATIVE\n",
       "3   277946  atlanta area put effect unprecendented usage c...  NEGATIVE\n",
       "4   307175  customer sort years never issues like past yea...  NEGATIVE"
      ]
     },
     "execution_count": 80,
     "metadata": {},
     "output_type": "execute_result"
    }
   ],
   "source": [
    "df_tmp = df_result[[\"Ticket #\", \"WordCloud\", \"Sentiment\"]].copy()\n",
    "df_tmp.head()"
   ]
  },
  {
   "cell_type": "code",
   "execution_count": 81,
   "metadata": {},
   "outputs": [],
   "source": [
    "df_tmp_words = df_tmp.set_index(\"Ticket #\").copy()\n",
    "df_tmp_words[\"WordCloud\"] = df_tmp_words[\"WordCloud\"].str.split()\n",
    "df_tmp_words = df_tmp_words[\"WordCloud\"].apply(pd.Series)\n",
    "df_tmp_words = df_tmp_words.stack().to_frame()\n",
    "df_tmp_words = df_tmp_words.reset_index()\n",
    "df_tmp_words = df_tmp_words.rename(columns={0: \"Words\"})\n",
    "df_tmp_words = df_tmp_words[[\"Ticket #\", \"Words\"]]\n",
    "df_tmp_words = df_tmp_words.merge(df_tmp, on=\"Ticket #\")\n",
    "df_tmp_words = df_tmp_words[[\"Ticket #\", \"Sentiment\", \"Words\"]]"
   ]
  },
  {
   "cell_type": "code",
   "execution_count": 82,
   "metadata": {},
   "outputs": [
    {
     "data": {
      "text/plain": [
       "(138547, 3)"
      ]
     },
     "execution_count": 82,
     "metadata": {},
     "output_type": "execute_result"
    }
   ],
   "source": [
    "df_tmp_words.shape"
   ]
  },
  {
   "cell_type": "code",
   "execution_count": 83,
   "metadata": {},
   "outputs": [
    {
     "data": {
      "text/html": [
       "<div>\n",
       "<style scoped>\n",
       "    .dataframe tbody tr th:only-of-type {\n",
       "        vertical-align: middle;\n",
       "    }\n",
       "\n",
       "    .dataframe tbody tr th {\n",
       "        vertical-align: top;\n",
       "    }\n",
       "\n",
       "    .dataframe thead th {\n",
       "        text-align: right;\n",
       "    }\n",
       "</style>\n",
       "<table border=\"1\" class=\"dataframe\">\n",
       "  <thead>\n",
       "    <tr style=\"text-align: right;\">\n",
       "      <th></th>\n",
       "      <th>Words</th>\n",
       "      <th>Count</th>\n",
       "    </tr>\n",
       "  </thead>\n",
       "  <tbody>\n",
       "    <tr>\n",
       "      <th>4283</th>\n",
       "      <td>notice</td>\n",
       "      <td>2346</td>\n",
       "    </tr>\n",
       "    <tr>\n",
       "      <th>5688</th>\n",
       "      <td>service</td>\n",
       "      <td>2301</td>\n",
       "    </tr>\n",
       "    <tr>\n",
       "      <th>1225</th>\n",
       "      <td>complaint</td>\n",
       "      <td>2104</td>\n",
       "    </tr>\n",
       "    <tr>\n",
       "      <th>5372</th>\n",
       "      <td>response</td>\n",
       "      <td>1878</td>\n",
       "    </tr>\n",
       "    <tr>\n",
       "      <th>3364</th>\n",
       "      <td>internet</td>\n",
       "      <td>1756</td>\n",
       "    </tr>\n",
       "  </tbody>\n",
       "</table>\n",
       "</div>"
      ],
      "text/plain": [
       "          Words  Count\n",
       "4283     notice   2346\n",
       "5688    service   2301\n",
       "1225  complaint   2104\n",
       "5372   response   1878\n",
       "3364   internet   1756"
      ]
     },
     "execution_count": 83,
     "metadata": {},
     "output_type": "execute_result"
    }
   ],
   "source": [
    "df_tmp2 = all_description_group_df.iloc[:500].copy()\n",
    "df_tmp2.head()"
   ]
  },
  {
   "cell_type": "code",
   "execution_count": 86,
   "metadata": {},
   "outputs": [
    {
     "data": {
      "text/plain": [
       "(88389, 4)"
      ]
     },
     "execution_count": 86,
     "metadata": {},
     "output_type": "execute_result"
    }
   ],
   "source": [
    "df_tmp_words.merge(df_tmp2, on=\"Words\").shape"
   ]
  }
 ],
 "metadata": {
  "kernelspec": {
   "display_name": "Python 3.8.2 64-bit",
   "language": "python",
   "name": "python38264bit45ed358a2e464c349846d37eaffc486a"
  },
  "language_info": {
   "codemirror_mode": {
    "name": "ipython",
    "version": 3
   },
   "file_extension": ".py",
   "mimetype": "text/x-python",
   "name": "python",
   "nbconvert_exporter": "python",
   "pygments_lexer": "ipython3",
   "version": "3.8.2-final"
  }
 },
 "nbformat": 4,
 "nbformat_minor": 4
}