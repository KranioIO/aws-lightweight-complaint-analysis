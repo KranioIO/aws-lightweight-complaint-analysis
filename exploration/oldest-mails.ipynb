{
 "cells": [
  {
   "cell_type": "markdown",
   "metadata": {},
   "source": [
    "# Initial load Complaint"
   ]
  },
  {
   "cell_type": "code",
   "execution_count": 20,
   "metadata": {},
   "outputs": [],
   "source": [
    "import pandas as pd\n",
    "import boto3\n",
    "from io import BytesIO\n",
    "import gzip\n",
    "import numpy as np\n",
    "\n",
    "import seaborn as sns\n",
    "import matplotlib.pyplot as plt\n",
    "from datetime import timedelta, datetime, date\n",
    "\n",
    "AWS_REGION = 'us-east-1'\n",
    "\n",
    "s3 = boto3.client('s3')"
   ]
  },
  {
   "cell_type": "code",
   "execution_count": 21,
   "metadata": {},
   "outputs": [],
   "source": [
    "bucket = \"kranio-datalake\"\n",
    "key = \"internal/webinar/leoCamilo/raw/complaints.csv\"\n",
    "\n",
    "obj = s3.get_object(Bucket=bucket, Key=key)\n",
    "obj = BytesIO(obj['Body'].read())\n",
    "\n",
    "df_source = pd.read_csv(obj)"
   ]
  },
  {
   "cell_type": "markdown",
   "metadata": {},
   "source": [
    "# Exploratory Analysis"
   ]
  },
  {
   "cell_type": "code",
   "execution_count": 22,
   "metadata": {},
   "outputs": [
    {
     "data": {
      "text/html": [
       "<div>\n",
       "<style scoped>\n",
       "    .dataframe tbody tr th:only-of-type {\n",
       "        vertical-align: middle;\n",
       "    }\n",
       "\n",
       "    .dataframe tbody tr th {\n",
       "        vertical-align: top;\n",
       "    }\n",
       "\n",
       "    .dataframe thead th {\n",
       "        text-align: right;\n",
       "    }\n",
       "</style>\n",
       "<table border=\"1\" class=\"dataframe\">\n",
       "  <thead>\n",
       "    <tr style=\"text-align: right;\">\n",
       "      <th></th>\n",
       "      <th>Ticket #</th>\n",
       "      <th>Customer Complaint</th>\n",
       "      <th>Date</th>\n",
       "      <th>Time</th>\n",
       "      <th>Received Via</th>\n",
       "      <th>City</th>\n",
       "      <th>State</th>\n",
       "      <th>Zip code</th>\n",
       "      <th>Status</th>\n",
       "      <th>Filing on Behalf of Someone</th>\n",
       "      <th>Description</th>\n",
       "    </tr>\n",
       "  </thead>\n",
       "  <tbody>\n",
       "    <tr>\n",
       "      <th>0</th>\n",
       "      <td>250635</td>\n",
       "      <td>Comcast Cable Internet Speeds</td>\n",
       "      <td>4/22/2015</td>\n",
       "      <td>3:53:50 PM</td>\n",
       "      <td>Internet</td>\n",
       "      <td>Abingdon</td>\n",
       "      <td>Maryland</td>\n",
       "      <td>21009</td>\n",
       "      <td>Closed</td>\n",
       "      <td>No</td>\n",
       "      <td>I have been contacting Comcast Internet Techni...</td>\n",
       "    </tr>\n",
       "    <tr>\n",
       "      <th>1</th>\n",
       "      <td>223441</td>\n",
       "      <td>Payment disappear - service got disconnected</td>\n",
       "      <td>4/8/2015</td>\n",
       "      <td>10:22:56 AM</td>\n",
       "      <td>Internet</td>\n",
       "      <td>Acworth</td>\n",
       "      <td>Georgia</td>\n",
       "      <td>30102</td>\n",
       "      <td>Closed</td>\n",
       "      <td>No</td>\n",
       "      <td>Back in January 2015 I made 2 payments: One fo...</td>\n",
       "    </tr>\n",
       "    <tr>\n",
       "      <th>2</th>\n",
       "      <td>242732</td>\n",
       "      <td>Speed and Service</td>\n",
       "      <td>4/18/2015</td>\n",
       "      <td>9:55:47 AM</td>\n",
       "      <td>Internet</td>\n",
       "      <td>Acworth</td>\n",
       "      <td>Georgia</td>\n",
       "      <td>30101</td>\n",
       "      <td>Closed</td>\n",
       "      <td>Yes</td>\n",
       "      <td>Our home is located at in Acworth Georgia 3010...</td>\n",
       "    </tr>\n",
       "    <tr>\n",
       "      <th>3</th>\n",
       "      <td>277946</td>\n",
       "      <td>Comcast Imposed a New Usage Cap of 300GB that ...</td>\n",
       "      <td>5/7/2015</td>\n",
       "      <td>11:59:35 AM</td>\n",
       "      <td>Internet</td>\n",
       "      <td>Acworth</td>\n",
       "      <td>Georgia</td>\n",
       "      <td>30101</td>\n",
       "      <td>Open</td>\n",
       "      <td>Yes</td>\n",
       "      <td>Comcast in the Atlanta area has just put into ...</td>\n",
       "    </tr>\n",
       "    <tr>\n",
       "      <th>4</th>\n",
       "      <td>307175</td>\n",
       "      <td>Comcast not working and no service to boot</td>\n",
       "      <td>5/26/2015</td>\n",
       "      <td>1:25:26 PM</td>\n",
       "      <td>Internet</td>\n",
       "      <td>Acworth</td>\n",
       "      <td>Georgia</td>\n",
       "      <td>30101</td>\n",
       "      <td>Solved</td>\n",
       "      <td>No</td>\n",
       "      <td>I have been a customer of Comcast of some sort...</td>\n",
       "    </tr>\n",
       "  </tbody>\n",
       "</table>\n",
       "</div>"
      ],
      "text/plain": [
       "  Ticket #                                 Customer Complaint       Date  \\\n",
       "0   250635                      Comcast Cable Internet Speeds  4/22/2015   \n",
       "1   223441       Payment disappear - service got disconnected   4/8/2015   \n",
       "2   242732                                  Speed and Service  4/18/2015   \n",
       "3   277946  Comcast Imposed a New Usage Cap of 300GB that ...   5/7/2015   \n",
       "4   307175         Comcast not working and no service to boot  5/26/2015   \n",
       "\n",
       "          Time Received Via      City     State  Zip code  Status  \\\n",
       "0   3:53:50 PM     Internet  Abingdon  Maryland     21009  Closed   \n",
       "1  10:22:56 AM     Internet   Acworth   Georgia     30102  Closed   \n",
       "2   9:55:47 AM     Internet   Acworth   Georgia     30101  Closed   \n",
       "3  11:59:35 AM     Internet   Acworth   Georgia     30101    Open   \n",
       "4   1:25:26 PM     Internet   Acworth   Georgia     30101  Solved   \n",
       "\n",
       "  Filing on Behalf of Someone  \\\n",
       "0                          No   \n",
       "1                          No   \n",
       "2                         Yes   \n",
       "3                         Yes   \n",
       "4                          No   \n",
       "\n",
       "                                         Description  \n",
       "0  I have been contacting Comcast Internet Techni...  \n",
       "1  Back in January 2015 I made 2 payments: One fo...  \n",
       "2  Our home is located at in Acworth Georgia 3010...  \n",
       "3  Comcast in the Atlanta area has just put into ...  \n",
       "4  I have been a customer of Comcast of some sort...  "
      ]
     },
     "execution_count": 22,
     "metadata": {},
     "output_type": "execute_result"
    }
   ],
   "source": [
    "df_source.head()"
   ]
  },
  {
   "cell_type": "markdown",
   "metadata": {},
   "source": [
    "## Age in days for each ticket opened"
   ]
  },
  {
   "cell_type": "markdown",
   "metadata": {},
   "source": [
    "### Filter Columns"
   ]
  },
  {
   "cell_type": "code",
   "execution_count": 23,
   "metadata": {},
   "outputs": [],
   "source": [
    "df = df_source[[\"Ticket #\", \"Customer Complaint\", \"Date\", \"Time\", \"Status\"]]"
   ]
  },
  {
   "cell_type": "markdown",
   "metadata": {},
   "source": [
    "### Filter only opened tickets"
   ]
  },
  {
   "cell_type": "code",
   "execution_count": 24,
   "metadata": {},
   "outputs": [],
   "source": [
    "opened_tickets_indexes = df[\"Status\"] == \"Open\"\n",
    "df = df[opened_tickets_indexes]"
   ]
  },
  {
   "cell_type": "markdown",
   "metadata": {},
   "source": [
    "### Convert Date"
   ]
  },
  {
   "cell_type": "code",
   "execution_count": 25,
   "metadata": {},
   "outputs": [],
   "source": [
    "df['Date'] = pd.to_datetime(df['Date'], infer_datetime_format=True)\n",
    "df['Date'] = df['Date'].dt.date"
   ]
  },
  {
   "cell_type": "code",
   "execution_count": 26,
   "metadata": {},
   "outputs": [
    {
     "data": {
      "text/html": [
       "<div>\n",
       "<style scoped>\n",
       "    .dataframe tbody tr th:only-of-type {\n",
       "        vertical-align: middle;\n",
       "    }\n",
       "\n",
       "    .dataframe tbody tr th {\n",
       "        vertical-align: top;\n",
       "    }\n",
       "\n",
       "    .dataframe thead th {\n",
       "        text-align: right;\n",
       "    }\n",
       "</style>\n",
       "<table border=\"1\" class=\"dataframe\">\n",
       "  <thead>\n",
       "    <tr style=\"text-align: right;\">\n",
       "      <th></th>\n",
       "      <th>Ticket #</th>\n",
       "      <th>Customer Complaint</th>\n",
       "      <th>Date</th>\n",
       "      <th>Time</th>\n",
       "      <th>Status</th>\n",
       "    </tr>\n",
       "  </thead>\n",
       "  <tbody>\n",
       "    <tr>\n",
       "      <th>3</th>\n",
       "      <td>277946</td>\n",
       "      <td>Comcast Imposed a New Usage Cap of 300GB that ...</td>\n",
       "      <td>2015-05-07</td>\n",
       "      <td>11:59:35 AM</td>\n",
       "      <td>Open</td>\n",
       "    </tr>\n",
       "    <tr>\n",
       "      <th>9</th>\n",
       "      <td>371214</td>\n",
       "      <td>Comcast Raising Prices and Not Being Available...</td>\n",
       "      <td>2015-06-28</td>\n",
       "      <td>6:46:31 PM</td>\n",
       "      <td>Open</td>\n",
       "    </tr>\n",
       "    <tr>\n",
       "      <th>12</th>\n",
       "      <td>339282</td>\n",
       "      <td>Comcast Violating Open Internet Rules by Block...</td>\n",
       "      <td>2015-06-13</td>\n",
       "      <td>4:03:18 PM</td>\n",
       "      <td>Open</td>\n",
       "    </tr>\n",
       "    <tr>\n",
       "      <th>23</th>\n",
       "      <td>370538</td>\n",
       "      <td>Comcast monopoly bundling practices</td>\n",
       "      <td>2015-06-27</td>\n",
       "      <td>9:04:34 PM</td>\n",
       "      <td>Open</td>\n",
       "    </tr>\n",
       "    <tr>\n",
       "      <th>25</th>\n",
       "      <td>270163</td>\n",
       "      <td>bait and switch</td>\n",
       "      <td>2015-05-02</td>\n",
       "      <td>3:55:24 PM</td>\n",
       "      <td>Open</td>\n",
       "    </tr>\n",
       "  </tbody>\n",
       "</table>\n",
       "</div>"
      ],
      "text/plain": [
       "   Ticket #                                 Customer Complaint        Date  \\\n",
       "3    277946  Comcast Imposed a New Usage Cap of 300GB that ...  2015-05-07   \n",
       "9    371214  Comcast Raising Prices and Not Being Available...  2015-06-28   \n",
       "12   339282  Comcast Violating Open Internet Rules by Block...  2015-06-13   \n",
       "23   370538                Comcast monopoly bundling practices  2015-06-27   \n",
       "25   270163                                    bait and switch  2015-05-02   \n",
       "\n",
       "           Time Status  \n",
       "3   11:59:35 AM   Open  \n",
       "9    6:46:31 PM   Open  \n",
       "12   4:03:18 PM   Open  \n",
       "23   9:04:34 PM   Open  \n",
       "25   3:55:24 PM   Open  "
      ]
     },
     "execution_count": 26,
     "metadata": {},
     "output_type": "execute_result"
    }
   ],
   "source": [
    "df.head()"
   ]
  },
  {
   "cell_type": "markdown",
   "metadata": {},
   "source": [
    "### Calculate age in days"
   ]
  },
  {
   "cell_type": "markdown",
   "metadata": {},
   "source": [
    "The dataset has data until 30-06-2015, then we consider the last date as 01-07-2015"
   ]
  },
  {
   "cell_type": "code",
   "execution_count": 27,
   "metadata": {},
   "outputs": [],
   "source": [
    "last_date = date(2015,7,1)"
   ]
  },
  {
   "cell_type": "code",
   "execution_count": 30,
   "metadata": {},
   "outputs": [
    {
     "data": {
      "text/html": [
       "<div>\n",
       "<style scoped>\n",
       "    .dataframe tbody tr th:only-of-type {\n",
       "        vertical-align: middle;\n",
       "    }\n",
       "\n",
       "    .dataframe tbody tr th {\n",
       "        vertical-align: top;\n",
       "    }\n",
       "\n",
       "    .dataframe thead th {\n",
       "        text-align: right;\n",
       "    }\n",
       "</style>\n",
       "<table border=\"1\" class=\"dataframe\">\n",
       "  <thead>\n",
       "    <tr style=\"text-align: right;\">\n",
       "      <th></th>\n",
       "      <th>Ticket #</th>\n",
       "      <th>Customer Complaint</th>\n",
       "      <th>Date</th>\n",
       "      <th>Time</th>\n",
       "      <th>Status</th>\n",
       "      <th>age_in_days</th>\n",
       "    </tr>\n",
       "  </thead>\n",
       "  <tbody>\n",
       "    <tr>\n",
       "      <th>3</th>\n",
       "      <td>277946</td>\n",
       "      <td>Comcast Imposed a New Usage Cap of 300GB that ...</td>\n",
       "      <td>2015-05-07</td>\n",
       "      <td>11:59:35 AM</td>\n",
       "      <td>Open</td>\n",
       "      <td>55</td>\n",
       "    </tr>\n",
       "    <tr>\n",
       "      <th>9</th>\n",
       "      <td>371214</td>\n",
       "      <td>Comcast Raising Prices and Not Being Available...</td>\n",
       "      <td>2015-06-28</td>\n",
       "      <td>6:46:31 PM</td>\n",
       "      <td>Open</td>\n",
       "      <td>3</td>\n",
       "    </tr>\n",
       "    <tr>\n",
       "      <th>12</th>\n",
       "      <td>339282</td>\n",
       "      <td>Comcast Violating Open Internet Rules by Block...</td>\n",
       "      <td>2015-06-13</td>\n",
       "      <td>4:03:18 PM</td>\n",
       "      <td>Open</td>\n",
       "      <td>18</td>\n",
       "    </tr>\n",
       "    <tr>\n",
       "      <th>23</th>\n",
       "      <td>370538</td>\n",
       "      <td>Comcast monopoly bundling practices</td>\n",
       "      <td>2015-06-27</td>\n",
       "      <td>9:04:34 PM</td>\n",
       "      <td>Open</td>\n",
       "      <td>4</td>\n",
       "    </tr>\n",
       "    <tr>\n",
       "      <th>25</th>\n",
       "      <td>270163</td>\n",
       "      <td>bait and switch</td>\n",
       "      <td>2015-05-02</td>\n",
       "      <td>3:55:24 PM</td>\n",
       "      <td>Open</td>\n",
       "      <td>60</td>\n",
       "    </tr>\n",
       "  </tbody>\n",
       "</table>\n",
       "</div>"
      ],
      "text/plain": [
       "   Ticket #                                 Customer Complaint        Date  \\\n",
       "3    277946  Comcast Imposed a New Usage Cap of 300GB that ...  2015-05-07   \n",
       "9    371214  Comcast Raising Prices and Not Being Available...  2015-06-28   \n",
       "12   339282  Comcast Violating Open Internet Rules by Block...  2015-06-13   \n",
       "23   370538                Comcast monopoly bundling practices  2015-06-27   \n",
       "25   270163                                    bait and switch  2015-05-02   \n",
       "\n",
       "           Time Status  age_in_days  \n",
       "3   11:59:35 AM   Open           55  \n",
       "9    6:46:31 PM   Open            3  \n",
       "12   4:03:18 PM   Open           18  \n",
       "23   9:04:34 PM   Open            4  \n",
       "25   3:55:24 PM   Open           60  "
      ]
     },
     "execution_count": 30,
     "metadata": {},
     "output_type": "execute_result"
    }
   ],
   "source": [
    "df_age = last_date - df['Date']\n",
    "df['age_in_days'] = df_age.dt.days\n",
    "df.head()"
   ]
  },
  {
   "cell_type": "markdown",
   "metadata": {},
   "source": [
    "### Order for the oldest opened ticket"
   ]
  },
  {
   "cell_type": "code",
   "execution_count": 31,
   "metadata": {
    "scrolled": true
   },
   "outputs": [
    {
     "data": {
      "text/html": [
       "<div>\n",
       "<style scoped>\n",
       "    .dataframe tbody tr th:only-of-type {\n",
       "        vertical-align: middle;\n",
       "    }\n",
       "\n",
       "    .dataframe tbody tr th {\n",
       "        vertical-align: top;\n",
       "    }\n",
       "\n",
       "    .dataframe thead th {\n",
       "        text-align: right;\n",
       "    }\n",
       "</style>\n",
       "<table border=\"1\" class=\"dataframe\">\n",
       "  <thead>\n",
       "    <tr style=\"text-align: right;\">\n",
       "      <th></th>\n",
       "      <th>Ticket #</th>\n",
       "      <th>Customer Complaint</th>\n",
       "      <th>Date</th>\n",
       "      <th>Time</th>\n",
       "      <th>Status</th>\n",
       "      <th>age_in_days</th>\n",
       "    </tr>\n",
       "  </thead>\n",
       "  <tbody>\n",
       "    <tr>\n",
       "      <th>1159</th>\n",
       "      <td>213817</td>\n",
       "      <td>comcast billing shutting off service</td>\n",
       "      <td>2015-04-02</td>\n",
       "      <td>11:23:54 AM</td>\n",
       "      <td>Open</td>\n",
       "      <td>90</td>\n",
       "    </tr>\n",
       "    <tr>\n",
       "      <th>757</th>\n",
       "      <td>215802</td>\n",
       "      <td>Unclear policies</td>\n",
       "      <td>2015-04-03</td>\n",
       "      <td>9:22:46 AM</td>\n",
       "      <td>Open</td>\n",
       "      <td>89</td>\n",
       "    </tr>\n",
       "    <tr>\n",
       "      <th>1693</th>\n",
       "      <td>234479</td>\n",
       "      <td>interne speed</td>\n",
       "      <td>2015-04-14</td>\n",
       "      <td>12:32:35 PM</td>\n",
       "      <td>Open</td>\n",
       "      <td>78</td>\n",
       "    </tr>\n",
       "    <tr>\n",
       "      <th>956</th>\n",
       "      <td>244172</td>\n",
       "      <td>Internet Only Deal</td>\n",
       "      <td>2015-04-20</td>\n",
       "      <td>9:45:51 AM</td>\n",
       "      <td>Open</td>\n",
       "      <td>72</td>\n",
       "    </tr>\n",
       "    <tr>\n",
       "      <th>681</th>\n",
       "      <td>244215</td>\n",
       "      <td>Poor service</td>\n",
       "      <td>2015-04-20</td>\n",
       "      <td>10:14:44 AM</td>\n",
       "      <td>Open</td>\n",
       "      <td>72</td>\n",
       "    </tr>\n",
       "  </tbody>\n",
       "</table>\n",
       "</div>"
      ],
      "text/plain": [
       "     Ticket #                    Customer Complaint        Date         Time  \\\n",
       "1159   213817  comcast billing shutting off service  2015-04-02  11:23:54 AM   \n",
       "757    215802                      Unclear policies  2015-04-03   9:22:46 AM   \n",
       "1693   234479                         interne speed  2015-04-14  12:32:35 PM   \n",
       "956    244172                    Internet Only Deal  2015-04-20   9:45:51 AM   \n",
       "681    244215                          Poor service  2015-04-20  10:14:44 AM   \n",
       "\n",
       "     Status  age_in_days  \n",
       "1159   Open           90  \n",
       "757    Open           89  \n",
       "1693   Open           78  \n",
       "956    Open           72  \n",
       "681    Open           72  "
      ]
     },
     "execution_count": 31,
     "metadata": {},
     "output_type": "execute_result"
    }
   ],
   "source": [
    "df = df.sort_values(by=['age_in_days'], ascending=False)\n",
    "df.head()"
   ]
  },
  {
   "cell_type": "markdown",
   "metadata": {},
   "source": [
    "### Calculate year,month,day from age in days"
   ]
  },
  {
   "cell_type": "code",
   "execution_count": 32,
   "metadata": {},
   "outputs": [
    {
     "data": {
      "text/html": [
       "<div>\n",
       "<style scoped>\n",
       "    .dataframe tbody tr th:only-of-type {\n",
       "        vertical-align: middle;\n",
       "    }\n",
       "\n",
       "    .dataframe tbody tr th {\n",
       "        vertical-align: top;\n",
       "    }\n",
       "\n",
       "    .dataframe thead th {\n",
       "        text-align: right;\n",
       "    }\n",
       "</style>\n",
       "<table border=\"1\" class=\"dataframe\">\n",
       "  <thead>\n",
       "    <tr style=\"text-align: right;\">\n",
       "      <th></th>\n",
       "      <th>Ticket #</th>\n",
       "      <th>Customer Complaint</th>\n",
       "      <th>Date</th>\n",
       "      <th>Time</th>\n",
       "      <th>Status</th>\n",
       "      <th>age_in_days</th>\n",
       "      <th>age_in_year_month_day</th>\n",
       "    </tr>\n",
       "  </thead>\n",
       "  <tbody>\n",
       "    <tr>\n",
       "      <th>1159</th>\n",
       "      <td>213817</td>\n",
       "      <td>comcast billing shutting off service</td>\n",
       "      <td>2015-04-02</td>\n",
       "      <td>11:23:54 AM</td>\n",
       "      <td>Open</td>\n",
       "      <td>90</td>\n",
       "      <td>3 months</td>\n",
       "    </tr>\n",
       "    <tr>\n",
       "      <th>757</th>\n",
       "      <td>215802</td>\n",
       "      <td>Unclear policies</td>\n",
       "      <td>2015-04-03</td>\n",
       "      <td>9:22:46 AM</td>\n",
       "      <td>Open</td>\n",
       "      <td>89</td>\n",
       "      <td>2 months 29 days</td>\n",
       "    </tr>\n",
       "    <tr>\n",
       "      <th>1693</th>\n",
       "      <td>234479</td>\n",
       "      <td>interne speed</td>\n",
       "      <td>2015-04-14</td>\n",
       "      <td>12:32:35 PM</td>\n",
       "      <td>Open</td>\n",
       "      <td>78</td>\n",
       "      <td>2 months 18 days</td>\n",
       "    </tr>\n",
       "    <tr>\n",
       "      <th>956</th>\n",
       "      <td>244172</td>\n",
       "      <td>Internet Only Deal</td>\n",
       "      <td>2015-04-20</td>\n",
       "      <td>9:45:51 AM</td>\n",
       "      <td>Open</td>\n",
       "      <td>72</td>\n",
       "      <td>2 months 12 days</td>\n",
       "    </tr>\n",
       "    <tr>\n",
       "      <th>681</th>\n",
       "      <td>244215</td>\n",
       "      <td>Poor service</td>\n",
       "      <td>2015-04-20</td>\n",
       "      <td>10:14:44 AM</td>\n",
       "      <td>Open</td>\n",
       "      <td>72</td>\n",
       "      <td>2 months 12 days</td>\n",
       "    </tr>\n",
       "  </tbody>\n",
       "</table>\n",
       "</div>"
      ],
      "text/plain": [
       "     Ticket #                    Customer Complaint        Date         Time  \\\n",
       "1159   213817  comcast billing shutting off service  2015-04-02  11:23:54 AM   \n",
       "757    215802                      Unclear policies  2015-04-03   9:22:46 AM   \n",
       "1693   234479                         interne speed  2015-04-14  12:32:35 PM   \n",
       "956    244172                    Internet Only Deal  2015-04-20   9:45:51 AM   \n",
       "681    244215                          Poor service  2015-04-20  10:14:44 AM   \n",
       "\n",
       "     Status  age_in_days age_in_year_month_day  \n",
       "1159   Open           90              3 months  \n",
       "757    Open           89      2 months 29 days  \n",
       "1693   Open           78      2 months 18 days  \n",
       "956    Open           72      2 months 12 days  \n",
       "681    Open           72      2 months 12 days  "
      ]
     },
     "execution_count": 32,
     "metadata": {},
     "output_type": "execute_result"
    }
   ],
   "source": [
    "DAYS_IN_MONTH = 30\n",
    "\n",
    "def convert_age_in_days(age_in_days):\n",
    "    year = int(age_in_days / 365)\n",
    "    month = int((age_in_days % 365) / DAYS_IN_MONTH)\n",
    "    days = (age_in_days % 365) % DAYS_IN_MONTH\n",
    "    \n",
    "    age_in_year_month_day = []\n",
    "    \n",
    "    if year:\n",
    "        age_in_year_month_day.append(\"%s years\" % year)\n",
    "    \n",
    "    if month:\n",
    "        age_in_year_month_day.append(\"%s months\" % month)\n",
    "    \n",
    "    if days:\n",
    "        age_in_year_month_day.append(\"%s days\" % days)\n",
    "        \n",
    "    age_in_year_month_day = \" \".join(age_in_year_month_day)\n",
    "    return age_in_year_month_day\n",
    "\n",
    "df['age_in_year_month_day'] = df['age_in_days'].apply(convert_age_in_days)\n",
    "\n",
    "df.head()"
   ]
  },
  {
   "cell_type": "markdown",
   "metadata": {},
   "source": [
    "### Group tickets by date"
   ]
  },
  {
   "cell_type": "code",
   "execution_count": 33,
   "metadata": {},
   "outputs": [
    {
     "data": {
      "text/html": [
       "<div>\n",
       "<style scoped>\n",
       "    .dataframe tbody tr th:only-of-type {\n",
       "        vertical-align: middle;\n",
       "    }\n",
       "\n",
       "    .dataframe tbody tr th {\n",
       "        vertical-align: top;\n",
       "    }\n",
       "\n",
       "    .dataframe thead th {\n",
       "        text-align: right;\n",
       "    }\n",
       "</style>\n",
       "<table border=\"1\" class=\"dataframe\">\n",
       "  <thead>\n",
       "    <tr style=\"text-align: right;\">\n",
       "      <th></th>\n",
       "      <th>Date</th>\n",
       "      <th>Ticket #</th>\n",
       "    </tr>\n",
       "  </thead>\n",
       "  <tbody>\n",
       "    <tr>\n",
       "      <th>0</th>\n",
       "      <td>2015-04-02</td>\n",
       "      <td>1</td>\n",
       "    </tr>\n",
       "    <tr>\n",
       "      <th>1</th>\n",
       "      <td>2015-04-03</td>\n",
       "      <td>1</td>\n",
       "    </tr>\n",
       "    <tr>\n",
       "      <th>2</th>\n",
       "      <td>2015-04-14</td>\n",
       "      <td>1</td>\n",
       "    </tr>\n",
       "    <tr>\n",
       "      <th>3</th>\n",
       "      <td>2015-04-20</td>\n",
       "      <td>2</td>\n",
       "    </tr>\n",
       "    <tr>\n",
       "      <th>4</th>\n",
       "      <td>2015-04-22</td>\n",
       "      <td>2</td>\n",
       "    </tr>\n",
       "  </tbody>\n",
       "</table>\n",
       "</div>"
      ],
      "text/plain": [
       "         Date  Ticket #\n",
       "0  2015-04-02         1\n",
       "1  2015-04-03         1\n",
       "2  2015-04-14         1\n",
       "3  2015-04-20         2\n",
       "4  2015-04-22         2"
      ]
     },
     "execution_count": 33,
     "metadata": {},
     "output_type": "execute_result"
    }
   ],
   "source": [
    "grouped_tickets_by_date = df[[\"Date\", \"Ticket #\"]].groupby([\"Date\"], as_index=False)\n",
    "grouped_tickets_by_date = grouped_tickets_by_date.count()\n",
    "grouped_tickets_by_date = grouped_tickets_by_date.sort_values(by=['Date'])\n",
    "\n",
    "grouped_tickets_by_date.head()"
   ]
  },
  {
   "cell_type": "markdown",
   "metadata": {},
   "source": [
    "# Results"
   ]
  },
  {
   "cell_type": "code",
   "execution_count": 37,
   "metadata": {},
   "outputs": [
    {
     "data": {
      "text/plain": [
       "'[{\"Ticket #\":\"213817\",\"Customer Complaint\":\"comcast billing shutting off service\",\"Date\":\"2015-04-02T00:00:00.000Z\",\"Time\":\"11:23:54 AM\",\"Status\":\"Open\",\"age_in_days\":90,\"age_in_year_month_day\":\"3 months\"},{\"Ticket #\":\"215802\",\"Customer Complaint\":\"Unclear policies\",\"Date\":\"2015-04-03T00:00:00.000Z\",\"Time\":\"9:22:46 AM\",\"Status\":\"Open\",\"age_in_days\":89,\"age_in_year_month_day\":\"2 months 29 days\"},{\"Ticket #\":\"234479\",\"Customer Complaint\":\"interne speed\",\"Date\":\"2015-04-14T00:00:00.000Z\",\"Time\":\"12:32:35 PM\",\"Status\":\"Open\",\"age_in_days\":78,\"age_in_year_month_day\":\"2 months 18 days\"},{\"Ticket #\":\"244172\",\"Customer Complaint\":\"Internet Only Deal\",\"Date\":\"2015-04-20T00:00:00.000Z\",\"Time\":\"9:45:51 AM\",\"Status\":\"Open\",\"age_in_days\":72,\"age_in_year_month_day\":\"2 months 12 days\"},{\"Ticket #\":\"244215\",\"Customer Complaint\":\"Poor service\",\"Date\":\"2015-04-20T00:00:00.000Z\",\"Time\":\"10:14:44 AM\",\"Status\":\"Open\",\"age_in_days\":72,\"age_in_year_month_day\":\"2 months 12 days\"},{\"Ticket #\":\"249466\",\"Customer Complaint\":\"Never resolved problem with Comcast\",\"Date\":\"2015-04-22T00:00:00.000Z\",\"Time\":\"8:45:14 AM\",\"Status\":\"Open\",\"age_in_days\":70,\"age_in_year_month_day\":\"2 months 10 days\"},{\"Ticket #\":\"250437\",\"Customer Complaint\":\"Comcast Internet\\\\/Cable TV package\",\"Date\":\"2015-04-22T00:00:00.000Z\",\"Time\":\"2:46:32 PM\",\"Status\":\"Open\",\"age_in_days\":70,\"age_in_year_month_day\":\"2 months 10 days\"},{\"Ticket #\":\"252877\",\"Customer Complaint\":\"Comcast Charges\",\"Date\":\"2015-04-23T00:00:00.000Z\",\"Time\":\"3:20:54 PM\",\"Status\":\"Open\",\"age_in_days\":69,\"age_in_year_month_day\":\"2 months 9 days\"},{\"Ticket #\":\"252368\",\"Customer Complaint\":\"I AM BEING CHARGE DOUBLE FOR MY CABLE BILL.\",\"Date\":\"2015-04-23T00:00:00.000Z\",\"Time\":\"12:56:29 PM\",\"Status\":\"Open\",\"age_in_days\":69,\"age_in_year_month_day\":\"2 months 9 days\"},{\"Ticket #\":\"257349\",\"Customer Complaint\":\"Comcast Internet Service\",\"Date\":\"2015-04-25T00:00:00.000Z\",\"Time\":\"8:09:47 PM\",\"Status\":\"Open\",\"age_in_days\":67,\"age_in_year_month_day\":\"2 months 7 days\"},{\"Ticket #\":\"257323\",\"Customer Complaint\":\"Comcast blocking HBO Go on Playstation systems\",\"Date\":\"2015-04-25T00:00:00.000Z\",\"Time\":\"7:45:04 PM\",\"Status\":\"Open\",\"age_in_days\":67,\"age_in_year_month_day\":\"2 months 7 days\"},{\"Ticket #\":\"268789\",\"Customer Complaint\":\"about comcast\",\"Date\":\"2015-05-01T00:00:00.000Z\",\"Time\":\"2:04:56 PM\",\"Status\":\"Open\",\"age_in_days\":61,\"age_in_year_month_day\":\"2 months 1 days\"},{\"Ticket #\":\"268773\",\"Customer Complaint\":\"Poor service from Comcast Xfinity\",\"Date\":\"2015-05-01T00:00:00.000Z\",\"Time\":\"2:01:54 PM\",\"Status\":\"Open\",\"age_in_days\":61,\"age_in_year_month_day\":\"2 months 1 days\"},{\"Ticket #\":\"268362\",\"Customer Complaint\":\"tInternet Service Provider Complaint\",\"Date\":\"2015-05-01T00:00:00.000Z\",\"Time\":\"11:51:11 AM\",\"Status\":\"Open\",\"age_in_days\":61,\"age_in_year_month_day\":\"2 months 1 days\"},{\"Ticket #\":\"270163\",\"Customer Complaint\":\"bait and switch\",\"Date\":\"2015-05-02T00:00:00.000Z\",\"Time\":\"3:55:24 PM\",\"Status\":\"Open\",\"age_in_days\":60,\"age_in_year_month_day\":\"2 months\"},{\"Ticket #\":\"270364\",\"Customer Complaint\":\"No internet, no cable\",\"Date\":\"2015-05-02T00:00:00.000Z\",\"Time\":\"9:14:09 PM\",\"Status\":\"Open\",\"age_in_days\":60,\"age_in_year_month_day\":\"2 months\"},{\"Ticket #\":\"272382\",\"Customer Complaint\":\"Comcast\",\"Date\":\"2015-05-04T00:00:00.000Z\",\"Time\":\"5:19:59 PM\",\"Status\":\"Open\",\"age_in_days\":58,\"age_in_year_month_day\":\"1 months 28 days\"},{\"Ticket #\":\"273199\",\"Customer Complaint\":\"COMCAST High speed internet\",\"Date\":\"2015-05-05T00:00:00.000Z\",\"Time\":\"10:13:08 AM\",\"Status\":\"Open\",\"age_in_days\":57,\"age_in_year_month_day\":\"1 months 27 days\"},{\"Ticket #\":\"274956\",\"Customer Complaint\":\"Internet connection both upload and download speeds\",\"Date\":\"2015-05-05T00:00:00.000Z\",\"Time\":\"7:34:03 PM\",\"Status\":\"Open\",\"age_in_days\":57,\"age_in_year_month_day\":\"1 months 27 days\"},{\"Ticket #\":\"279279\",\"Customer Complaint\":\"Comcast Cable connection from street is underwater and structure is too high\",\"Date\":\"2015-05-07T00:00:00.000Z\",\"Time\":\"7:52:46 PM\",\"Status\":\"Open\",\"age_in_days\":55,\"age_in_year_month_day\":\"1 months 25 days\"},{\"Ticket #\":\"279378\",\"Customer Complaint\":\"Forced Bundling of Internet Service with CATV\",\"Date\":\"2015-05-07T00:00:00.000Z\",\"Time\":\"9:16:13 PM\",\"Status\":\"Open\",\"age_in_days\":55,\"age_in_year_month_day\":\"1 months 25 days\"},{\"Ticket #\":\"279007\",\"Customer Complaint\":\"Comcast move\",\"Date\":\"2015-05-07T00:00:00.000Z\",\"Time\":\"5:36:43 PM\",\"Status\":\"Open\",\"age_in_days\":55,\"age_in_year_month_day\":\"1 months 25 days\"},{\"Ticket #\":\"277946\",\"Customer Complaint\":\"Comcast Imposed a New Usage Cap of 300GB that punishes streaming.\",\"Date\":\"2015-05-07T00:00:00.000Z\",\"Time\":\"11:59:35 AM\",\"Status\":\"Open\",\"age_in_days\":55,\"age_in_year_month_day\":\"1 months 25 days\"},{\"Ticket #\":\"278509\",\"Customer Complaint\":\"Data caps\",\"Date\":\"2015-05-07T00:00:00.000Z\",\"Time\":\"2:55:45 PM\",\"Status\":\"Open\",\"age_in_days\":55,\"age_in_year_month_day\":\"1 months 25 days\"},{\"Ticket #\":\"281231\",\"Customer Complaint\":\"Incorrect billing\",\"Date\":\"2015-05-08T00:00:00.000Z\",\"Time\":\"7:11:19 PM\",\"Status\":\"Open\",\"age_in_days\":54,\"age_in_year_month_day\":\"1 months 24 days\"},{\"Ticket #\":\"281318\",\"Customer Complaint\":\"Comcast deception\",\"Date\":\"2015-05-08T00:00:00.000Z\",\"Time\":\"8:16:21 PM\",\"Status\":\"Open\",\"age_in_days\":54,\"age_in_year_month_day\":\"1 months 24 days\"},{\"Ticket #\":\"282265\",\"Customer Complaint\":\"Comcast Internet Poor Service\",\"Date\":\"2015-05-09T00:00:00.000Z\",\"Time\":\"11:04:43 PM\",\"Status\":\"Open\",\"age_in_days\":53,\"age_in_year_month_day\":\"1 months 23 days\"},{\"Ticket #\":\"282025\",\"Customer Complaint\":\"Charged for Cable Modem Rental that I have owned for 8 years\",\"Date\":\"2015-05-09T00:00:00.000Z\",\"Time\":\"4:03:56 PM\",\"Status\":\"Open\",\"age_in_days\":53,\"age_in_year_month_day\":\"1 months 23 days\"},{\"Ticket #\":\"284592\",\"Customer Complaint\":\"Lied to by Comcast\",\"Date\":\"2015-05-11T00:00:00.000Z\",\"Time\":\"8:27:54 PM\",\"Status\":\"Open\",\"age_in_days\":51,\"age_in_year_month_day\":\"1 months 21 days\"},{\"Ticket #\":\"284195\",\"Customer Complaint\":\"Comcast\",\"Date\":\"2015-05-11T00:00:00.000Z\",\"Time\":\"5:25:20 PM\",\"Status\":\"Open\",\"age_in_days\":51,\"age_in_year_month_day\":\"1 months 21 days\"},{\"Ticket #\":\"285615\",\"Customer Complaint\":\"Internet Speeds Not as Advertised\",\"Date\":\"2015-05-12T00:00:00.000Z\",\"Time\":\"1:23:23 PM\",\"Status\":\"Open\",\"age_in_days\":50,\"age_in_year_month_day\":\"1 months 20 days\"},{\"Ticket #\":\"286994\",\"Customer Complaint\":\"Comcast data usage cap\",\"Date\":\"2015-05-13T00:00:00.000Z\",\"Time\":\"2:54:18 AM\",\"Status\":\"Open\",\"age_in_days\":49,\"age_in_year_month_day\":\"1 months 19 days\"},{\"Ticket #\":\"288851\",\"Customer Complaint\":\"Comcast Data Caps\",\"Date\":\"2015-05-13T00:00:00.000Z\",\"Time\":\"8:45:21 PM\",\"Status\":\"Open\",\"age_in_days\":49,\"age_in_year_month_day\":\"1 months 19 days\"},{\"Ticket #\":\"286995\",\"Customer Complaint\":\"Comcast Data Cap\",\"Date\":\"2015-05-13T00:00:00.000Z\",\"Time\":\"3:04:28 AM\",\"Status\":\"Open\",\"age_in_days\":49,\"age_in_year_month_day\":\"1 months 19 days\"},{\"Ticket #\":\"287000\",\"Customer Complaint\":\"Xfinity Throttling Apple TV bitrate\",\"Date\":\"2015-05-13T00:00:00.000Z\",\"Time\":\"3:15:58 AM\",\"Status\":\"Open\",\"age_in_days\":49,\"age_in_year_month_day\":\"1 months 19 days\"},{\"Ticket #\":\"288771\",\"Customer Complaint\":\"Comcast Misled With Overage Policy\",\"Date\":\"2015-05-13T00:00:00.000Z\",\"Time\":\"7:55:53 PM\",\"Status\":\"Open\",\"age_in_days\":49,\"age_in_year_month_day\":\"1 months 19 days\"},{\"Ticket #\":\"290941\",\"Customer Complaint\":\"Stop The CAP\",\"Date\":\"2015-05-14T00:00:00.000Z\",\"Time\":\"7:34:26 PM\",\"Status\":\"Open\",\"age_in_days\":48,\"age_in_year_month_day\":\"1 months 18 days\"},{\"Ticket #\":\"291044\",\"Customer Complaint\":\"Datacaps\",\"Date\":\"2015-05-14T00:00:00.000Z\",\"Time\":\"8:42:22 PM\",\"Status\":\"Open\",\"age_in_days\":48,\"age_in_year_month_day\":\"1 months 18 days\"},{\"Ticket #\":\"292598\",\"Customer Complaint\":\"Billing for equipment that was not provided to me\",\"Date\":\"2015-05-15T00:00:00.000Z\",\"Time\":\"5:48:59 PM\",\"Status\":\"Open\",\"age_in_days\":47,\"age_in_year_month_day\":\"1 months 17 days\"},{\"Ticket #\":\"291175\",\"Customer Complaint\":\"Data Caps\",\"Date\":\"2015-05-15T00:00:00.000Z\",\"Time\":\"2:17:50 AM\",\"Status\":\"Open\",\"age_in_days\":47,\"age_in_year_month_day\":\"1 months 17 days\"},{\"Ticket #\":\"293593\",\"Customer Complaint\":\"email sdervice\",\"Date\":\"2015-05-16T00:00:00.000Z\",\"Time\":\"6:05:47 PM\",\"Status\":\"Open\",\"age_in_days\":46,\"age_in_year_month_day\":\"1 months 16 days\"},{\"Ticket #\":\"293693\",\"Customer Complaint\":\"Comcast\",\"Date\":\"2015-05-16T00:00:00.000Z\",\"Time\":\"8:17:04 PM\",\"Status\":\"Open\",\"age_in_days\":46,\"age_in_year_month_day\":\"1 months 16 days\"},{\"Ticket #\":\"293734\",\"Customer Complaint\":\"Lost Internet Service\",\"Date\":\"2015-05-16T00:00:00.000Z\",\"Time\":\"9:46:00 PM\",\"Status\":\"Open\",\"age_in_days\":46,\"age_in_year_month_day\":\"1 months 16 days\"},{\"Ticket #\":\"293685\",\"Customer Complaint\":\"High Speed internet\",\"Date\":\"2015-05-16T00:00:00.000Z\",\"Time\":\"7:54:11 PM\",\"Status\":\"Open\",\"age_in_days\":46,\"age_in_year_month_day\":\"1 months 16 days\"},{\"Ticket #\":\"294846\",\"Customer Complaint\":\"Comcast Speed Issues\",\"Date\":\"2015-05-18T00:00:00.000Z\",\"Time\":\"12:52:13 PM\",\"Status\":\"Open\",\"age_in_days\":44,\"age_in_year_month_day\":\"1 months 14 days\"},{\"Ticket #\":\"299683\",\"Customer Complaint\":\"bait and switch\",\"Date\":\"2015-05-20T00:00:00.000Z\",\"Time\":\"3:46:39 PM\",\"Status\":\"Open\",\"age_in_days\":42,\"age_in_year_month_day\":\"1 months 12 days\"},{\"Ticket #\":\"298980\",\"Customer Complaint\":\"Improper Billing and non resolution of issues\",\"Date\":\"2015-05-20T00:00:00.000Z\",\"Time\":\"12:46:31 PM\",\"Status\":\"Open\",\"age_in_days\":42,\"age_in_year_month_day\":\"1 months 12 days\"},{\"Ticket #\":\"299364\",\"Customer Complaint\":\"Outage of Internet service 5\\\\/19\\\\/2015, and attitude of Cust Svc rep\",\"Date\":\"2015-05-20T00:00:00.000Z\",\"Time\":\"2:35:32 PM\",\"Status\":\"Open\",\"age_in_days\":42,\"age_in_year_month_day\":\"1 months 12 days\"},{\"Ticket #\":\"299334\",\"Customer Complaint\":\"Comcast Data Overage Charges\",\"Date\":\"2015-05-20T00:00:00.000Z\",\"Time\":\"2:27:55 PM\",\"Status\":\"Open\",\"age_in_days\":42,\"age_in_year_month_day\":\"1 months 12 days\"},{\"Ticket #\":\"299168\",\"Customer Complaint\":\"Comcast internet performance\",\"Date\":\"2015-05-20T00:00:00.000Z\",\"Time\":\"1:47:14 PM\",\"Status\":\"Open\",\"age_in_days\":42,\"age_in_year_month_day\":\"1 months 12 days\"},{\"Ticket #\":\"300123\",\"Customer Complaint\":\"Comcast internet\",\"Date\":\"2015-05-20T00:00:00.000Z\",\"Time\":\"5:47:44 PM\",\"Status\":\"Open\",\"age_in_days\":42,\"age_in_year_month_day\":\"1 months 12 days\"},{\"Ticket #\":\"301499\",\"Customer Complaint\":\"Deceptive and false contract on Business Comcast for Service Call\",\"Date\":\"2015-05-21T00:00:00.000Z\",\"Time\":\"2:30:09 PM\",\"Status\":\"Open\",\"age_in_days\":41,\"age_in_year_month_day\":\"1 months 11 days\"},{\"Ticket #\":\"302629\",\"Customer Complaint\":\"installation fee\",\"Date\":\"2015-05-21T00:00:00.000Z\",\"Time\":\"9:33:25 PM\",\"Status\":\"Open\",\"age_in_days\":41,\"age_in_year_month_day\":\"1 months 11 days\"},{\"Ticket #\":\"302574\",\"Customer Complaint\":\"pmts\",\"Date\":\"2015-05-21T00:00:00.000Z\",\"Time\":\"8:53:29 PM\",\"Status\":\"Open\",\"age_in_days\":41,\"age_in_year_month_day\":\"1 months 11 days\"},{\"Ticket #\":\"300802\",\"Customer Complaint\":\"Comcast Data cap\",\"Date\":\"2015-05-21T00:00:00.000Z\",\"Time\":\"9:05:26 AM\",\"Status\":\"Open\",\"age_in_days\":41,\"age_in_year_month_day\":\"1 months 11 days\"},{\"Ticket #\":\"300824\",\"Customer Complaint\":\"INTERNET , BILLING AND SERVIE ISSUES\",\"Date\":\"2015-05-21T00:00:00.000Z\",\"Time\":\"9:34:19 AM\",\"Status\":\"Open\",\"age_in_days\":41,\"age_in_year_month_day\":\"1 months 11 days\"},{\"Ticket #\":\"302143\",\"Customer Complaint\":\"Comcast Mistreatment\",\"Date\":\"2015-05-21T00:00:00.000Z\",\"Time\":\"5:26:47 PM\",\"Status\":\"Open\",\"age_in_days\":41,\"age_in_year_month_day\":\"1 months 11 days\"},{\"Ticket #\":\"303296\",\"Customer Complaint\":\"Data Caps\",\"Date\":\"2015-05-22T00:00:00.000Z\",\"Time\":\"12:32:45 PM\",\"Status\":\"Open\",\"age_in_days\":40,\"age_in_year_month_day\":\"1 months 10 days\"},{\"Ticket #\":\"303539\",\"Customer Complaint\":\"Comcast\",\"Date\":\"2015-05-22T00:00:00.000Z\",\"Time\":\"2:01:12 PM\",\"Status\":\"Open\",\"age_in_days\":40,\"age_in_year_month_day\":\"1 months 10 days\"},{\"Ticket #\":\"305137\",\"Customer Complaint\":\"Comcast disconnecting service before due date\",\"Date\":\"2015-05-23T00:00:00.000Z\",\"Time\":\"11:34:43 PM\",\"Status\":\"Open\",\"age_in_days\":39,\"age_in_year_month_day\":\"1 months 9 days\"},{\"Ticket #\":\"304454\",\"Customer Complaint\":\"Comcast data caps\",\"Date\":\"2015-05-23T00:00:00.000Z\",\"Time\":\"12:23:38 AM\",\"Status\":\"Open\",\"age_in_days\":39,\"age_in_year_month_day\":\"1 months 9 days\"},{\"Ticket #\":\"304450\",\"Customer Complaint\":\"Data Caps\",\"Date\":\"2015-05-23T00:00:00.000Z\",\"Time\":\"12:05:55 AM\",\"Status\":\"Open\",\"age_in_days\":39,\"age_in_year_month_day\":\"1 months 9 days\"},{\"Ticket #\":\"305260\",\"Customer Complaint\":\"Ask Comcast to fix internet connection of my home\",\"Date\":\"2015-05-24T00:00:00.000Z\",\"Time\":\"11:44:00 AM\",\"Status\":\"Open\",\"age_in_days\":38,\"age_in_year_month_day\":\"1 months 8 days\"},{\"Ticket #\":\"305399\",\"Customer Complaint\":\"Comcast fradulently gets contract signed by my wife\",\"Date\":\"2015-05-24T00:00:00.000Z\",\"Time\":\"5:15:10 PM\",\"Status\":\"Open\",\"age_in_days\":38,\"age_in_year_month_day\":\"1 months 8 days\"},{\"Ticket #\":\"305166\",\"Customer Complaint\":\"comcst data cap\",\"Date\":\"2015-05-24T00:00:00.000Z\",\"Time\":\"12:34:08 AM\",\"Status\":\"Open\",\"age_in_days\":38,\"age_in_year_month_day\":\"1 months 8 days\"},{\"Ticket #\":\"305982\",\"Customer Complaint\":\"comcast data cap\",\"Date\":\"2015-05-25T00:00:00.000Z\",\"Time\":\"3:34:56 PM\",\"Status\":\"Open\",\"age_in_days\":37,\"age_in_year_month_day\":\"1 months 7 days\"},{\"Ticket #\":\"306219\",\"Customer Complaint\":\"Comcast - internet service complaint\",\"Date\":\"2015-05-25T00:00:00.000Z\",\"Time\":\"9:20:40 PM\",\"Status\":\"Open\",\"age_in_days\":37,\"age_in_year_month_day\":\"1 months 7 days\"},{\"Ticket #\":\"306039\",\"Customer Complaint\":\"Over billing Comcast\",\"Date\":\"2015-05-25T00:00:00.000Z\",\"Time\":\"4:43:43 PM\",\"Status\":\"Open\",\"age_in_days\":37,\"age_in_year_month_day\":\"1 months 7 days\"},{\"Ticket #\":\"305594\",\"Customer Complaint\":\"Comcast is giving me poor quality customer service.\",\"Date\":\"2015-05-25T00:00:00.000Z\",\"Time\":\"3:05:36 AM\",\"Status\":\"Open\",\"age_in_days\":37,\"age_in_year_month_day\":\"1 months 7 days\"},{\"Ticket #\":\"305929\",\"Customer Complaint\":\"Comcast refused to install internet\",\"Date\":\"2015-05-25T00:00:00.000Z\",\"Time\":\"2:52:58 PM\",\"Status\":\"Open\",\"age_in_days\":37,\"age_in_year_month_day\":\"1 months 7 days\"},{\"Ticket #\":\"307493\",\"Customer Complaint\":\"Comcast\",\"Date\":\"2015-05-26T00:00:00.000Z\",\"Time\":\"2:34:57 PM\",\"Status\":\"Open\",\"age_in_days\":36,\"age_in_year_month_day\":\"1 months 6 days\"},{\"Ticket #\":\"306807\",\"Customer Complaint\":\"Comcast bundle billing\",\"Date\":\"2015-05-26T00:00:00.000Z\",\"Time\":\"11:30:09 AM\",\"Status\":\"Open\",\"age_in_days\":36,\"age_in_year_month_day\":\"1 months 6 days\"},{\"Ticket #\":\"308301\",\"Customer Complaint\":\"Comcast Billing Complaint\",\"Date\":\"2015-05-26T00:00:00.000Z\",\"Time\":\"7:59:11 PM\",\"Status\":\"Open\",\"age_in_days\":36,\"age_in_year_month_day\":\"1 months 6 days\"},{\"Ticket #\":\"307472\",\"Customer Complaint\":\"Comcast Refund and discontinue Service billing\",\"Date\":\"2015-05-26T00:00:00.000Z\",\"Time\":\"2:28:50 PM\",\"Status\":\"Open\",\"age_in_days\":36,\"age_in_year_month_day\":\"1 months 6 days\"},{\"Ticket #\":\"307604\",\"Customer Complaint\":\"Comcast has a monopoly on our internet\",\"Date\":\"2015-05-26T00:00:00.000Z\",\"Time\":\"3:20:26 PM\",\"Status\":\"Open\",\"age_in_days\":36,\"age_in_year_month_day\":\"1 months 6 days\"},{\"Ticket #\":\"308648\",\"Customer Complaint\":\"I pay for 25Mbps internet but get less than 3Mbps\",\"Date\":\"2015-05-27T00:00:00.000Z\",\"Time\":\"1:55:13 AM\",\"Status\":\"Open\",\"age_in_days\":35,\"age_in_year_month_day\":\"1 months 5 days\"},{\"Ticket #\":\"309213\",\"Customer Complaint\":\"Billed for modem rental for several years, Comcast refuses to refund under \\\\\"caveat emptor\\\\\"\",\"Date\":\"2015-05-27T00:00:00.000Z\",\"Time\":\"12:54:22 PM\",\"Status\":\"Open\",\"age_in_days\":35,\"age_in_year_month_day\":\"1 months 5 days\"},{\"Ticket #\":\"309754\",\"Customer Complaint\":\"Comcast Metro Fiber\",\"Date\":\"2015-05-27T00:00:00.000Z\",\"Time\":\"3:45:28 PM\",\"Status\":\"Open\",\"age_in_days\":35,\"age_in_year_month_day\":\"1 months 5 days\"},{\"Ticket #\":\"308746\",\"Customer Complaint\":\"Service issues\",\"Date\":\"2015-05-27T00:00:00.000Z\",\"Time\":\"9:16:59 AM\",\"Status\":\"Open\",\"age_in_days\":35,\"age_in_year_month_day\":\"1 months 5 days\"},{\"Ticket #\":\"311883\",\"Customer Complaint\":\"Comcast Internet Service\",\"Date\":\"2015-05-28T00:00:00.000Z\",\"Time\":\"3:35:20 PM\",\"Status\":\"Open\",\"age_in_days\":34,\"age_in_year_month_day\":\"1 months 4 days\"},{\"Ticket #\":\"311036\",\"Customer Complaint\":\"internet and service\",\"Date\":\"2015-05-28T00:00:00.000Z\",\"Time\":\"11:00:13 AM\",\"Status\":\"Open\",\"age_in_days\":34,\"age_in_year_month_day\":\"1 months 4 days\"},{\"Ticket #\":\"310714\",\"Customer Complaint\":\"Data limit with Comcast\",\"Date\":\"2015-05-28T00:00:00.000Z\",\"Time\":\"12:57:38 AM\",\"Status\":\"Open\",\"age_in_days\":34,\"age_in_year_month_day\":\"1 months 4 days\"},{\"Ticket #\":\"313550\",\"Customer Complaint\":\"Deceptive sales tactics\",\"Date\":\"2015-05-29T00:00:00.000Z\",\"Time\":\"1:42:39 PM\",\"Status\":\"Open\",\"age_in_days\":33,\"age_in_year_month_day\":\"1 months 3 days\"},{\"Ticket #\":\"313043\",\"Customer Complaint\":\"rude, nasty, customer service behavior, and a three year failure to deliver the business Internet services paid for\",\"Date\":\"2015-05-29T00:00:00.000Z\",\"Time\":\"10:11:07 AM\",\"Status\":\"Open\",\"age_in_days\":33,\"age_in_year_month_day\":\"1 months 3 days\"},{\"Ticket #\":\"312977\",\"Customer Complaint\":\"Comcast Fraudulent Charges\",\"Date\":\"2015-05-29T00:00:00.000Z\",\"Time\":\"9:28:16 AM\",\"Status\":\"Open\",\"age_in_days\":33,\"age_in_year_month_day\":\"1 months 3 days\"},{\"Ticket #\":\"312890\",\"Customer Complaint\":\"Horrible Internet Speed not what I pay for\",\"Date\":\"2015-05-29T00:00:00.000Z\",\"Time\":\"7:01:05 AM\",\"Status\":\"Open\",\"age_in_days\":33,\"age_in_year_month_day\":\"1 months 3 days\"},{\"Ticket #\":\"312881\",\"Customer Complaint\":\"unauthorized comcast username setup\",\"Date\":\"2015-05-29T00:00:00.000Z\",\"Time\":\"6:31:23 AM\",\"Status\":\"Open\",\"age_in_days\":33,\"age_in_year_month_day\":\"1 months 3 days\"},{\"Ticket #\":\"313324\",\"Customer Complaint\":\"I DO NOT HAVE INTERNET AND WORK FROM HOME\",\"Date\":\"2015-05-29T00:00:00.000Z\",\"Time\":\"12:25:53 PM\",\"Status\":\"Open\",\"age_in_days\":33,\"age_in_year_month_day\":\"1 months 3 days\"},{\"Ticket #\":\"315173\",\"Customer Complaint\":\"Comcast discontinuation of service issue\",\"Date\":\"2015-05-30T00:00:00.000Z\",\"Time\":\"3:27:41 PM\",\"Status\":\"Open\",\"age_in_days\":32,\"age_in_year_month_day\":\"1 months 2 days\"},{\"Ticket #\":\"315491\",\"Customer Complaint\":\"bait and switch pricing\",\"Date\":\"2015-05-30T00:00:00.000Z\",\"Time\":\"10:38:41 PM\",\"Status\":\"Open\",\"age_in_days\":32,\"age_in_year_month_day\":\"1 months 2 days\"},{\"Ticket #\":\"315456\",\"Customer Complaint\":\"Comcast service\",\"Date\":\"2015-05-30T00:00:00.000Z\",\"Time\":\"9:21:41 PM\",\"Status\":\"Open\",\"age_in_days\":32,\"age_in_year_month_day\":\"1 months 2 days\"},{\"Ticket #\":\"316257\",\"Customer Complaint\":\"Comcast Data Usage Meter\",\"Date\":\"2015-06-01T00:00:00.000Z\",\"Time\":\"9:44:42 AM\",\"Status\":\"Open\",\"age_in_days\":30,\"age_in_year_month_day\":\"1 months\"},{\"Ticket #\":\"317426\",\"Customer Complaint\":\"internet availability for students\",\"Date\":\"2015-06-01T00:00:00.000Z\",\"Time\":\"4:59:16 PM\",\"Status\":\"Open\",\"age_in_days\":30,\"age_in_year_month_day\":\"1 months\"},{\"Ticket #\":\"318574\",\"Customer Complaint\":\"Comcast Billing and Service Issues\",\"Date\":\"2015-06-02T00:00:00.000Z\",\"Time\":\"12:07:56 PM\",\"Status\":\"Open\",\"age_in_days\":29,\"age_in_year_month_day\":\"29 days\"},{\"Ticket #\":\"321631\",\"Customer Complaint\":\"Comcast service levels\",\"Date\":\"2015-06-03T00:00:00.000Z\",\"Time\":\"4:22:04 PM\",\"Status\":\"Open\",\"age_in_days\":28,\"age_in_year_month_day\":\"28 days\"},{\"Ticket #\":\"322200\",\"Customer Complaint\":\"Comcast monopoly hurting my business\",\"Date\":\"2015-06-03T00:00:00.000Z\",\"Time\":\"7:39:35 PM\",\"Status\":\"Open\",\"age_in_days\":28,\"age_in_year_month_day\":\"28 days\"},{\"Ticket #\":\"321250\",\"Customer Complaint\":\"Comcast ordered services that we never agreed to\",\"Date\":\"2015-06-03T00:00:00.000Z\",\"Time\":\"2:31:34 PM\",\"Status\":\"Open\",\"age_in_days\":28,\"age_in_year_month_day\":\"28 days\"},{\"Ticket #\":\"321762\",\"Customer Complaint\":\"Comcast\",\"Date\":\"2015-06-03T00:00:00.000Z\",\"Time\":\"5:01:33 PM\",\"Status\":\"Open\",\"age_in_days\":28,\"age_in_year_month_day\":\"28 days\"},{\"Ticket #\":\"320369\",\"Customer Complaint\":\"exaggerated bill and Lack of responsibilities in keep appointments! Disrespect for Consumers\",\"Date\":\"2015-06-03T00:00:00.000Z\",\"Time\":\"9:36:34 AM\",\"Status\":\"Open\",\"age_in_days\":28,\"age_in_year_month_day\":\"28 days\"},{\"Ticket #\":\"322002\",\"Customer Complaint\":\"Ping spikes and packet loss\",\"Date\":\"2015-06-03T00:00:00.000Z\",\"Time\":\"6:08:14 PM\",\"Status\":\"Open\",\"age_in_days\":28,\"age_in_year_month_day\":\"28 days\"},{\"Ticket #\":\"324712\",\"Customer Complaint\":\"Comcast Internet Complaint\",\"Date\":\"2015-06-05T00:00:00.000Z\",\"Time\":\"8:35:05 AM\",\"Status\":\"Open\",\"age_in_days\":26,\"age_in_year_month_day\":\"26 days\"},{\"Ticket #\":\"326788\",\"Customer Complaint\":\"poor service; inaccurate billing\",\"Date\":\"2015-06-06T00:00:00.000Z\",\"Time\":\"1:22:42 PM\",\"Status\":\"Open\",\"age_in_days\":25,\"age_in_year_month_day\":\"25 days\"},{\"Ticket #\":\"327139\",\"Customer Complaint\":\"Data Usage Cap Maine\",\"Date\":\"2015-06-06T00:00:00.000Z\",\"Time\":\"8:04:42 PM\",\"Status\":\"Open\",\"age_in_days\":25,\"age_in_year_month_day\":\"25 days\"},{\"Ticket #\":\"327672\",\"Customer Complaint\":\"Comcast Internet\",\"Date\":\"2015-06-07T00:00:00.000Z\",\"Time\":\"9:26:44 PM\",\"Status\":\"Open\",\"age_in_days\":24,\"age_in_year_month_day\":\"24 days\"},{\"Ticket #\":\"329036\",\"Customer Complaint\":\"Comcast\\\\/Xfinity Poor Service, Fraudulent Billing and Collection\",\"Date\":\"2015-06-08T00:00:00.000Z\",\"Time\":\"5:01:58 PM\",\"Status\":\"Open\",\"age_in_days\":23,\"age_in_year_month_day\":\"23 days\"},{\"Ticket #\":\"329414\",\"Customer Complaint\":\"Failure to show for an appointment and lying\",\"Date\":\"2015-06-08T00:00:00.000Z\",\"Time\":\"7:37:53 PM\",\"Status\":\"Open\",\"age_in_days\":23,\"age_in_year_month_day\":\"23 days\"},{\"Ticket #\":\"330481\",\"Customer Complaint\":\"Comcast service\",\"Date\":\"2015-06-09T00:00:00.000Z\",\"Time\":\"1:47:17 PM\",\"Status\":\"Open\",\"age_in_days\":22,\"age_in_year_month_day\":\"22 days\"},{\"Ticket #\":\"331611\",\"Customer Complaint\":\"300GB\\\\/month Data Cap\",\"Date\":\"2015-06-09T00:00:00.000Z\",\"Time\":\"8:23:16 PM\",\"Status\":\"Open\",\"age_in_days\":22,\"age_in_year_month_day\":\"22 days\"},{\"Ticket #\":\"330473\",\"Customer Complaint\":\"Charged for speeds they can not provide\",\"Date\":\"2015-06-09T00:00:00.000Z\",\"Time\":\"1:45:08 PM\",\"Status\":\"Open\",\"age_in_days\":22,\"age_in_year_month_day\":\"22 days\"},{\"Ticket #\":\"332408\",\"Customer Complaint\":\"Comcast promised credits by superviser\",\"Date\":\"2015-06-10T00:00:00.000Z\",\"Time\":\"11:46:59 AM\",\"Status\":\"Open\",\"age_in_days\":21,\"age_in_year_month_day\":\"21 days\"},{\"Ticket #\":\"333846\",\"Customer Complaint\":\"Comcast internet\",\"Date\":\"2015-06-10T00:00:00.000Z\",\"Time\":\"8:25:49 PM\",\"Status\":\"Open\",\"age_in_days\":21,\"age_in_year_month_day\":\"21 days\"},{\"Ticket #\":\"333786\",\"Customer Complaint\":\"Lack of communication and poor customer service\",\"Date\":\"2015-06-10T00:00:00.000Z\",\"Time\":\"7:55:27 PM\",\"Status\":\"Open\",\"age_in_days\":21,\"age_in_year_month_day\":\"21 days\"},{\"Ticket #\":\"338192\",\"Customer Complaint\":\"Speed throttling, speeds not at promised output\",\"Date\":\"2015-06-12T00:00:00.000Z\",\"Time\":\"6:35:59 PM\",\"Status\":\"Open\",\"age_in_days\":19,\"age_in_year_month_day\":\"19 days\"},{\"Ticket #\":\"337532\",\"Customer Complaint\":\"Comcast Billing\",\"Date\":\"2015-06-12T00:00:00.000Z\",\"Time\":\"4:10:54 PM\",\"Status\":\"Open\",\"age_in_days\":19,\"age_in_year_month_day\":\"19 days\"},{\"Ticket #\":\"337972\",\"Customer Complaint\":\"Comcast is a downright awful service provider.\",\"Date\":\"2015-06-12T00:00:00.000Z\",\"Time\":\"5:21:59 PM\",\"Status\":\"Open\",\"age_in_days\":19,\"age_in_year_month_day\":\"19 days\"},{\"Ticket #\":\"337555\",\"Customer Complaint\":\"Comcast Internet Complaint\",\"Date\":\"2015-06-12T00:00:00.000Z\",\"Time\":\"4:13:39 PM\",\"Status\":\"Open\",\"age_in_days\":19,\"age_in_year_month_day\":\"19 days\"},{\"Ticket #\":\"338638\",\"Customer Complaint\":\"Slow speeds, poor service,.\",\"Date\":\"2015-06-13T00:00:00.000Z\",\"Time\":\"12:30:12 AM\",\"Status\":\"Open\",\"age_in_days\":18,\"age_in_year_month_day\":\"18 days\"},{\"Ticket #\":\"339600\",\"Customer Complaint\":\"Comcast\",\"Date\":\"2015-06-13T00:00:00.000Z\",\"Time\":\"10:20:36 PM\",\"Status\":\"Open\",\"age_in_days\":18,\"age_in_year_month_day\":\"18 days\"},{\"Ticket #\":\"339351\",\"Customer Complaint\":\"Comcast Data Caps for Home Internet Service\",\"Date\":\"2015-06-13T00:00:00.000Z\",\"Time\":\"5:03:10 PM\",\"Status\":\"Open\",\"age_in_days\":18,\"age_in_year_month_day\":\"18 days\"},{\"Ticket #\":\"338970\",\"Customer Complaint\":\"Comcast Speed and Cap misinformation\",\"Date\":\"2015-06-13T00:00:00.000Z\",\"Time\":\"12:43:14 PM\",\"Status\":\"Open\",\"age_in_days\":18,\"age_in_year_month_day\":\"18 days\"},{\"Ticket #\":\"338930\",\"Customer Complaint\":\"Data soft cap and charges from Comcast\",\"Date\":\"2015-06-13T00:00:00.000Z\",\"Time\":\"12:05:30 PM\",\"Status\":\"Open\",\"age_in_days\":18,\"age_in_year_month_day\":\"18 days\"},{\"Ticket #\":\"339282\",\"Customer Complaint\":\"Comcast Violating Open Internet Rules by Blocking HBO Go Access on Sony Consoles\",\"Date\":\"2015-06-13T00:00:00.000Z\",\"Time\":\"4:03:18 PM\",\"Status\":\"Open\",\"age_in_days\":18,\"age_in_year_month_day\":\"18 days\"},{\"Ticket #\":\"339481\",\"Customer Complaint\":\"Terrible internet service from Comcast\",\"Date\":\"2015-06-13T00:00:00.000Z\",\"Time\":\"7:14:02 PM\",\"Status\":\"Open\",\"age_in_days\":18,\"age_in_year_month_day\":\"18 days\"},{\"Ticket #\":\"339548\",\"Customer Complaint\":\"Internet Throttling\",\"Date\":\"2015-06-13T00:00:00.000Z\",\"Time\":\"9:21:20 PM\",\"Status\":\"Open\",\"age_in_days\":18,\"age_in_year_month_day\":\"18 days\"},{\"Ticket #\":\"339611\",\"Customer Complaint\":\"Comcast blocking HBOGO on Playstation 4 Consoles\",\"Date\":\"2015-06-13T00:00:00.000Z\",\"Time\":\"10:34:53 PM\",\"Status\":\"Open\",\"age_in_days\":18,\"age_in_year_month_day\":\"18 days\"},{\"Ticket #\":\"338674\",\"Customer Complaint\":\"Comcast outage - Bay Area\",\"Date\":\"2015-06-13T00:00:00.000Z\",\"Time\":\"2:13:06 AM\",\"Status\":\"Open\",\"age_in_days\":18,\"age_in_year_month_day\":\"18 days\"},{\"Ticket #\":\"339509\",\"Customer Complaint\":\"Comcast Bundle Promotion Bait and Switch\",\"Date\":\"2015-06-13T00:00:00.000Z\",\"Time\":\"8:17:11 PM\",\"Status\":\"Open\",\"age_in_days\":18,\"age_in_year_month_day\":\"18 days\"},{\"Ticket #\":\"339614\",\"Customer Complaint\":\"Poor internet\",\"Date\":\"2015-06-13T00:00:00.000Z\",\"Time\":\"10:37:11 PM\",\"Status\":\"Open\",\"age_in_days\":18,\"age_in_year_month_day\":\"18 days\"},{\"Ticket #\":\"338651\",\"Customer Complaint\":\"Internet Availability\",\"Date\":\"2015-06-13T00:00:00.000Z\",\"Time\":\"1:07:20 AM\",\"Status\":\"Open\",\"age_in_days\":18,\"age_in_year_month_day\":\"18 days\"},{\"Ticket #\":\"339894\",\"Customer Complaint\":\"Xfinity Comcast hbogo on ps4\",\"Date\":\"2015-06-14T00:00:00.000Z\",\"Time\":\"12:37:53 PM\",\"Status\":\"Open\",\"age_in_days\":17,\"age_in_year_month_day\":\"17 days\"},{\"Ticket #\":\"339908\",\"Customer Complaint\":\"Data Cap overages\",\"Date\":\"2015-06-14T00:00:00.000Z\",\"Time\":\"1:09:16 PM\",\"Status\":\"Open\",\"age_in_days\":17,\"age_in_year_month_day\":\"17 days\"},{\"Ticket #\":\"339770\",\"Customer Complaint\":\"Comcast monthly data usage cap\",\"Date\":\"2015-06-14T00:00:00.000Z\",\"Time\":\"9:21:34 AM\",\"Status\":\"Open\",\"age_in_days\":17,\"age_in_year_month_day\":\"17 days\"},{\"Ticket #\":\"339928\",\"Customer Complaint\":\"Throttling by Comcast\\\\/Xfinity\",\"Date\":\"2015-06-14T00:00:00.000Z\",\"Time\":\"1:38:06 PM\",\"Status\":\"Open\",\"age_in_days\":17,\"age_in_year_month_day\":\"17 days\"},{\"Ticket #\":\"340024\",\"Customer Complaint\":\"Comcast overcharge\",\"Date\":\"2015-06-14T00:00:00.000Z\",\"Time\":\"4:01:56 PM\",\"Status\":\"Open\",\"age_in_days\":17,\"age_in_year_month_day\":\"17 days\"},{\"Ticket #\":\"339920\",\"Customer Complaint\":\"Comcast.net\",\"Date\":\"2015-06-14T00:00:00.000Z\",\"Time\":\"1:21:52 PM\",\"Status\":\"Open\",\"age_in_days\":17,\"age_in_year_month_day\":\"17 days\"},{\"Ticket #\":\"342399\",\"Customer Complaint\":\"Incorrect prices for new customers\",\"Date\":\"2015-06-15T00:00:00.000Z\",\"Time\":\"9:50:41 PM\",\"Status\":\"Open\",\"age_in_days\":16,\"age_in_year_month_day\":\"16 days\"},{\"Ticket #\":\"342392\",\"Customer Complaint\":\"Lack of availability\",\"Date\":\"2015-06-15T00:00:00.000Z\",\"Time\":\"9:34:28 PM\",\"Status\":\"Open\",\"age_in_days\":16,\"age_in_year_month_day\":\"16 days\"},{\"Ticket #\":\"340458\",\"Customer Complaint\":\"Comcast Incompetence\\\\/Lies\\\\/Robbery\",\"Date\":\"2015-06-15T00:00:00.000Z\",\"Time\":\"9:14:44 AM\",\"Status\":\"Open\",\"age_in_days\":16,\"age_in_year_month_day\":\"16 days\"},{\"Ticket #\":\"341535\",\"Customer Complaint\":\"Comcast Data Usage Charges\",\"Date\":\"2015-06-15T00:00:00.000Z\",\"Time\":\"3:39:09 PM\",\"Status\":\"Open\",\"age_in_days\":16,\"age_in_year_month_day\":\"16 days\"},{\"Ticket #\":\"342298\",\"Customer Complaint\":\"Comcast Data Use Caps\",\"Date\":\"2015-06-15T00:00:00.000Z\",\"Time\":\"8:19:23 PM\",\"Status\":\"Open\",\"age_in_days\":16,\"age_in_year_month_day\":\"16 days\"},{\"Ticket #\":\"342417\",\"Customer Complaint\":\"Charges\",\"Date\":\"2015-06-15T00:00:00.000Z\",\"Time\":\"10:10:20 PM\",\"Status\":\"Open\",\"age_in_days\":16,\"age_in_year_month_day\":\"16 days\"},{\"Ticket #\":\"342428\",\"Customer Complaint\":\"My Comcast Bill for Internet\\\\/Cable\\\\/Phone service\",\"Date\":\"2015-06-15T00:00:00.000Z\",\"Time\":\"10:30:55 PM\",\"Status\":\"Open\",\"age_in_days\":16,\"age_in_year_month_day\":\"16 days\"},{\"Ticket #\":\"341950\",\"Customer Complaint\":\"Xfinity unable to correct issue of losing connection\",\"Date\":\"2015-06-15T00:00:00.000Z\",\"Time\":\"5:40:17 PM\",\"Status\":\"Open\",\"age_in_days\":16,\"age_in_year_month_day\":\"16 days\"},{\"Ticket #\":\"342274\",\"Customer Complaint\":\"Internet unreliable\",\"Date\":\"2015-06-15T00:00:00.000Z\",\"Time\":\"8:12:55 PM\",\"Status\":\"Open\",\"age_in_days\":16,\"age_in_year_month_day\":\"16 days\"},{\"Ticket #\":\"343521\",\"Customer Complaint\":\"Poor internet reception\",\"Date\":\"2015-06-16T00:00:00.000Z\",\"Time\":\"2:34:55 PM\",\"Status\":\"Open\",\"age_in_days\":15,\"age_in_year_month_day\":\"15 days\"},{\"Ticket #\":\"344690\",\"Customer Complaint\":\"Internet being throttled\",\"Date\":\"2015-06-16T00:00:00.000Z\",\"Time\":\"10:58:37 P\",\"Status\":\"Open\",\"age_in_days\":15,\"age_in_year_month_day\":\"15 days\"},{\"Ticket #\":\"344415\",\"Customer Complaint\":\"Comcast Bundled Services\",\"Date\":\"2015-06-16T00:00:00.000Z\",\"Time\":\"7:49:59 PM\",\"Status\":\"Open\",\"age_in_days\":15,\"age_in_year_month_day\":\"15 days\"},{\"Ticket #\":\"342659\",\"Customer Complaint\":\"Unacceptable Business Internet Service from Comcast\",\"Date\":\"2015-06-16T00:00:00.000Z\",\"Time\":\"9:49:33 AM\",\"Status\":\"Open\",\"age_in_days\":15,\"age_in_year_month_day\":\"15 days\"},{\"Ticket #\":\"342712\",\"Customer Complaint\":\"Data caps for broadband internet\",\"Date\":\"2015-06-16T00:00:00.000Z\",\"Time\":\"10:07:01 AM\",\"Status\":\"Open\",\"age_in_days\":15,\"age_in_year_month_day\":\"15 days\"},{\"Ticket #\":\"343023\",\"Customer Complaint\":\"Data Caps\",\"Date\":\"2015-06-16T00:00:00.000Z\",\"Time\":\"11:48:59 AM\",\"Status\":\"Open\",\"age_in_days\":15,\"age_in_year_month_day\":\"15 days\"},{\"Ticket #\":\"343346\",\"Customer Complaint\":\"Slow Internet Speed\",\"Date\":\"2015-06-16T00:00:00.000Z\",\"Time\":\"1:45:58 PM\",\"Status\":\"Open\",\"age_in_days\":15,\"age_in_year_month_day\":\"15 days\"},{\"Ticket #\":\"342923\",\"Customer Complaint\":\"Comcast does not disclose the Internet speed I\\'m paying for anywhere on my bill or online\",\"Date\":\"2015-06-16T00:00:00.000Z\",\"Time\":\"11:17:13 AM\",\"Status\":\"Open\",\"age_in_days\":15,\"age_in_year_month_day\":\"15 days\"},{\"Ticket #\":\"342774\",\"Customer Complaint\":\"Data cap\",\"Date\":\"2015-06-16T00:00:00.000Z\",\"Time\":\"10:29:45 AM\",\"Status\":\"Open\",\"age_in_days\":15,\"age_in_year_month_day\":\"15 days\"},{\"Ticket #\":\"342665\",\"Customer Complaint\":\"cannot access my email or service at all\",\"Date\":\"2015-06-16T00:00:00.000Z\",\"Time\":\"9:51:17 AM\",\"Status\":\"Open\",\"age_in_days\":15,\"age_in_year_month_day\":\"15 days\"},{\"Ticket #\":\"347557\",\"Customer Complaint\":\"unresponsive calls to customer service regarding wifi hotspots\",\"Date\":\"2015-06-17T00:00:00.000Z\",\"Time\":\"10:06:54 PM\",\"Status\":\"Open\",\"age_in_days\":14,\"age_in_year_month_day\":\"14 days\"},{\"Ticket #\":\"345677\",\"Customer Complaint\":\"Comcast Internet\",\"Date\":\"2015-06-17T00:00:00.000Z\",\"Time\":\"1:30:10 PM\",\"Status\":\"Open\",\"age_in_days\":14,\"age_in_year_month_day\":\"14 days\"},{\"Ticket #\":\"346885\",\"Customer Complaint\":\"Comcast\",\"Date\":\"2015-06-17T00:00:00.000Z\",\"Time\":\"6:17:59 PM\",\"Status\":\"Open\",\"age_in_days\":14,\"age_in_year_month_day\":\"14 days\"},{\"Ticket #\":\"345639\",\"Customer Complaint\":\"Recent fines to AT&T and possibly...\",\"Date\":\"2015-06-17T00:00:00.000Z\",\"Time\":\"1:23:44 PM\",\"Status\":\"Open\",\"age_in_days\":14,\"age_in_year_month_day\":\"14 days\"},{\"Ticket #\":\"347018\",\"Customer Complaint\":\"Fraudulent Billing by ComCast\",\"Date\":\"2015-06-17T00:00:00.000Z\",\"Time\":\"6:53:41 PM\",\"Status\":\"Open\",\"age_in_days\":14,\"age_in_year_month_day\":\"14 days\"},{\"Ticket #\":\"347688\",\"Customer Complaint\":\"Comcast Data usage caps\",\"Date\":\"2015-06-17T00:00:00.000Z\",\"Time\":\"11:40:30 PM\",\"Status\":\"Open\",\"age_in_days\":14,\"age_in_year_month_day\":\"14 days\"},{\"Ticket #\":\"347021\",\"Customer Complaint\":\"COMPLAINT AGAINST COMCAST\",\"Date\":\"2015-06-17T00:00:00.000Z\",\"Time\":\"6:54:21 PM\",\"Status\":\"Open\",\"age_in_days\":14,\"age_in_year_month_day\":\"14 days\"},{\"Ticket #\":\"345955\",\"Customer Complaint\":\"Service Complaint\",\"Date\":\"2015-06-17T00:00:00.000Z\",\"Time\":\"2:35:50 PM\",\"Status\":\"Open\",\"age_in_days\":14,\"age_in_year_month_day\":\"14 days\"},{\"Ticket #\":\"346868\",\"Customer Complaint\":\"Data Usage Cap\",\"Date\":\"2015-06-17T00:00:00.000Z\",\"Time\":\"6:12:02 PM\",\"Status\":\"Open\",\"age_in_days\":14,\"age_in_year_month_day\":\"14 days\"},{\"Ticket #\":\"347736\",\"Customer Complaint\":\"Data Cap\",\"Date\":\"2015-06-18T00:00:00.000Z\",\"Time\":\"12:35:23 AM\",\"Status\":\"Open\",\"age_in_days\":13,\"age_in_year_month_day\":\"13 days\"},{\"Ticket #\":\"349454\",\"Customer Complaint\":\"Comcast Billing Complaint\",\"Date\":\"2015-06-18T00:00:00.000Z\",\"Time\":\"3:22:54 PM\",\"Status\":\"Open\",\"age_in_days\":13,\"age_in_year_month_day\":\"13 days\"},{\"Ticket #\":\"347734\",\"Customer Complaint\":\"Comcast data caps in currently uncompetitive Nashville market\",\"Date\":\"2015-06-18T00:00:00.000Z\",\"Time\":\"12:31:29 AM\",\"Status\":\"Open\",\"age_in_days\":13,\"age_in_year_month_day\":\"13 days\"},{\"Ticket #\":\"349460\",\"Customer Complaint\":\"Comcast Bundle Availability Complaint\",\"Date\":\"2015-06-18T00:00:00.000Z\",\"Time\":\"3:23:27 PM\",\"Status\":\"Open\",\"age_in_days\":13,\"age_in_year_month_day\":\"13 days\"},{\"Ticket #\":\"347937\",\"Customer Complaint\":\"Comcast throttles internet\",\"Date\":\"2015-06-18T00:00:00.000Z\",\"Time\":\"9:15:45 AM\",\"Status\":\"Open\",\"age_in_days\":13,\"age_in_year_month_day\":\"13 days\"},{\"Ticket #\":\"347789\",\"Customer Complaint\":\"Comcast data cap\",\"Date\":\"2015-06-18T00:00:00.000Z\",\"Time\":\"3:22:37 AM\",\"Status\":\"Open\",\"age_in_days\":13,\"age_in_year_month_day\":\"13 days\"},{\"Ticket #\":\"348923\",\"Customer Complaint\":\"Comcast blocking DirecTv signals\",\"Date\":\"2015-06-18T00:00:00.000Z\",\"Time\":\"1:50:02 PM\",\"Status\":\"Open\",\"age_in_days\":13,\"age_in_year_month_day\":\"13 days\"},{\"Ticket #\":\"349925\",\"Customer Complaint\":\"Comcast complaint\",\"Date\":\"2015-06-18T00:00:00.000Z\",\"Time\":\"4:22:55 PM\",\"Status\":\"Open\",\"age_in_days\":13,\"age_in_year_month_day\":\"13 days\"},{\"Ticket #\":\"350160\",\"Customer Complaint\":\"Routine Outages \\\\/ Speeds never as promised\",\"Date\":\"2015-06-18T00:00:00.000Z\",\"Time\":\"5:28:13 PM\",\"Status\":\"Open\",\"age_in_days\":13,\"age_in_year_month_day\":\"13 days\"},{\"Ticket #\":\"350181\",\"Customer Complaint\":\"Charged for data not actually used\",\"Date\":\"2015-06-18T00:00:00.000Z\",\"Time\":\"5:39:28 PM\",\"Status\":\"Open\",\"age_in_days\":13,\"age_in_year_month_day\":\"13 days\"},{\"Ticket #\":\"349083\",\"Customer Complaint\":\"Comcast Internet Billing\",\"Date\":\"2015-06-18T00:00:00.000Z\",\"Time\":\"2:27:51 PM\",\"Status\":\"Open\",\"age_in_days\":13,\"age_in_year_month_day\":\"13 days\"},{\"Ticket #\":\"348029\",\"Customer Complaint\":\"Poor Speed and Reliability\",\"Date\":\"2015-06-18T00:00:00.000Z\",\"Time\":\"10:00:47 AM\",\"Status\":\"Open\",\"age_in_days\":13,\"age_in_year_month_day\":\"13 days\"},{\"Ticket #\":\"347759\",\"Customer Complaint\":\"Fraudulent advertising\",\"Date\":\"2015-06-18T00:00:00.000Z\",\"Time\":\"1:32:54 AM\",\"Status\":\"Open\",\"age_in_days\":13,\"age_in_year_month_day\":\"13 days\"},{\"Ticket #\":\"350621\",\"Customer Complaint\":\"Speed Throttling\",\"Date\":\"2015-06-18T00:00:00.000Z\",\"Time\":\"8:48:58 PM\",\"Status\":\"Open\",\"age_in_days\":13,\"age_in_year_month_day\":\"13 days\"},{\"Ticket #\":\"348118\",\"Customer Complaint\":\"Postal Mail Ticket #2334\",\"Date\":\"2015-06-18T00:00:00.000Z\",\"Time\":\"10:15:18 AM\",\"Status\":\"Open\",\"age_in_days\":13,\"age_in_year_month_day\":\"13 days\"},{\"Ticket #\":\"353018\",\"Customer Complaint\":\"Comcast speed not matching, blocked phone number\",\"Date\":\"2015-06-19T00:00:00.000Z\",\"Time\":\"7:01:24 PM\",\"Status\":\"Open\",\"age_in_days\":12,\"age_in_year_month_day\":\"12 days\"},{\"Ticket #\":\"352940\",\"Customer Complaint\":\"Comcast Xfinity Monopoly Abuses\",\"Date\":\"2015-06-19T00:00:00.000Z\",\"Time\":\"6:35:52 PM\",\"Status\":\"Open\",\"age_in_days\":12,\"age_in_year_month_day\":\"12 days\"},{\"Ticket #\":\"352492\",\"Customer Complaint\":\"Comcast throttling or otherwise under-delivering internet service.\",\"Date\":\"2015-06-19T00:00:00.000Z\",\"Time\":\"4:17:28 PM\",\"Status\":\"Open\",\"age_in_days\":12,\"age_in_year_month_day\":\"12 days\"},{\"Ticket #\":\"351820\",\"Customer Complaint\":\"Comcast fails to fulfill request for Internet service\",\"Date\":\"2015-06-19T00:00:00.000Z\",\"Time\":\"1:16:40 PM\",\"Status\":\"Open\",\"age_in_days\":12,\"age_in_year_month_day\":\"12 days\"},{\"Ticket #\":\"350956\",\"Customer Complaint\":\"Comcast Data Caps\",\"Date\":\"2015-06-19T00:00:00.000Z\",\"Time\":\"2:47:34 AM\",\"Status\":\"Open\",\"age_in_days\":12,\"age_in_year_month_day\":\"12 days\"},{\"Ticket #\":\"352951\",\"Customer Complaint\":\"Internet Speeds and Billing Errors\",\"Date\":\"2015-06-19T00:00:00.000Z\",\"Time\":\"6:41:29 PM\",\"Status\":\"Open\",\"age_in_days\":12,\"age_in_year_month_day\":\"12 days\"},{\"Ticket #\":\"352100\",\"Customer Complaint\":\"Comcast\",\"Date\":\"2015-06-19T00:00:00.000Z\",\"Time\":\"2:36:57 PM\",\"Status\":\"Open\",\"age_in_days\":12,\"age_in_year_month_day\":\"12 days\"},{\"Ticket #\":\"354359\",\"Customer Complaint\":\"Comcast Slow Internet\",\"Date\":\"2015-06-20T00:00:00.000Z\",\"Time\":\"10:01:52 PM\",\"Status\":\"Open\",\"age_in_days\":11,\"age_in_year_month_day\":\"11 days\"},{\"Ticket #\":\"354467\",\"Customer Complaint\":\"XFINITY\\\\/COMCAST TETHERING CONNECTION\",\"Date\":\"2015-06-21T00:00:00.000Z\",\"Time\":\"3:20:59 AM\",\"Status\":\"Open\",\"age_in_days\":10,\"age_in_year_month_day\":\"10 days\"},{\"Ticket #\":\"355976\",\"Customer Complaint\":\"Comcast Customer Service\",\"Date\":\"2015-06-22T00:00:00.000Z\",\"Time\":\"2:10:39 PM\",\"Status\":\"Open\",\"age_in_days\":9,\"age_in_year_month_day\":\"9 days\"},{\"Ticket #\":\"357126\",\"Customer Complaint\":\"Comcast XFINITY Internet Performance\",\"Date\":\"2015-06-22T00:00:00.000Z\",\"Time\":\"8:42:52 PM\",\"Status\":\"Open\",\"age_in_days\":9,\"age_in_year_month_day\":\"9 days\"},{\"Ticket #\":\"359280\",\"Customer Complaint\":\"Price of Internet service\",\"Date\":\"2015-06-23T00:00:00.000Z\",\"Time\":\"4:36:53 PM\",\"Status\":\"Open\",\"age_in_days\":8,\"age_in_year_month_day\":\"8 days\"},{\"Ticket #\":\"359592\",\"Customer Complaint\":\"Intermittent poor service\",\"Date\":\"2015-06-23T00:00:00.000Z\",\"Time\":\"5:52:17 PM\",\"Status\":\"Open\",\"age_in_days\":8,\"age_in_year_month_day\":\"8 days\"},{\"Ticket #\":\"359991\",\"Customer Complaint\":\"Pricing Concerns\",\"Date\":\"2015-06-23T00:00:00.000Z\",\"Time\":\"7:59:41 PM\",\"Status\":\"Open\",\"age_in_days\":8,\"age_in_year_month_day\":\"8 days\"},{\"Ticket #\":\"357746\",\"Customer Complaint\":\"Comcast price increase not in line with advertisement\",\"Date\":\"2015-06-23T00:00:00.000Z\",\"Time\":\"10:59:51 AM\",\"Status\":\"Open\",\"age_in_days\":8,\"age_in_year_month_day\":\"8 days\"},{\"Ticket #\":\"360561\",\"Customer Complaint\":\"Comcast bill doubled without notice\",\"Date\":\"2015-06-23T00:00:00.000Z\",\"Time\":\"11:48:31 PM\",\"Status\":\"Open\",\"age_in_days\":8,\"age_in_year_month_day\":\"8 days\"},{\"Ticket #\":\"360296\",\"Customer Complaint\":\"Internet speed\",\"Date\":\"2015-06-23T00:00:00.000Z\",\"Time\":\"10:10:29 PM\",\"Status\":\"Open\",\"age_in_days\":8,\"age_in_year_month_day\":\"8 days\"},{\"Ticket #\":\"360338\",\"Customer Complaint\":\"Unfair bundles\",\"Date\":\"2015-06-23T00:00:00.000Z\",\"Time\":\"10:19:04 PM\",\"Status\":\"Open\",\"age_in_days\":8,\"age_in_year_month_day\":\"8 days\"},{\"Ticket #\":\"357874\",\"Customer Complaint\":\"Comcast unfair billing\",\"Date\":\"2015-06-23T00:00:00.000Z\",\"Time\":\"11:40:33 AM\",\"Status\":\"Open\",\"age_in_days\":8,\"age_in_year_month_day\":\"8 days\"},{\"Ticket #\":\"359538\",\"Customer Complaint\":\"Internet Prices in U.S.A\",\"Date\":\"2015-06-23T00:00:00.000Z\",\"Time\":\"5:36:44 PM\",\"Status\":\"Open\",\"age_in_days\":8,\"age_in_year_month_day\":\"8 days\"},{\"Ticket #\":\"359596\",\"Customer Complaint\":\"Pricing Problems Even After Promises\",\"Date\":\"2015-06-23T00:00:00.000Z\",\"Time\":\"5:53:18 PM\",\"Status\":\"Open\",\"age_in_days\":8,\"age_in_year_month_day\":\"8 days\"},{\"Ticket #\":\"359191\",\"Customer Complaint\":\"Cheating in Bundle Service Pricing\",\"Date\":\"2015-06-23T00:00:00.000Z\",\"Time\":\"4:16:44 PM\",\"Status\":\"Open\",\"age_in_days\":8,\"age_in_year_month_day\":\"8 days\"},{\"Ticket #\":\"359082\",\"Customer Complaint\":\"Comcast is awful, lies, and is corrupt\",\"Date\":\"2015-06-23T00:00:00.000Z\",\"Time\":\"3:52:08 PM\",\"Status\":\"Open\",\"age_in_days\":8,\"age_in_year_month_day\":\"8 days\"},{\"Ticket #\":\"360378\",\"Customer Complaint\":\"Paying for high speed internet with Comcast. Consistently getting slow service.\",\"Date\":\"2015-06-23T00:00:00.000Z\",\"Time\":\"10:37:16 PM\",\"Status\":\"Open\",\"age_in_days\":8,\"age_in_year_month_day\":\"8 days\"},{\"Ticket #\":\"360375\",\"Customer Complaint\":\"Charge for service they won\\'t deliver\",\"Date\":\"2015-06-23T00:00:00.000Z\",\"Time\":\"10:36:45 PM\",\"Status\":\"Open\",\"age_in_days\":8,\"age_in_year_month_day\":\"8 days\"},{\"Ticket #\":\"359284\",\"Customer Complaint\":\"Not receiving the speeds promised and the charges are too high.\",\"Date\":\"2015-06-23T00:00:00.000Z\",\"Time\":\"4:37:17 PM\",\"Status\":\"Open\",\"age_in_days\":8,\"age_in_year_month_day\":\"8 days\"},{\"Ticket #\":\"358688\",\"Customer Complaint\":\"Billing and New Account Issues\",\"Date\":\"2015-06-23T00:00:00.000Z\",\"Time\":\"2:34:56 PM\",\"Status\":\"Open\",\"age_in_days\":8,\"age_in_year_month_day\":\"8 days\"},{\"Ticket #\":\"360185\",\"Customer Complaint\":\"Comcast Throttling Internet\",\"Date\":\"2015-06-23T00:00:00.000Z\",\"Time\":\"9:26:30 PM\",\"Status\":\"Open\",\"age_in_days\":8,\"age_in_year_month_day\":\"8 days\"},{\"Ticket #\":\"360381\",\"Customer Complaint\":\"Comcast incorrect and confusing billing\",\"Date\":\"2015-06-23T00:00:00.000Z\",\"Time\":\"10:37:48 PM\",\"Status\":\"Open\",\"age_in_days\":8,\"age_in_year_month_day\":\"8 days\"},{\"Ticket #\":\"359984\",\"Customer Complaint\":\"Comcast\\'s egregious billing techniques\",\"Date\":\"2015-06-23T00:00:00.000Z\",\"Time\":\"7:57:52 PM\",\"Status\":\"Open\",\"age_in_days\":8,\"age_in_year_month_day\":\"8 days\"},{\"Ticket #\":\"358703\",\"Customer Complaint\":\"Comcast inflated and \\\\\"undetermined\\\\\", ever-increasing rates\",\"Date\":\"2015-06-23T00:00:00.000Z\",\"Time\":\"2:39:13 PM\",\"Status\":\"Open\",\"age_in_days\":8,\"age_in_year_month_day\":\"8 days\"},{\"Ticket #\":\"359952\",\"Customer Complaint\":\"Not receiving network speed as advertised\",\"Date\":\"2015-06-23T00:00:00.000Z\",\"Time\":\"7:44:18 PM\",\"Status\":\"Open\",\"age_in_days\":8,\"age_in_year_month_day\":\"8 days\"},{\"Ticket #\":\"358861\",\"Customer Complaint\":\"Comcast charging me unrelated charges\",\"Date\":\"2015-06-23T00:00:00.000Z\",\"Time\":\"3:11:02 PM\",\"Status\":\"Open\",\"age_in_days\":8,\"age_in_year_month_day\":\"8 days\"},{\"Ticket #\":\"358340\",\"Customer Complaint\":\"Comcast Price Gouging\",\"Date\":\"2015-06-23T00:00:00.000Z\",\"Time\":\"1:28:17 PM\",\"Status\":\"Open\",\"age_in_days\":8,\"age_in_year_month_day\":\"8 days\"},{\"Ticket #\":\"360526\",\"Customer Complaint\":\"Slow Internet\",\"Date\":\"2015-06-23T00:00:00.000Z\",\"Time\":\"11:29:52 PM\",\"Status\":\"Open\",\"age_in_days\":8,\"age_in_year_month_day\":\"8 days\"},{\"Ticket #\":\"359831\",\"Customer Complaint\":\"Comcast\",\"Date\":\"2015-06-23T00:00:00.000Z\",\"Time\":\"7:09:28 PM\",\"Status\":\"Open\",\"age_in_days\":8,\"age_in_year_month_day\":\"8 days\"},{\"Ticket #\":\"357856\",\"Customer Complaint\":\"Comcast - Billing\",\"Date\":\"2015-06-23T00:00:00.000Z\",\"Time\":\"11:35:54 AM\",\"Status\":\"Open\",\"age_in_days\":8,\"age_in_year_month_day\":\"8 days\"},{\"Ticket #\":\"359714\",\"Customer Complaint\":\"Bill issues, Internet and disability comcast prices\",\"Date\":\"2015-06-23T00:00:00.000Z\",\"Time\":\"6:26:49 PM\",\"Status\":\"Open\",\"age_in_days\":8,\"age_in_year_month_day\":\"8 days\"},{\"Ticket #\":\"360388\",\"Customer Complaint\":\"Xfinity Internet Speed\",\"Date\":\"2015-06-23T00:00:00.000Z\",\"Time\":\"10:39:59 PM\",\"Status\":\"Open\",\"age_in_days\":8,\"age_in_year_month_day\":\"8 days\"},{\"Ticket #\":\"360207\",\"Customer Complaint\":\"internet speed\",\"Date\":\"2015-06-23T00:00:00.000Z\",\"Time\":\"9:31:00 PM\",\"Status\":\"Open\",\"age_in_days\":8,\"age_in_year_month_day\":\"8 days\"},{\"Ticket #\":\"360358\",\"Customer Complaint\":\"Comcast Costs\",\"Date\":\"2015-06-23T00:00:00.000Z\",\"Time\":\"10:29:07 PM\",\"Status\":\"Open\",\"age_in_days\":8,\"age_in_year_month_day\":\"8 days\"},{\"Ticket #\":\"360274\",\"Customer Complaint\":\"Price Increase\",\"Date\":\"2015-06-23T00:00:00.000Z\",\"Time\":\"9:58:56 PM\",\"Status\":\"Open\",\"age_in_days\":8,\"age_in_year_month_day\":\"8 days\"},{\"Ticket #\":\"357816\",\"Customer Complaint\":\"Billed for internet service that was never installed\",\"Date\":\"2015-06-23T00:00:00.000Z\",\"Time\":\"11:24:06 AM\",\"Status\":\"Open\",\"age_in_days\":8,\"age_in_year_month_day\":\"8 days\"},{\"Ticket #\":\"358373\",\"Customer Complaint\":\"lack of service from comcast\",\"Date\":\"2015-06-23T00:00:00.000Z\",\"Time\":\"1:33:50 PM\",\"Status\":\"Open\",\"age_in_days\":8,\"age_in_year_month_day\":\"8 days\"},{\"Ticket #\":\"360344\",\"Customer Complaint\":\"Speeds received are not as advertised\",\"Date\":\"2015-06-23T00:00:00.000Z\",\"Time\":\"10:20:38 PM\",\"Status\":\"Open\",\"age_in_days\":8,\"age_in_year_month_day\":\"8 days\"},{\"Ticket #\":\"360432\",\"Customer Complaint\":\"Incorrect charges, and would not fix\",\"Date\":\"2015-06-23T00:00:00.000Z\",\"Time\":\"11:00:41 PM\",\"Status\":\"Open\",\"age_in_days\":8,\"age_in_year_month_day\":\"8 days\"},{\"Ticket #\":\"363169\",\"Customer Complaint\":\"Price and performance manipulation by Comcast for ISP\",\"Date\":\"2015-06-24T00:00:00.000Z\",\"Time\":\"6:46:43 PM\",\"Status\":\"Open\",\"age_in_days\":7,\"age_in_year_month_day\":\"7 days\"},{\"Ticket #\":\"362724\",\"Customer Complaint\":\"Comcast Billing\",\"Date\":\"2015-06-24T00:00:00.000Z\",\"Time\":\"4:37:27 PM\",\"Status\":\"Open\",\"age_in_days\":7,\"age_in_year_month_day\":\"7 days\"},{\"Ticket #\":\"360771\",\"Customer Complaint\":\"internet price went up, offered lower price deal with cable tv...\",\"Date\":\"2015-06-24T00:00:00.000Z\",\"Time\":\"2:39:29 AM\",\"Status\":\"Open\",\"age_in_days\":7,\"age_in_year_month_day\":\"7 days\"},{\"Ticket #\":\"360800\",\"Customer Complaint\":\"Unexplained Billing\",\"Date\":\"2015-06-24T00:00:00.000Z\",\"Time\":\"3:17:38 AM\",\"Status\":\"Open\",\"age_in_days\":7,\"age_in_year_month_day\":\"7 days\"},{\"Ticket #\":\"360766\",\"Customer Complaint\":\"Comcast service Corvallis, OR.\",\"Date\":\"2015-06-24T00:00:00.000Z\",\"Time\":\"2:31:09 AM\",\"Status\":\"Open\",\"age_in_days\":7,\"age_in_year_month_day\":\"7 days\"},{\"Ticket #\":\"363554\",\"Customer Complaint\":\"Speed throttling\",\"Date\":\"2015-06-24T00:00:00.000Z\",\"Time\":\"9:52:28 PM\",\"Status\":\"Open\",\"age_in_days\":7,\"age_in_year_month_day\":\"7 days\"},{\"Ticket #\":\"363269\",\"Customer Complaint\":\"Comcast wrong advertised speeds\",\"Date\":\"2015-06-24T00:00:00.000Z\",\"Time\":\"7:26:03 PM\",\"Status\":\"Open\",\"age_in_days\":7,\"age_in_year_month_day\":\"7 days\"},{\"Ticket #\":\"362056\",\"Customer Complaint\":\"Issues with Cable and Internet Packaging Unfair Prices\",\"Date\":\"2015-06-24T00:00:00.000Z\",\"Time\":\"2:05:57 PM\",\"Status\":\"Open\",\"age_in_days\":7,\"age_in_year_month_day\":\"7 days\"},{\"Ticket #\":\"363044\",\"Customer Complaint\":\"comcast\",\"Date\":\"2015-06-24T00:00:00.000Z\",\"Time\":\"6:02:54 PM\",\"Status\":\"Open\",\"age_in_days\":7,\"age_in_year_month_day\":\"7 days\"},{\"Ticket #\":\"360825\",\"Customer Complaint\":\"Cap complaints\",\"Date\":\"2015-06-24T00:00:00.000Z\",\"Time\":\"4:14:57 AM\",\"Status\":\"Open\",\"age_in_days\":7,\"age_in_year_month_day\":\"7 days\"},{\"Ticket #\":\"363610\",\"Customer Complaint\":\"Forcing Customer to Pay an Incorrect Bill to get it Fixed\",\"Date\":\"2015-06-24T00:00:00.000Z\",\"Time\":\"10:26:52 PM\",\"Status\":\"Open\",\"age_in_days\":7,\"age_in_year_month_day\":\"7 days\"},{\"Ticket #\":\"360806\",\"Customer Complaint\":\"Comcasts Shady Business Practices\",\"Date\":\"2015-06-24T00:00:00.000Z\",\"Time\":\"3:43:45 AM\",\"Status\":\"Open\",\"age_in_days\":7,\"age_in_year_month_day\":\"7 days\"},{\"Ticket #\":\"363147\",\"Customer Complaint\":\"Comcast complaint\",\"Date\":\"2015-06-24T00:00:00.000Z\",\"Time\":\"6:39:01 PM\",\"Status\":\"Open\",\"age_in_days\":7,\"age_in_year_month_day\":\"7 days\"},{\"Ticket #\":\"362687\",\"Customer Complaint\":\"Poor customer service, terrible Internet speeds, prices are way too high.\",\"Date\":\"2015-06-24T00:00:00.000Z\",\"Time\":\"4:27:43 PM\",\"Status\":\"Open\",\"age_in_days\":7,\"age_in_year_month_day\":\"7 days\"},{\"Ticket #\":\"363097\",\"Customer Complaint\":\"Comcast\",\"Date\":\"2015-06-24T00:00:00.000Z\",\"Time\":\"6:24:00 PM\",\"Status\":\"Open\",\"age_in_days\":7,\"age_in_year_month_day\":\"7 days\"},{\"Ticket #\":\"362956\",\"Customer Complaint\":\"Comcast Throttling Internet Speed\",\"Date\":\"2015-06-24T00:00:00.000Z\",\"Time\":\"5:35:01 PM\",\"Status\":\"Open\",\"age_in_days\":7,\"age_in_year_month_day\":\"7 days\"},{\"Ticket #\":\"363614\",\"Customer Complaint\":\"Comcast, Ypsilanti MI Internet Speed\",\"Date\":\"2015-06-24T00:00:00.000Z\",\"Time\":\"10:28:33 PM\",\"Status\":\"Open\",\"age_in_days\":7,\"age_in_year_month_day\":\"7 days\"},{\"Ticket #\":\"362982\",\"Customer Complaint\":\"Comcast Speeds Not as Advertised\",\"Date\":\"2015-06-24T00:00:00.000Z\",\"Time\":\"5:41:59 PM\",\"Status\":\"Open\",\"age_in_days\":7,\"age_in_year_month_day\":\"7 days\"},{\"Ticket #\":\"362798\",\"Customer Complaint\":\"Speeds lower than advertised\",\"Date\":\"2015-06-24T00:00:00.000Z\",\"Time\":\"4:50:14 PM\",\"Status\":\"Open\",\"age_in_days\":7,\"age_in_year_month_day\":\"7 days\"},{\"Ticket #\":\"360791\",\"Customer Complaint\":\"Unfair pricing\",\"Date\":\"2015-06-24T00:00:00.000Z\",\"Time\":\"3:06:22 AM\",\"Status\":\"Open\",\"age_in_days\":7,\"age_in_year_month_day\":\"7 days\"},{\"Ticket #\":\"362928\",\"Customer Complaint\":\"Locals\",\"Date\":\"2015-06-24T00:00:00.000Z\",\"Time\":\"5:24:09 PM\",\"Status\":\"Open\",\"age_in_days\":7,\"age_in_year_month_day\":\"7 days\"},{\"Ticket #\":\"360805\",\"Customer Complaint\":\"Comcast not delivering advertised speed\",\"Date\":\"2015-06-24T00:00:00.000Z\",\"Time\":\"3:40:52 AM\",\"Status\":\"Open\",\"age_in_days\":7,\"age_in_year_month_day\":\"7 days\"},{\"Ticket #\":\"360760\",\"Customer Complaint\":\"Comcast Internet\",\"Date\":\"2015-06-24T00:00:00.000Z\",\"Time\":\"2:25:45 AM\",\"Status\":\"Open\",\"age_in_days\":7,\"age_in_year_month_day\":\"7 days\"},{\"Ticket #\":\"360742\",\"Customer Complaint\":\"Unfair Billing Practices\",\"Date\":\"2015-06-24T00:00:00.000Z\",\"Time\":\"2:00:16 AM\",\"Status\":\"Open\",\"age_in_days\":7,\"age_in_year_month_day\":\"7 days\"},{\"Ticket #\":\"360665\",\"Customer Complaint\":\"Speeds being throttled.\",\"Date\":\"2015-06-24T00:00:00.000Z\",\"Time\":\"12:47:19 AM\",\"Status\":\"Open\",\"age_in_days\":7,\"age_in_year_month_day\":\"7 days\"},{\"Ticket #\":\"361639\",\"Customer Complaint\":\"Comcast Throttling\",\"Date\":\"2015-06-24T00:00:00.000Z\",\"Time\":\"12:22:23 PM\",\"Status\":\"Open\",\"age_in_days\":7,\"age_in_year_month_day\":\"7 days\"},{\"Ticket #\":\"360643\",\"Customer Complaint\":\"Xfinity throttling my connection\",\"Date\":\"2015-06-24T00:00:00.000Z\",\"Time\":\"12:36:17 AM\",\"Status\":\"Open\",\"age_in_days\":7,\"age_in_year_month_day\":\"7 days\"},{\"Ticket #\":\"363629\",\"Customer Complaint\":\"Intermittent drops of service\",\"Date\":\"2015-06-24T00:00:00.000Z\",\"Time\":\"10:37:51 PM\",\"Status\":\"Open\",\"age_in_days\":7,\"age_in_year_month_day\":\"7 days\"},{\"Ticket #\":\"360649\",\"Customer Complaint\":\"Unfair Billing Practices\",\"Date\":\"2015-06-24T00:00:00.000Z\",\"Time\":\"12:38:50 AM\",\"Status\":\"Open\",\"age_in_days\":7,\"age_in_year_month_day\":\"7 days\"},{\"Ticket #\":\"361000\",\"Customer Complaint\":\"Significant Quality Loss\",\"Date\":\"2015-06-24T00:00:00.000Z\",\"Time\":\"9:22:29 AM\",\"Status\":\"Open\",\"age_in_days\":7,\"age_in_year_month_day\":\"7 days\"},{\"Ticket #\":\"363608\",\"Customer Complaint\":\"Internet bill goes up with no cable \\\\\"bundle\\\\\"\",\"Date\":\"2015-06-24T00:00:00.000Z\",\"Time\":\"10:26:04 PM\",\"Status\":\"Open\",\"age_in_days\":7,\"age_in_year_month_day\":\"7 days\"},{\"Ticket #\":\"360788\",\"Customer Complaint\":\"Comcast Billing\",\"Date\":\"2015-06-24T00:00:00.000Z\",\"Time\":\"3:02:38 AM\",\"Status\":\"Open\",\"age_in_days\":7,\"age_in_year_month_day\":\"7 days\"},{\"Ticket #\":\"360768\",\"Customer Complaint\":\"speed\\\\/pricing\",\"Date\":\"2015-06-24T00:00:00.000Z\",\"Time\":\"2:34:16 AM\",\"Status\":\"Open\",\"age_in_days\":7,\"age_in_year_month_day\":\"7 days\"},{\"Ticket #\":\"363353\",\"Customer Complaint\":\"Comcast\",\"Date\":\"2015-06-24T00:00:00.000Z\",\"Time\":\"8:16:57 PM\",\"Status\":\"Open\",\"age_in_days\":7,\"age_in_year_month_day\":\"7 days\"},{\"Ticket #\":\"360797\",\"Customer Complaint\":\"Comcast artificially inflating prices of Internet only services\",\"Date\":\"2015-06-24T00:00:00.000Z\",\"Time\":\"3:15:47 AM\",\"Status\":\"Open\",\"age_in_days\":7,\"age_in_year_month_day\":\"7 days\"},{\"Ticket #\":\"361633\",\"Customer Complaint\":\"Unfair Comcast Billing\",\"Date\":\"2015-06-24T00:00:00.000Z\",\"Time\":\"12:21:50 PM\",\"Status\":\"Open\",\"age_in_days\":7,\"age_in_year_month_day\":\"7 days\"},{\"Ticket #\":\"363616\",\"Customer Complaint\":\"COMCAST Poor Customer Service\",\"Date\":\"2015-06-24T00:00:00.000Z\",\"Time\":\"10:28:58 PM\",\"Status\":\"Open\",\"age_in_days\":7,\"age_in_year_month_day\":\"7 days\"},{\"Ticket #\":\"361528\",\"Customer Complaint\":\"Xfinity\",\"Date\":\"2015-06-24T00:00:00.000Z\",\"Time\":\"11:59:36 AM\",\"Status\":\"Open\",\"age_in_days\":7,\"age_in_year_month_day\":\"7 days\"},{\"Ticket #\":\"363477\",\"Customer Complaint\":\"Paying for 50 Mbps from Comcast, only receiving 0.37 Mbps\",\"Date\":\"2015-06-24T00:00:00.000Z\",\"Time\":\"9:21:29 PM\",\"Status\":\"Open\",\"age_in_days\":7,\"age_in_year_month_day\":\"7 days\"},{\"Ticket #\":\"360684\",\"Customer Complaint\":\"Expensive Internet Service for average speed\",\"Date\":\"2015-06-24T00:00:00.000Z\",\"Time\":\"1:05:25 AM\",\"Status\":\"Open\",\"age_in_days\":7,\"age_in_year_month_day\":\"7 days\"},{\"Ticket #\":\"361212\",\"Customer Complaint\":\"Comcast\\'s Internet is Slower Than What I Pay For\",\"Date\":\"2015-06-24T00:00:00.000Z\",\"Time\":\"10:33:42 AM\",\"Status\":\"Open\",\"age_in_days\":7,\"age_in_year_month_day\":\"7 days\"},{\"Ticket #\":\"360705\",\"Customer Complaint\":\"Comcast inflated internet pricing\",\"Date\":\"2015-06-24T00:00:00.000Z\",\"Time\":\"1:23:10 AM\",\"Status\":\"Open\",\"age_in_days\":7,\"age_in_year_month_day\":\"7 days\"},{\"Ticket #\":\"362644\",\"Customer Complaint\":\"Comcast thieves\",\"Date\":\"2015-06-24T00:00:00.000Z\",\"Time\":\"4:17:31 PM\",\"Status\":\"Open\",\"age_in_days\":7,\"age_in_year_month_day\":\"7 days\"},{\"Ticket #\":\"361800\",\"Customer Complaint\":\"Paying for high speed internet and receiving low speeds\",\"Date\":\"2015-06-24T00:00:00.000Z\",\"Time\":\"12:57:08 PM\",\"Status\":\"Open\",\"age_in_days\":7,\"age_in_year_month_day\":\"7 days\"},{\"Ticket #\":\"362974\",\"Customer Complaint\":\"Comcast\",\"Date\":\"2015-06-24T00:00:00.000Z\",\"Time\":\"5:38:10 PM\",\"Status\":\"Open\",\"age_in_days\":7,\"age_in_year_month_day\":\"7 days\"},{\"Ticket #\":\"362791\",\"Customer Complaint\":\"Comcast sold me a \\\\\"package\\\\\" knowing it wouldn\\'t work for me, and proceeded to charge me more and attempt to tack on fees for their mistake\",\"Date\":\"2015-06-24T00:00:00.000Z\",\"Time\":\"4:49:19 PM\",\"Status\":\"Open\",\"age_in_days\":7,\"age_in_year_month_day\":\"7 days\"},{\"Ticket #\":\"363094\",\"Customer Complaint\":\"Comcast Overpricing\",\"Date\":\"2015-06-24T00:00:00.000Z\",\"Time\":\"6:23:10 PM\",\"Status\":\"Open\",\"age_in_days\":7,\"age_in_year_month_day\":\"7 days\"},{\"Ticket #\":\"360650\",\"Customer Complaint\":\"Comcast complaint\",\"Date\":\"2015-06-24T00:00:00.000Z\",\"Time\":\"12:39:23 AM\",\"Status\":\"Open\",\"age_in_days\":7,\"age_in_year_month_day\":\"7 days\"},{\"Ticket #\":\"363708\",\"Customer Complaint\":\"Comcast chronic lies\",\"Date\":\"2015-06-24T00:00:00.000Z\",\"Time\":\"11:51:56 PM\",\"Status\":\"Open\",\"age_in_days\":7,\"age_in_year_month_day\":\"7 days\"},{\"Ticket #\":\"360597\",\"Customer Complaint\":\"Comcast bill way too high for such slow speeds\",\"Date\":\"2015-06-24T00:00:00.000Z\",\"Time\":\"12:09:01 AM\",\"Status\":\"Open\",\"age_in_days\":7,\"age_in_year_month_day\":\"7 days\"},{\"Ticket #\":\"363355\",\"Customer Complaint\":\"Shady Internet Billing Practices from Comcast\",\"Date\":\"2015-06-24T00:00:00.000Z\",\"Time\":\"8:19:38 PM\",\"Status\":\"Open\",\"age_in_days\":7,\"age_in_year_month_day\":\"7 days\"},{\"Ticket #\":\"363674\",\"Customer Complaint\":\"pricing\",\"Date\":\"2015-06-24T00:00:00.000Z\",\"Time\":\"11:31:50 PM\",\"Status\":\"Open\",\"age_in_days\":7,\"age_in_year_month_day\":\"7 days\"},{\"Ticket #\":\"362484\",\"Customer Complaint\":\"I pay for 50 mbps, get 10 at best\",\"Date\":\"2015-06-24T00:00:00.000Z\",\"Time\":\"3:49:24 PM\",\"Status\":\"Open\",\"age_in_days\":7,\"age_in_year_month_day\":\"7 days\"},{\"Ticket #\":\"360640\",\"Customer Complaint\":\"Comcast Over Charging Bundle PKG\",\"Date\":\"2015-06-24T00:00:00.000Z\",\"Time\":\"12:35:19 AM\",\"Status\":\"Open\",\"age_in_days\":7,\"age_in_year_month_day\":\"7 days\"},{\"Ticket #\":\"367260\",\"Customer Complaint\":\"Comcast ignores my requests to cancel a service and instead added product to my bill and increased the monthly cost.\",\"Date\":\"2015-06-25T00:00:00.000Z\",\"Time\":\"11:12:23 PM\",\"Status\":\"Open\",\"age_in_days\":6,\"age_in_year_month_day\":\"6 days\"},{\"Ticket #\":\"363743\",\"Customer Complaint\":\"Internet speed\",\"Date\":\"2015-06-25T00:00:00.000Z\",\"Time\":\"12:45:43 AM\",\"Status\":\"Open\",\"age_in_days\":6,\"age_in_year_month_day\":\"6 days\"},{\"Ticket #\":\"365368\",\"Customer Complaint\":\"Comcast internet billing\",\"Date\":\"2015-06-25T00:00:00.000Z\",\"Time\":\"2:12:52 PM\",\"Status\":\"Open\",\"age_in_days\":6,\"age_in_year_month_day\":\"6 days\"},{\"Ticket #\":\"367225\",\"Customer Complaint\":\"Comcast policies\",\"Date\":\"2015-06-25T00:00:00.000Z\",\"Time\":\"10:33:19 PM\",\"Status\":\"Open\",\"age_in_days\":6,\"age_in_year_month_day\":\"6 days\"},{\"Ticket #\":\"363993\",\"Customer Complaint\":\"Internet Pricing\",\"Date\":\"2015-06-25T00:00:00.000Z\",\"Time\":\"9:30:43 AM\",\"Status\":\"Open\",\"age_in_days\":6,\"age_in_year_month_day\":\"6 days\"},{\"Ticket #\":\"367079\",\"Customer Complaint\":\"Comcast\",\"Date\":\"2015-06-25T00:00:00.000Z\",\"Time\":\"9:01:05 PM\",\"Status\":\"Open\",\"age_in_days\":6,\"age_in_year_month_day\":\"6 days\"},{\"Ticket #\":\"366222\",\"Customer Complaint\":\"Comcast Internet Service Complaint\",\"Date\":\"2015-06-25T00:00:00.000Z\",\"Time\":\"4:20:58 PM\",\"Status\":\"Open\",\"age_in_days\":6,\"age_in_year_month_day\":\"6 days\"},{\"Ticket #\":\"364377\",\"Customer Complaint\":\"Slow Internet speeds\",\"Date\":\"2015-06-25T00:00:00.000Z\",\"Time\":\"11:49:34 AM\",\"Status\":\"Open\",\"age_in_days\":6,\"age_in_year_month_day\":\"6 days\"},{\"Ticket #\":\"363860\",\"Customer Complaint\":\"speed\",\"Date\":\"2015-06-25T00:00:00.000Z\",\"Time\":\"7:33:58 AM\",\"Status\":\"Open\",\"age_in_days\":6,\"age_in_year_month_day\":\"6 days\"},{\"Ticket #\":\"365908\",\"Customer Complaint\":\"Comcast Internet Only Service\",\"Date\":\"2015-06-25T00:00:00.000Z\",\"Time\":\"3:31:17 PM\",\"Status\":\"Open\",\"age_in_days\":6,\"age_in_year_month_day\":\"6 days\"},{\"Ticket #\":\"365373\",\"Customer Complaint\":\"Falsifying Plan Rates and Charges\",\"Date\":\"2015-06-25T00:00:00.000Z\",\"Time\":\"2:13:31 PM\",\"Status\":\"Open\",\"age_in_days\":6,\"age_in_year_month_day\":\"6 days\"},{\"Ticket #\":\"364868\",\"Customer Complaint\":\"Comcast Internet Billing\",\"Date\":\"2015-06-25T00:00:00.000Z\",\"Time\":\"1:03:35 PM\",\"Status\":\"Open\",\"age_in_days\":6,\"age_in_year_month_day\":\"6 days\"},{\"Ticket #\":\"364817\",\"Customer Complaint\":\"Billing and Service\",\"Date\":\"2015-06-25T00:00:00.000Z\",\"Time\":\"12:53:38 PM\",\"Status\":\"Open\",\"age_in_days\":6,\"age_in_year_month_day\":\"6 days\"},{\"Ticket #\":\"363854\",\"Customer Complaint\":\"Internet Issue\",\"Date\":\"2015-06-25T00:00:00.000Z\",\"Time\":\"7:21:10 AM\",\"Status\":\"Open\",\"age_in_days\":6,\"age_in_year_month_day\":\"6 days\"},{\"Ticket #\":\"366339\",\"Customer Complaint\":\"Low internet quality\",\"Date\":\"2015-06-25T00:00:00.000Z\",\"Time\":\"4:45:36 PM\",\"Status\":\"Open\",\"age_in_days\":6,\"age_in_year_month_day\":\"6 days\"},{\"Ticket #\":\"367099\",\"Customer Complaint\":\"Unfair Comcast billing practices\",\"Date\":\"2015-06-25T00:00:00.000Z\",\"Time\":\"9:11:31 PM\",\"Status\":\"Open\",\"age_in_days\":6,\"age_in_year_month_day\":\"6 days\"},{\"Ticket #\":\"367242\",\"Customer Complaint\":\"Deceptive Business Practices by Comcast\",\"Date\":\"2015-06-25T00:00:00.000Z\",\"Time\":\"10:41:05 PM\",\"Status\":\"Open\",\"age_in_days\":6,\"age_in_year_month_day\":\"6 days\"},{\"Ticket #\":\"364260\",\"Customer Complaint\":\"Slow Internet speed\",\"Date\":\"2015-06-25T00:00:00.000Z\",\"Time\":\"11:20:19 AM\",\"Status\":\"Open\",\"age_in_days\":6,\"age_in_year_month_day\":\"6 days\"},{\"Ticket #\":\"367718\",\"Customer Complaint\":\"Comcast internet and cable service\",\"Date\":\"2015-06-26T00:00:00.000Z\",\"Time\":\"11:02:54 AM\",\"Status\":\"Open\",\"age_in_days\":5,\"age_in_year_month_day\":\"5 days\"},{\"Ticket #\":\"369398\",\"Customer Complaint\":\"without service despite willingness to pay\",\"Date\":\"2015-06-26T00:00:00.000Z\",\"Time\":\"9:09:12 PM\",\"Status\":\"Open\",\"age_in_days\":5,\"age_in_year_month_day\":\"5 days\"},{\"Ticket #\":\"367577\",\"Customer Complaint\":\"Comcast charge my own router as unreturned equipment\",\"Date\":\"2015-06-26T00:00:00.000Z\",\"Time\":\"10:07:45 AM\",\"Status\":\"Open\",\"age_in_days\":5,\"age_in_year_month_day\":\"5 days\"},{\"Ticket #\":\"368078\",\"Customer Complaint\":\"Fraud\",\"Date\":\"2015-06-26T00:00:00.000Z\",\"Time\":\"12:47:29 PM\",\"Status\":\"Open\",\"age_in_days\":5,\"age_in_year_month_day\":\"5 days\"},{\"Ticket #\":\"367526\",\"Customer Complaint\":\"comcast internet\",\"Date\":\"2015-06-26T00:00:00.000Z\",\"Time\":\"9:38:37 AM\",\"Status\":\"Open\",\"age_in_days\":5,\"age_in_year_month_day\":\"5 days\"},{\"Ticket #\":\"367366\",\"Customer Complaint\":\"Xfinity Price and not 16Mbps when paying for 50Mbps\",\"Date\":\"2015-06-26T00:00:00.000Z\",\"Time\":\"4:22:34 AM\",\"Status\":\"Open\",\"age_in_days\":5,\"age_in_year_month_day\":\"5 days\"},{\"Ticket #\":\"367546\",\"Customer Complaint\":\"Overcharged Internet Billing\",\"Date\":\"2015-06-26T00:00:00.000Z\",\"Time\":\"9:47:15 AM\",\"Status\":\"Open\",\"age_in_days\":5,\"age_in_year_month_day\":\"5 days\"},{\"Ticket #\":\"367512\",\"Customer Complaint\":\"Consistently slow internet speeds\",\"Date\":\"2015-06-26T00:00:00.000Z\",\"Time\":\"9:32:47 AM\",\"Status\":\"Open\",\"age_in_days\":5,\"age_in_year_month_day\":\"5 days\"},{\"Ticket #\":\"367321\",\"Customer Complaint\":\"Internet performance (latency\\\\/bandwidth) substantially below what I\\'m paying for for weeks\",\"Date\":\"2015-06-26T00:00:00.000Z\",\"Time\":\"1:45:58 AM\",\"Status\":\"Open\",\"age_in_days\":5,\"age_in_year_month_day\":\"5 days\"},{\"Ticket #\":\"367310\",\"Customer Complaint\":\"Suspected Throttling\",\"Date\":\"2015-06-26T00:00:00.000Z\",\"Time\":\"1:00:33 AM\",\"Status\":\"Open\",\"age_in_days\":5,\"age_in_year_month_day\":\"5 days\"},{\"Ticket #\":\"369595\",\"Customer Complaint\":\"Unfair Comcast Bill\",\"Date\":\"2015-06-27T00:00:00.000Z\",\"Time\":\"2:24:44 AM\",\"Status\":\"Open\",\"age_in_days\":4,\"age_in_year_month_day\":\"4 days\"},{\"Ticket #\":\"370575\",\"Customer Complaint\":\"10 Days No Service - 12 Appointments Comcast Hasn\\'t Shown Up - Comcast Has Not Fixed Home Infinity X1 - In 10 Days- Cannot Make 911 Calls\",\"Date\":\"2015-06-27T00:00:00.000Z\",\"Time\":\"9:42:03 PM\",\"Status\":\"Open\",\"age_in_days\":4,\"age_in_year_month_day\":\"4 days\"},{\"Ticket #\":\"370657\",\"Customer Complaint\":\"Internet speed not as advertised\",\"Date\":\"2015-06-27T00:00:00.000Z\",\"Time\":\"11:49:04 PM\",\"Status\":\"Open\",\"age_in_days\":4,\"age_in_year_month_day\":\"4 days\"},{\"Ticket #\":\"370212\",\"Customer Complaint\":\"Internet Speeds nowhere close to what I pay for\",\"Date\":\"2015-06-27T00:00:00.000Z\",\"Time\":\"4:19:26 PM\",\"Status\":\"Open\",\"age_in_days\":4,\"age_in_year_month_day\":\"4 days\"},{\"Ticket #\":\"370107\",\"Customer Complaint\":\"Internet connectivity loss, over 1000ms latency, under 1Mbps speeds\",\"Date\":\"2015-06-27T00:00:00.000Z\",\"Time\":\"2:55:42 PM\",\"Status\":\"Open\",\"age_in_days\":4,\"age_in_year_month_day\":\"4 days\"},{\"Ticket #\":\"370299\",\"Customer Complaint\":\"Comcast changes bill prices without my consent\",\"Date\":\"2015-06-27T00:00:00.000Z\",\"Time\":\"5:33:17 PM\",\"Status\":\"Open\",\"age_in_days\":4,\"age_in_year_month_day\":\"4 days\"},{\"Ticket #\":\"370322\",\"Customer Complaint\":\"False advertising and overcharging\",\"Date\":\"2015-06-27T00:00:00.000Z\",\"Time\":\"6:02:50 PM\",\"Status\":\"Open\",\"age_in_days\":4,\"age_in_year_month_day\":\"4 days\"},{\"Ticket #\":\"370586\",\"Customer Complaint\":\"Extremely low speeds, and no help\",\"Date\":\"2015-06-27T00:00:00.000Z\",\"Time\":\"9:57:04 PM\",\"Status\":\"Open\",\"age_in_days\":4,\"age_in_year_month_day\":\"4 days\"},{\"Ticket #\":\"370142\",\"Customer Complaint\":\"Xfinity Data Cap\",\"Date\":\"2015-06-27T00:00:00.000Z\",\"Time\":\"3:32:14 PM\",\"Status\":\"Open\",\"age_in_days\":4,\"age_in_year_month_day\":\"4 days\"},{\"Ticket #\":\"370538\",\"Customer Complaint\":\"Comcast monopoly bundling practices\",\"Date\":\"2015-06-27T00:00:00.000Z\",\"Time\":\"9:04:34 PM\",\"Status\":\"Open\",\"age_in_days\":4,\"age_in_year_month_day\":\"4 days\"},{\"Ticket #\":\"370148\",\"Customer Complaint\":\"Comcast disconnected my account without reason or notice\",\"Date\":\"2015-06-27T00:00:00.000Z\",\"Time\":\"3:36:57 PM\",\"Status\":\"Open\",\"age_in_days\":4,\"age_in_year_month_day\":\"4 days\"},{\"Ticket #\":\"370168\",\"Customer Complaint\":\"Comcast Billing\\\\/Pricing Practices\",\"Date\":\"2015-06-27T00:00:00.000Z\",\"Time\":\"3:55:52 PM\",\"Status\":\"Open\",\"age_in_days\":4,\"age_in_year_month_day\":\"4 days\"},{\"Ticket #\":\"370691\",\"Customer Complaint\":\"Comcast Internet Complaint\",\"Date\":\"2015-06-28T00:00:00.000Z\",\"Time\":\"1:23:56 AM\",\"Status\":\"Open\",\"age_in_days\":3,\"age_in_year_month_day\":\"3 days\"},{\"Ticket #\":\"371318\",\"Customer Complaint\":\"Billed without service\",\"Date\":\"2015-06-28T00:00:00.000Z\",\"Time\":\"9:35:38 PM\",\"Status\":\"Open\",\"age_in_days\":3,\"age_in_year_month_day\":\"3 days\"},{\"Ticket #\":\"371385\",\"Customer Complaint\":\"Comcast - Billing Practices\",\"Date\":\"2015-06-28T00:00:00.000Z\",\"Time\":\"11:14:57 PM\",\"Status\":\"Open\",\"age_in_days\":3,\"age_in_year_month_day\":\"3 days\"},{\"Ticket #\":\"371299\",\"Customer Complaint\":\"Internet speed\",\"Date\":\"2015-06-28T00:00:00.000Z\",\"Time\":\"9:09:54 PM\",\"Status\":\"Open\",\"age_in_days\":3,\"age_in_year_month_day\":\"3 days\"},{\"Ticket #\":\"371259\",\"Customer Complaint\":\"Complaint against Comcast Corporation\",\"Date\":\"2015-06-28T00:00:00.000Z\",\"Time\":\"8:06:28 PM\",\"Status\":\"Open\",\"age_in_days\":3,\"age_in_year_month_day\":\"3 days\"},{\"Ticket #\":\"371230\",\"Customer Complaint\":\"Poor Service or no Service\",\"Date\":\"2015-06-28T00:00:00.000Z\",\"Time\":\"7:32:40 PM\",\"Status\":\"Open\",\"age_in_days\":3,\"age_in_year_month_day\":\"3 days\"},{\"Ticket #\":\"370823\",\"Customer Complaint\":\"95 Palmer Road, Enfield NH Internet Pricing\",\"Date\":\"2015-06-28T00:00:00.000Z\",\"Time\":\"11:36:24 AM\",\"Status\":\"Open\",\"age_in_days\":3,\"age_in_year_month_day\":\"3 days\"},{\"Ticket #\":\"371339\",\"Customer Complaint\":\"Comcast Internet Service Provider\",\"Date\":\"2015-06-28T00:00:00.000Z\",\"Time\":\"10:16:48 PM\",\"Status\":\"Open\",\"age_in_days\":3,\"age_in_year_month_day\":\"3 days\"},{\"Ticket #\":\"371119\",\"Customer Complaint\":\"Comcast business keeps moving my same-day trouble appointment to the next day\",\"Date\":\"2015-06-28T00:00:00.000Z\",\"Time\":\"4:48:51 PM\",\"Status\":\"Open\",\"age_in_days\":3,\"age_in_year_month_day\":\"3 days\"},{\"Ticket #\":\"371309\",\"Customer Complaint\":\"Comcast\\'s Deceptive Billing\",\"Date\":\"2015-06-28T00:00:00.000Z\",\"Time\":\"9:30:22 PM\",\"Status\":\"Open\",\"age_in_days\":3,\"age_in_year_month_day\":\"3 days\"},{\"Ticket #\":\"371214\",\"Customer Complaint\":\"Comcast Raising Prices and Not Being Available To Ask Why\",\"Date\":\"2015-06-28T00:00:00.000Z\",\"Time\":\"6:46:31 PM\",\"Status\":\"Open\",\"age_in_days\":3,\"age_in_year_month_day\":\"3 days\"},{\"Ticket #\":\"371221\",\"Customer Complaint\":\"Data overage charges\",\"Date\":\"2015-06-28T00:00:00.000Z\",\"Time\":\"7:07:28 PM\",\"Status\":\"Open\",\"age_in_days\":3,\"age_in_year_month_day\":\"3 days\"},{\"Ticket #\":\"370683\",\"Customer Complaint\":\"Comcast Throttling My Internet\",\"Date\":\"2015-06-28T00:00:00.000Z\",\"Time\":\"1:04:39 AM\",\"Status\":\"Open\",\"age_in_days\":3,\"age_in_year_month_day\":\"3 days\"},{\"Ticket #\":\"371186\",\"Customer Complaint\":\"COMCAST BILLING FOR LAST @18 mos for services they are unable or unwilling to provide\",\"Date\":\"2015-06-28T00:00:00.000Z\",\"Time\":\"5:50:11 PM\",\"Status\":\"Open\",\"age_in_days\":3,\"age_in_year_month_day\":\"3 days\"},{\"Ticket #\":\"372154\",\"Customer Complaint\":\"Comcast- Unfair Pricing\",\"Date\":\"2015-06-29T00:00:00.000Z\",\"Time\":\"12:55:22 PM\",\"Status\":\"Open\",\"age_in_days\":2,\"age_in_year_month_day\":\"2 days\"},{\"Ticket #\":\"372912\",\"Customer Complaint\":\"Comcast Internet\",\"Date\":\"2015-06-29T00:00:00.000Z\",\"Time\":\"4:24:38 PM\",\"Status\":\"Open\",\"age_in_days\":2,\"age_in_year_month_day\":\"2 days\"},{\"Ticket #\":\"372910\",\"Customer Complaint\":\"Comcast Internet Service\",\"Date\":\"2015-06-29T00:00:00.000Z\",\"Time\":\"4:24:21 PM\",\"Status\":\"Open\",\"age_in_days\":2,\"age_in_year_month_day\":\"2 days\"},{\"Ticket #\":\"372223\",\"Customer Complaint\":\"Poor Customer Service with Comcast\",\"Date\":\"2015-06-29T00:00:00.000Z\",\"Time\":\"1:14:58 PM\",\"Status\":\"Open\",\"age_in_days\":2,\"age_in_year_month_day\":\"2 days\"},{\"Ticket #\":\"373332\",\"Customer Complaint\":\"Outage and unfair practices\",\"Date\":\"2015-06-29T00:00:00.000Z\",\"Time\":\"6:18:41 PM\",\"Status\":\"Open\",\"age_in_days\":2,\"age_in_year_month_day\":\"2 days\"},{\"Ticket #\":\"373211\",\"Customer Complaint\":\"Comcast Data Cap\",\"Date\":\"2015-06-29T00:00:00.000Z\",\"Time\":\"5:43:17 PM\",\"Status\":\"Open\",\"age_in_days\":2,\"age_in_year_month_day\":\"2 days\"},{\"Ticket #\":\"373009\",\"Customer Complaint\":\"Comcast Pricing\",\"Date\":\"2015-06-29T00:00:00.000Z\",\"Time\":\"4:50:06 PM\",\"Status\":\"Open\",\"age_in_days\":2,\"age_in_year_month_day\":\"2 days\"},{\"Ticket #\":\"373309\",\"Customer Complaint\":\"unsatisfactory speed with disorganized service\",\"Date\":\"2015-06-29T00:00:00.000Z\",\"Time\":\"6:11:21 PM\",\"Status\":\"Open\",\"age_in_days\":2,\"age_in_year_month_day\":\"2 days\"},{\"Ticket #\":\"373541\",\"Customer Complaint\":\"Being charged for internet speeds that equipment can not deliver\",\"Date\":\"2015-06-29T00:00:00.000Z\",\"Time\":\"7:31:48 PM\",\"Status\":\"Open\",\"age_in_days\":2,\"age_in_year_month_day\":\"2 days\"},{\"Ticket #\":\"373607\",\"Customer Complaint\":\"Unable to change my service\",\"Date\":\"2015-06-29T00:00:00.000Z\",\"Time\":\"8:21:12 PM\",\"Status\":\"Open\",\"age_in_days\":2,\"age_in_year_month_day\":\"2 days\"},{\"Ticket #\":\"373429\",\"Customer Complaint\":\"Comcast service\",\"Date\":\"2015-06-29T00:00:00.000Z\",\"Time\":\"6:48:08 PM\",\"Status\":\"Open\",\"age_in_days\":2,\"age_in_year_month_day\":\"2 days\"},{\"Ticket #\":\"372108\",\"Customer Complaint\":\"Comcast Re-Escalation of Case # ESL01877347 - ORR\",\"Date\":\"2015-06-29T00:00:00.000Z\",\"Time\":\"12:42:54 PM\",\"Status\":\"Open\",\"age_in_days\":2,\"age_in_year_month_day\":\"2 days\"},{\"Ticket #\":\"372230\",\"Customer Complaint\":\"Comcast Monopoly in Calvert County, Maryland\",\"Date\":\"2015-06-29T00:00:00.000Z\",\"Time\":\"1:16:51 PM\",\"Status\":\"Open\",\"age_in_days\":2,\"age_in_year_month_day\":\"2 days\"},{\"Ticket #\":\"375794\",\"Customer Complaint\":\"Comcast False Advertising\",\"Date\":\"2015-06-30T00:00:00.000Z\",\"Time\":\"6:16:26 PM\",\"Status\":\"Open\",\"age_in_days\":1,\"age_in_year_month_day\":\"1 days\"},{\"Ticket #\":\"374291\",\"Customer Complaint\":\"comcastcomcas\",\"Date\":\"2015-06-30T00:00:00.000Z\",\"Time\":\"11:19:50 AM\",\"Status\":\"Open\",\"age_in_days\":1,\"age_in_year_month_day\":\"1 days\"},{\"Ticket #\":\"376154\",\"Customer Complaint\":\"Bad Service\\\\/drop calls\\\\/no support\",\"Date\":\"2015-06-30T00:00:00.000Z\",\"Time\":\"9:06:31 PM\",\"Status\":\"Open\",\"age_in_days\":1,\"age_in_year_month_day\":\"1 days\"},{\"Ticket #\":\"375847\",\"Customer Complaint\":\"Comcast bundles useless services to charge more.\",\"Date\":\"2015-06-30T00:00:00.000Z\",\"Time\":\"6:36:52 PM\",\"Status\":\"Open\",\"age_in_days\":1,\"age_in_year_month_day\":\"1 days\"},{\"Ticket #\":\"375862\",\"Customer Complaint\":\"Modem rental fees\",\"Date\":\"2015-06-30T00:00:00.000Z\",\"Time\":\"6:42:19 PM\",\"Status\":\"Open\",\"age_in_days\":1,\"age_in_year_month_day\":\"1 days\"},{\"Ticket #\":\"376295\",\"Customer Complaint\":\"Slow internet service\",\"Date\":\"2015-06-30T00:00:00.000Z\",\"Time\":\"10:57:27 PM\",\"Status\":\"Open\",\"age_in_days\":1,\"age_in_year_month_day\":\"1 days\"},{\"Ticket #\":\"374393\",\"Customer Complaint\":\"Comcast pricing practices\",\"Date\":\"2015-06-30T00:00:00.000Z\",\"Time\":\"11:54:33 AM\",\"Status\":\"Open\",\"age_in_days\":1,\"age_in_year_month_day\":\"1 days\"},{\"Ticket #\":\"376274\",\"Customer Complaint\":\"Installation Request - New Subdivision - Jesup, GA\",\"Date\":\"2015-06-30T00:00:00.000Z\",\"Time\":\"10:34:45 PM\",\"Status\":\"Open\",\"age_in_days\":1,\"age_in_year_month_day\":\"1 days\"},{\"Ticket #\":\"375809\",\"Customer Complaint\":\"Slow internet \\\\/ Over Charged Billing\",\"Date\":\"2015-06-30T00:00:00.000Z\",\"Time\":\"6:26:09 PM\",\"Status\":\"Open\",\"age_in_days\":1,\"age_in_year_month_day\":\"1 days\"},{\"Ticket #\":\"375750\",\"Customer Complaint\":\"Not receiving refund of service from Comcast, for over 90 days\",\"Date\":\"2015-06-30T00:00:00.000Z\",\"Time\":\"5:57:02 PM\",\"Status\":\"Open\",\"age_in_days\":1,\"age_in_year_month_day\":\"1 days\"},{\"Ticket #\":\"375943\",\"Customer Complaint\":\"Speed\",\"Date\":\"2015-06-30T00:00:00.000Z\",\"Time\":\"7:11:06 PM\",\"Status\":\"Open\",\"age_in_days\":1,\"age_in_year_month_day\":\"1 days\"},{\"Ticket #\":\"373879\",\"Customer Complaint\":\"Service refusal and lower than advertised speeds.\",\"Date\":\"2015-06-30T00:00:00.000Z\",\"Time\":\"12:40:28 AM\",\"Status\":\"Open\",\"age_in_days\":1,\"age_in_year_month_day\":\"1 days\"},{\"Ticket #\":\"376303\",\"Customer Complaint\":\"Comcast Internet\",\"Date\":\"2015-06-30T00:00:00.000Z\",\"Time\":\"11:08:15 PM\",\"Status\":\"Open\",\"age_in_days\":1,\"age_in_year_month_day\":\"1 days\"},{\"Ticket #\":\"375155\",\"Customer Complaint\":\"Comcast Failure of Service\",\"Date\":\"2015-06-30T00:00:00.000Z\",\"Time\":\"3:19:55 PM\",\"Status\":\"Open\",\"age_in_days\":1,\"age_in_year_month_day\":\"1 days\"},{\"Ticket #\":\"374157\",\"Customer Complaint\":\"Comcast data cap\",\"Date\":\"2015-06-30T00:00:00.000Z\",\"Time\":\"10:32:56 AM\",\"Status\":\"Open\",\"age_in_days\":1,\"age_in_year_month_day\":\"1 days\"},{\"Ticket #\":\"373882\",\"Customer Complaint\":\"COMCAST MISSES 4 APPOINTMENTS\",\"Date\":\"2015-06-30T00:00:00.000Z\",\"Time\":\"12:52:40 AM\",\"Status\":\"Open\",\"age_in_days\":1,\"age_in_year_month_day\":\"1 days\"},{\"Ticket #\":\"375377\",\"Customer Complaint\":\"Comcast Support Unable to Provide Accurate Information\",\"Date\":\"2015-06-30T00:00:00.000Z\",\"Time\":\"4:17:34 PM\",\"Status\":\"Open\",\"age_in_days\":1,\"age_in_year_month_day\":\"1 days\"},{\"Ticket #\":\"376328\",\"Customer Complaint\":\"Comcast Failed to deliver service that was advertised\",\"Date\":\"2015-06-30T00:00:00.000Z\",\"Time\":\"11:24:39 PM\",\"Status\":\"Open\",\"age_in_days\":1,\"age_in_year_month_day\":\"1 days\"}]'"
      ]
     },
     "execution_count": 37,
     "metadata": {},
     "output_type": "execute_result"
    }
   ],
   "source": [
    "df.to_json(orient=\"records\", date_format=\"iso\")"
   ]
  },
  {
   "cell_type": "markdown",
   "metadata": {},
   "source": [
    "### Top 10 oldest Tickets opened"
   ]
  },
  {
   "cell_type": "code",
   "execution_count": 34,
   "metadata": {
    "scrolled": true
   },
   "outputs": [
    {
     "data": {
      "text/html": [
       "<div>\n",
       "<style scoped>\n",
       "    .dataframe tbody tr th:only-of-type {\n",
       "        vertical-align: middle;\n",
       "    }\n",
       "\n",
       "    .dataframe tbody tr th {\n",
       "        vertical-align: top;\n",
       "    }\n",
       "\n",
       "    .dataframe thead th {\n",
       "        text-align: right;\n",
       "    }\n",
       "</style>\n",
       "<table border=\"1\" class=\"dataframe\">\n",
       "  <thead>\n",
       "    <tr style=\"text-align: right;\">\n",
       "      <th></th>\n",
       "      <th>age_in_year_month_day</th>\n",
       "      <th>Ticket #</th>\n",
       "      <th>Customer Complaint</th>\n",
       "      <th>Date</th>\n",
       "      <th>Time</th>\n",
       "    </tr>\n",
       "  </thead>\n",
       "  <tbody>\n",
       "    <tr>\n",
       "      <th>1159</th>\n",
       "      <td>3 months</td>\n",
       "      <td>213817</td>\n",
       "      <td>comcast billing shutting off service</td>\n",
       "      <td>2015-04-02</td>\n",
       "      <td>11:23:54 AM</td>\n",
       "    </tr>\n",
       "    <tr>\n",
       "      <th>757</th>\n",
       "      <td>2 months 29 days</td>\n",
       "      <td>215802</td>\n",
       "      <td>Unclear policies</td>\n",
       "      <td>2015-04-03</td>\n",
       "      <td>9:22:46 AM</td>\n",
       "    </tr>\n",
       "    <tr>\n",
       "      <th>1693</th>\n",
       "      <td>2 months 18 days</td>\n",
       "      <td>234479</td>\n",
       "      <td>interne speed</td>\n",
       "      <td>2015-04-14</td>\n",
       "      <td>12:32:35 PM</td>\n",
       "    </tr>\n",
       "    <tr>\n",
       "      <th>956</th>\n",
       "      <td>2 months 12 days</td>\n",
       "      <td>244172</td>\n",
       "      <td>Internet Only Deal</td>\n",
       "      <td>2015-04-20</td>\n",
       "      <td>9:45:51 AM</td>\n",
       "    </tr>\n",
       "    <tr>\n",
       "      <th>681</th>\n",
       "      <td>2 months 12 days</td>\n",
       "      <td>244215</td>\n",
       "      <td>Poor service</td>\n",
       "      <td>2015-04-20</td>\n",
       "      <td>10:14:44 AM</td>\n",
       "    </tr>\n",
       "    <tr>\n",
       "      <th>317</th>\n",
       "      <td>2 months 10 days</td>\n",
       "      <td>249466</td>\n",
       "      <td>Never resolved problem with Comcast</td>\n",
       "      <td>2015-04-22</td>\n",
       "      <td>8:45:14 AM</td>\n",
       "    </tr>\n",
       "    <tr>\n",
       "      <th>1045</th>\n",
       "      <td>2 months 10 days</td>\n",
       "      <td>250437</td>\n",
       "      <td>Comcast Internet/Cable TV package</td>\n",
       "      <td>2015-04-22</td>\n",
       "      <td>2:46:32 PM</td>\n",
       "    </tr>\n",
       "    <tr>\n",
       "      <th>195</th>\n",
       "      <td>2 months 9 days</td>\n",
       "      <td>252877</td>\n",
       "      <td>Comcast Charges</td>\n",
       "      <td>2015-04-23</td>\n",
       "      <td>3:20:54 PM</td>\n",
       "    </tr>\n",
       "    <tr>\n",
       "      <th>165</th>\n",
       "      <td>2 months 9 days</td>\n",
       "      <td>252368</td>\n",
       "      <td>I AM BEING CHARGE DOUBLE FOR MY CABLE BILL.</td>\n",
       "      <td>2015-04-23</td>\n",
       "      <td>12:56:29 PM</td>\n",
       "    </tr>\n",
       "    <tr>\n",
       "      <th>1901</th>\n",
       "      <td>2 months 7 days</td>\n",
       "      <td>257349</td>\n",
       "      <td>Comcast Internet Service</td>\n",
       "      <td>2015-04-25</td>\n",
       "      <td>8:09:47 PM</td>\n",
       "    </tr>\n",
       "  </tbody>\n",
       "</table>\n",
       "</div>"
      ],
      "text/plain": [
       "     age_in_year_month_day Ticket #  \\\n",
       "1159              3 months   213817   \n",
       "757       2 months 29 days   215802   \n",
       "1693      2 months 18 days   234479   \n",
       "956       2 months 12 days   244172   \n",
       "681       2 months 12 days   244215   \n",
       "317       2 months 10 days   249466   \n",
       "1045      2 months 10 days   250437   \n",
       "195        2 months 9 days   252877   \n",
       "165        2 months 9 days   252368   \n",
       "1901       2 months 7 days   257349   \n",
       "\n",
       "                               Customer Complaint        Date         Time  \n",
       "1159         comcast billing shutting off service  2015-04-02  11:23:54 AM  \n",
       "757                              Unclear policies  2015-04-03   9:22:46 AM  \n",
       "1693                                interne speed  2015-04-14  12:32:35 PM  \n",
       "956                            Internet Only Deal  2015-04-20   9:45:51 AM  \n",
       "681                                  Poor service  2015-04-20  10:14:44 AM  \n",
       "317           Never resolved problem with Comcast  2015-04-22   8:45:14 AM  \n",
       "1045            Comcast Internet/Cable TV package  2015-04-22   2:46:32 PM  \n",
       "195                               Comcast Charges  2015-04-23   3:20:54 PM  \n",
       "165   I AM BEING CHARGE DOUBLE FOR MY CABLE BILL.  2015-04-23  12:56:29 PM  \n",
       "1901                     Comcast Internet Service  2015-04-25   8:09:47 PM  "
      ]
     },
     "execution_count": 34,
     "metadata": {},
     "output_type": "execute_result"
    }
   ],
   "source": [
    "df[[\"age_in_year_month_day\", \"Ticket #\", \"Customer Complaint\", \"Date\", \"Time\"]].iloc[:10]"
   ]
  },
  {
   "cell_type": "markdown",
   "metadata": {},
   "source": [
    "### Time series of count of 10 oldest tickets opened"
   ]
  },
  {
   "cell_type": "code",
   "execution_count": 35,
   "metadata": {},
   "outputs": [
    {
     "data": {
      "text/plain": [
       "<matplotlib.axes._subplots.AxesSubplot at 0x7fb528022320>"
      ]
     },
     "execution_count": 35,
     "metadata": {},
     "output_type": "execute_result"
    },
    {
     "data": {
      "image/png": "[encoded data removed]",
      "text/plain": [
       "<Figure size 1080x576 with 1 Axes>"
      ]
     },
     "metadata": {},
     "output_type": "display_data"
    }
   ],
   "source": [
    "grouped_tickets_by_date.iloc[:10].plot('Date', figsize=(15,8))"
   ]
  }
 ],
 "metadata": {
  "kernelspec": {
   "display_name": "conda_python3",
   "language": "python",
   "name": "conda_python3"
  },
  "language_info": {
   "codemirror_mode": {
    "name": "ipython",
    "version": 3
   },
   "file_extension": ".py",
   "mimetype": "text/x-python",
   "name": "python",
   "nbconvert_exporter": "python",
   "pygments_lexer": "ipython3",
   "version": "3.6.5"
  }
 },
 "nbformat": 4,
 "nbformat_minor": 4
}