{
 "cells": [
  {
   "cell_type": "markdown",
   "metadata": {},
   "source": [
    "# Initial Load Config"
   ]
  },
  {
   "cell_type": "code",
   "execution_count": 165,
   "metadata": {},
   "outputs": [],
   "source": [
    "import pandas as pd\n",
    "import boto3\n",
    "from io import BytesIO\n",
    "\n",
    "AWS_REGION = 'us-east-1'\n",
    "\n",
    "s3 = boto3.client('s3')"
   ]
  },
  {
   "cell_type": "code",
   "execution_count": 166,
   "metadata": {},
   "outputs": [],
   "source": [
    "bucket = \"sura-text-mining-poc\"\n",
    "key = \"raw/complaints/complaints.csv\"\n",
    "key_out = \"enriched/complaints-without-multilines/complaints.csv\"\n",
    "\n",
    "obj = s3.get_object(Bucket=bucket, Key=key)\n",
    "obj = BytesIO(obj['Body'].read())\n",
    "\n",
    "df_source = pd.read_csv(obj)"
   ]
  },
  {
   "cell_type": "code",
   "execution_count": 167,
   "metadata": {
    "scrolled": true
   },
   "outputs": [],
   "source": [
    "splitted = df_source[\"Description\"].str.split(\"\\\\n\")\n",
    "df_source[\"Description\"] = splitted"
   ]
  }
 ],
 "metadata": {
  "kernelspec": {
   "display_name": "conda_python3",
   "language": "python",
   "name": "conda_python3"
  },
  "language_info": {
   "codemirror_mode": {
    "name": "ipython",
    "version": 3
   },
   "file_extension": ".py",
   "mimetype": "text/x-python",
   "name": "python",
   "nbconvert_exporter": "python",
   "pygments_lexer": "ipython3",
   "version": "3.6.5"
  }
 },
 "nbformat": 4,
 "nbformat_minor": 4
}
