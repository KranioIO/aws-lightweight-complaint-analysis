{
 "cells": [
  {
   "cell_type": "markdown",
   "metadata": {},
   "source": [
    "# Text Quality Analyzer\n",
    "by Ricky | v1(20/04/2020)"
   ]
  },
  {
   "cell_type": "markdown",
   "metadata": {},
   "source": [
    "## Observations\n",
    "\n",
    "Are interpreted as wrong words:\n",
    "- URLs\n",
    "- alphanumeric codes (ex: dsa543nqhf7dh3ndsaku43878)\n",
    "\n",
    "Are interpreted as w:\n",
    "- palabras en femenino\n",
    "- palabras en plural\n",
    "- conjugaciones verbales\n",
    "- palabras acompañadas de símbolos o puntuación en su inicio o fin (ej: \"ejemplo:\")\n",
    "\n",
    "Son omitidas:\n",
    "- Todas las expresiones que solo contienen números y símbolos (ej: 19/04/2020, 12.345.678-9)\n",
    "\n",
    "\n",
    "## Posibles Mejoras:\n",
    "\n",
    "Alamacenar las palabras erroneas para analizar si en verdad lo son o son tecnisismo, abreviaciones o términos de la cultura de la empresa.\n",
    "\n",
    "Detectar el idioma de un texto (para no deleccionar todas sus palabras como erroneas)\n"
   ]
  },
  {
   "cell_type": "markdown",
   "metadata": {},
   "source": [
    "## Instalación de Librerías"
   ]
  },
  {
   "cell_type": "code",
   "execution_count": 1,
   "metadata": {},
   "outputs": [],
   "source": [
    "# !pip install datetime"
   ]
  },
  {
   "cell_type": "markdown",
   "metadata": {},
   "source": [
    "## Importaciones"
   ]
  },
  {
   "cell_type": "code",
   "execution_count": 2,
   "metadata": {},
   "outputs": [],
   "source": [
    "from os import listdir\n",
    "from functools import reduce\n",
    "from os.path import join as pjoin\n",
    "# from googletrans import Translator\n",
    "# import goslate\n",
    "\n",
    "from datetime import datetime as dt\n"
   ]
  },
  {
   "cell_type": "markdown",
   "metadata": {},
   "source": [
    "## Variables"
   ]
  },
  {
   "cell_type": "code",
   "execution_count": 3,
   "metadata": {},
   "outputs": [],
   "source": [
    "# Sybols to delete before and after the word:\n",
    "NOT_ALLOWED = ' \\n.,-:;?¿\\'\"'"
   ]
  },
  {
   "cell_type": "markdown",
   "metadata": {},
   "source": [
    "## Funciones"
   ]
  },
  {
   "cell_type": "code",
   "execution_count": 4,
   "metadata": {},
   "outputs": [],
   "source": [
    "def file_to_words_list(file_path):\n",
    "    '''\n",
    "    Receives the path of a file. Each line of the file contains one word.\n",
    "    Return a list with the words.\n",
    "    '''\n",
    "    with open(file_path, 'r', encoding='utf-8') as file:\n",
    "        return list(map(lambda word: word.strip(), file.readlines()))\n",
    "\n",
    "\n",
    "def files_to_lists(directory, *files):\n",
    "    '''\n",
    "    Receives a directory. If file names are given, those will be processed.\n",
    "    Otherwise all the files in the directory will be processed.\n",
    "    Return a list of lists with words.\n",
    "    '''\n",
    "    if files: lst_files = files # specified files are processed\n",
    "    else: lst_files = listdir(directory) # all files in directory are processed\n",
    "    return list(map(lambda x: file_to_words_list(pjoin(directory, x)), lst_files))"
   ]
  },
  {
   "cell_type": "code",
   "execution_count": 5,
   "metadata": {},
   "outputs": [],
   "source": [
    "def has_alpha_char(word):\n",
    "    '''\n",
    "    If word contains alphabet characters returns True. False otherwise.\n",
    "    '''\n",
    "    try:\n",
    "        return reduce(lambda a,b: a or b, map(lambda x: x.isalpha(), word))\n",
    "    except Exception:\n",
    "        print(f'No se pueden revisar los carácteres de la palabra: \"{word}\"')\n",
    "        return False"
   ]
  },
  {
   "cell_type": "markdown",
   "metadata": {},
   "source": [
    "## Clase Principal"
   ]
  },
  {
   "cell_type": "code",
   "execution_count": 6,
   "metadata": {},
   "outputs": [],
   "source": [
    "class TextQualityAnalyzer:\n",
    "    '''\n",
    "    This class checks if the word exists in the provided words lists. \n",
    "    '''\n",
    "    \n",
    "    def __init__(self, *words_lists):\n",
    "        self.idiom_words = reduce(lambda lst1, lst2: lst1 + lst2, words_lists)\n",
    "        self.text = ''\n",
    "        self.__iter_words = None\n",
    "        self.total_words = None\n",
    "        self.c_wrong_words = None\n",
    "\n",
    "# Este fragmento elimina símbolos en medio de una palabra, lo que sería un error.\n",
    "#     def __clean_word(self, word):\n",
    "#         return ''.join(filter(lambda char: char.isalpha(), word)) \n",
    "    \n",
    "    def __parse_text(self):\n",
    "#         self.__iter_words = map(self.__clean_word, self.text.split(' '))\n",
    "         self.__iter_words = map(lambda word: word.strip(NOT_ALLOWED), self.text.split(' '))\n",
    "    \n",
    "    def word_exist(self, word):\n",
    "        '''\n",
    "        If the word exist in the word list return True. False otherwise.\n",
    "        '''\n",
    "        word = word.lower()\n",
    "        return word in self.idiom_words\n",
    "        \n",
    "    def __check_words_existance(self):\n",
    "        for word in self.__iter_words:\n",
    "            if has_alpha_char(word):\n",
    "                self.c_wrong_words += int(not self.word_exist(word))\n",
    "                self.total_words += 1\n",
    "            \n",
    "    def analize(self, text):\n",
    "        '''\n",
    "        Receives a text and return a score(int) depending of the existing words.\n",
    "        '''\n",
    "        self.total_words = 0\n",
    "        self.c_wrong_words = 0\n",
    "        \n",
    "        self.text = text\n",
    "        self.__parse_text()\n",
    "        self.__check_words_existance()\n",
    "        return self.total_words // (self.c_wrong_words + 1)\n"
   ]
  },
  {
   "cell_type": "markdown",
   "metadata": {},
   "source": [
    "## Ejemplos"
   ]
  },
  {
   "cell_type": "code",
   "execution_count": 7,
   "metadata": {},
   "outputs": [],
   "source": [
    "# Examples imports:\n",
    "import pandas as pd\n",
    "import boto3\n",
    "from io import BytesIO"
   ]
  },
  {
   "cell_type": "code",
   "execution_count": 8,
   "metadata": {},
   "outputs": [],
   "source": [
    "# Variables:\n",
    "DIRECTORY_DICTS = 'languages_dictionaries'\n",
    "SPANISH_DICT = 'spanish.0'\n",
    "ENGLISH_DICT = 'english.0'\n"
   ]
  },
  {
   "cell_type": "markdown",
   "metadata": {},
   "source": [
    "### Creación de Objeto TextQualityAnalyzer con Archivo de Palabras en Español"
   ]
  },
  {
   "cell_type": "code",
   "execution_count": 9,
   "metadata": {},
   "outputs": [
    {
     "name": "stdout",
     "output_type": "stream",
     "text": [
      "tiempo ejecución: 0:00:00.505523\n"
     ]
    }
   ],
   "source": [
    "start = dt.now()\n",
    "\n",
    "lst_words = file_to_words_list(pjoin(DIRECTORY_DICTS, SPANISH_DICT)) #Change here the language\n",
    "tqa = TextQualityAnalyzer(lst_words) # Here you can add all lists you want separated by ','\n",
    "\n",
    "print(f'tiempo ejecución: {dt.now() - start}')"
   ]
  },
  {
   "cell_type": "markdown",
   "metadata": {},
   "source": [
    "### Ejemplo de Análisis y Conteos de Palabras:"
   ]
  },
  {
   "cell_type": "code",
   "execution_count": 10,
   "metadata": {},
   "outputs": [
    {
     "data": {
      "text/plain": [
       "2"
      ]
     },
     "execution_count": 10,
     "metadata": {},
     "output_type": "execute_result"
    }
   ],
   "source": [
    "tqa.analize('mí número personal: 12.345.678-9 fsafdas')"
   ]
  },
  {
   "cell_type": "code",
   "execution_count": 11,
   "metadata": {},
   "outputs": [
    {
     "data": {
      "text/plain": [
       "4"
      ]
     },
     "execution_count": 11,
     "metadata": {},
     "output_type": "execute_result"
    }
   ],
   "source": [
    "tqa.total_words"
   ]
  },
  {
   "cell_type": "code",
   "execution_count": 12,
   "metadata": {},
   "outputs": [
    {
     "data": {
      "text/plain": [
       "1"
      ]
     },
     "execution_count": 12,
     "metadata": {},
     "output_type": "execute_result"
    }
   ],
   "source": [
    "tqa.c_wrong_words"
   ]
  },
  {
   "cell_type": "markdown",
   "metadata": {},
   "source": [
    "### Ejemplo con DataFrame"
   ]
  },
  {
   "cell_type": "code",
   "execution_count": 13,
   "metadata": {},
   "outputs": [],
   "source": [
    "# Variables to connect AWS S3\n",
    "\n",
    "AWS_REGION = 'us-east-1'\n",
    "# MIN_SENTENCE_LENGTH_IN_CHARS = 10\n",
    "# MAX_SENTENCE_LENGTH_IN_CHARS = 4500\n",
    "# COMPREHEND_BATCH_SIZE = 25  ## This batch size results in groups no larger than 25 items\n",
    "# NUMBER_OF_BATCHES = 30\n",
    "# ROW_LIMIT = 10000\n",
    "\n",
    "s3 = boto3.client('s3')\n",
    "comprehend_client = boto3.client('comprehend',region_name = AWS_REGION)"
   ]
  },
  {
   "cell_type": "code",
   "execution_count": 14,
   "metadata": {},
   "outputs": [
    {
     "data": {
      "text/html": [
       "<div>\n",
       "<style scoped>\n",
       "    .dataframe tbody tr th:only-of-type {\n",
       "        vertical-align: middle;\n",
       "    }\n",
       "\n",
       "    .dataframe tbody tr th {\n",
       "        vertical-align: top;\n",
       "    }\n",
       "\n",
       "    .dataframe thead th {\n",
       "        text-align: right;\n",
       "    }\n",
       "</style>\n",
       "<table border=\"1\" class=\"dataframe\">\n",
       "  <thead>\n",
       "    <tr style=\"text-align: right;\">\n",
       "      <th></th>\n",
       "      <th>author</th>\n",
       "      <th>posted_on</th>\n",
       "      <th>rating</th>\n",
       "      <th>text</th>\n",
       "    </tr>\n",
       "  </thead>\n",
       "  <tbody>\n",
       "    <tr>\n",
       "      <th>0</th>\n",
       "      <td>Alantae of Chesterfeild, MI</td>\n",
       "      <td>Nov. 22, 2016</td>\n",
       "      <td>1</td>\n",
       "      <td>I used to love Comcast. Until all these consta...</td>\n",
       "    </tr>\n",
       "    <tr>\n",
       "      <th>1</th>\n",
       "      <td>Vera of Philadelphia, PA</td>\n",
       "      <td>Nov. 19, 2016</td>\n",
       "      <td>1</td>\n",
       "      <td>I'm so over Comcast! The worst internet provid...</td>\n",
       "    </tr>\n",
       "    <tr>\n",
       "      <th>2</th>\n",
       "      <td>Sarah of Rancho Cordova, CA</td>\n",
       "      <td>Nov. 17, 2016</td>\n",
       "      <td>1</td>\n",
       "      <td>If I could give them a negative star or no sta...</td>\n",
       "    </tr>\n",
       "  </tbody>\n",
       "</table>\n",
       "</div>"
      ],
      "text/plain": [
       "                        author      posted_on  rating  \\\n",
       "0  Alantae of Chesterfeild, MI  Nov. 22, 2016       1   \n",
       "1     Vera of Philadelphia, PA  Nov. 19, 2016       1   \n",
       "2  Sarah of Rancho Cordova, CA  Nov. 17, 2016       1   \n",
       "\n",
       "                                                text  \n",
       "0  I used to love Comcast. Until all these consta...  \n",
       "1  I'm so over Comcast! The worst internet provid...  \n",
       "2  If I could give them a negative star or no sta...  "
      ]
     },
     "execution_count": 14,
     "metadata": {},
     "output_type": "execute_result"
    }
   ],
   "source": [
    "# Variables\n",
    "bucket = \"sura-text-mining-poc\"\n",
    "key = 'raw/ratings/ratings.csv'\n",
    "key2 = 'raw/complaints/complaints.csv'\n",
    "\n",
    "# Creation of first dataframe\n",
    "obj = s3.get_object(Bucket=bucket, Key=key)\n",
    "obj = BytesIO(obj['Body'].read())\n",
    "\n",
    "df = pd.read_csv(obj, sep=\",\", error_bad_lines=False, warn_bad_lines=False, nrows=7)\n",
    "df.head(3)"
   ]
  },
  {
   "cell_type": "code",
   "execution_count": 15,
   "metadata": {},
   "outputs": [
    {
     "data": {
      "text/html": [
       "<div>\n",
       "<style scoped>\n",
       "    .dataframe tbody tr th:only-of-type {\n",
       "        vertical-align: middle;\n",
       "    }\n",
       "\n",
       "    .dataframe tbody tr th {\n",
       "        vertical-align: top;\n",
       "    }\n",
       "\n",
       "    .dataframe thead th {\n",
       "        text-align: right;\n",
       "    }\n",
       "</style>\n",
       "<table border=\"1\" class=\"dataframe\">\n",
       "  <thead>\n",
       "    <tr style=\"text-align: right;\">\n",
       "      <th></th>\n",
       "      <th>Ticket #</th>\n",
       "      <th>Customer Complaint</th>\n",
       "      <th>Date</th>\n",
       "      <th>Time</th>\n",
       "      <th>Received Via</th>\n",
       "      <th>City</th>\n",
       "      <th>State</th>\n",
       "      <th>Zip code</th>\n",
       "      <th>Status</th>\n",
       "      <th>Filing on Behalf of Someone</th>\n",
       "      <th>Description</th>\n",
       "    </tr>\n",
       "  </thead>\n",
       "  <tbody>\n",
       "    <tr>\n",
       "      <th>0</th>\n",
       "      <td>250635</td>\n",
       "      <td>Comcast Cable Internet Speeds</td>\n",
       "      <td>4/22/2015</td>\n",
       "      <td>3:53:50 PM</td>\n",
       "      <td>Internet</td>\n",
       "      <td>Abingdon</td>\n",
       "      <td>Maryland</td>\n",
       "      <td>21009</td>\n",
       "      <td>Closed</td>\n",
       "      <td>No</td>\n",
       "      <td>I have been contacting Comcast Internet Techni...</td>\n",
       "    </tr>\n",
       "    <tr>\n",
       "      <th>1</th>\n",
       "      <td>223441</td>\n",
       "      <td>Payment disappear - service got disconnected</td>\n",
       "      <td>4/8/2015</td>\n",
       "      <td>10:22:56 AM</td>\n",
       "      <td>Internet</td>\n",
       "      <td>Acworth</td>\n",
       "      <td>Georgia</td>\n",
       "      <td>30102</td>\n",
       "      <td>Closed</td>\n",
       "      <td>No</td>\n",
       "      <td>Back in January 2015 I made 2 payments: One fo...</td>\n",
       "    </tr>\n",
       "    <tr>\n",
       "      <th>2</th>\n",
       "      <td>242732</td>\n",
       "      <td>Speed and Service</td>\n",
       "      <td>4/18/2015</td>\n",
       "      <td>9:55:47 AM</td>\n",
       "      <td>Internet</td>\n",
       "      <td>Acworth</td>\n",
       "      <td>Georgia</td>\n",
       "      <td>30101</td>\n",
       "      <td>Closed</td>\n",
       "      <td>Yes</td>\n",
       "      <td>Our home is located at in Acworth Georgia 3010...</td>\n",
       "    </tr>\n",
       "  </tbody>\n",
       "</table>\n",
       "</div>"
      ],
      "text/plain": [
       "   Ticket #                            Customer Complaint       Date  \\\n",
       "0    250635                 Comcast Cable Internet Speeds  4/22/2015   \n",
       "1    223441  Payment disappear - service got disconnected   4/8/2015   \n",
       "2    242732                             Speed and Service  4/18/2015   \n",
       "\n",
       "          Time Received Via      City     State  Zip code  Status  \\\n",
       "0   3:53:50 PM     Internet  Abingdon  Maryland     21009  Closed   \n",
       "1  10:22:56 AM     Internet   Acworth   Georgia     30102  Closed   \n",
       "2   9:55:47 AM     Internet   Acworth   Georgia     30101  Closed   \n",
       "\n",
       "  Filing on Behalf of Someone  \\\n",
       "0                          No   \n",
       "1                          No   \n",
       "2                         Yes   \n",
       "\n",
       "                                         Description  \n",
       "0  I have been contacting Comcast Internet Techni...  \n",
       "1  Back in January 2015 I made 2 payments: One fo...  \n",
       "2  Our home is located at in Acworth Georgia 3010...  "
      ]
     },
     "execution_count": 15,
     "metadata": {},
     "output_type": "execute_result"
    }
   ],
   "source": [
    "# Creation of second dataframe:\n",
    "obj2 = s3.get_object(Bucket=bucket, Key=key2)\n",
    "obj2 = BytesIO(obj2['Body'].read())\n",
    "# obj = gzip.GzipFile(fileobj=obj)\n",
    "\n",
    "df2 = pd.read_csv(obj2, sep=\",\", error_bad_lines=False, warn_bad_lines=False, nrows=7)\n",
    "df2.head(3)"
   ]
  },
  {
   "cell_type": "code",
   "execution_count": 16,
   "metadata": {},
   "outputs": [
    {
     "data": {
      "text/plain": [
       "(7, 3)"
      ]
     },
     "execution_count": 16,
     "metadata": {},
     "output_type": "execute_result"
    }
   ],
   "source": [
    "# Selection of columns:\n",
    "df_example = df[['author', 'posted_on', 'text']]\n",
    "df_example.columns = ['author', 'date', 'text']\n",
    "df_example.shape"
   ]
  },
  {
   "cell_type": "code",
   "execution_count": 17,
   "metadata": {},
   "outputs": [],
   "source": [
    "# Spanish translations:\n",
    "\n",
    "lst_translations= ['Me encantaba Comcast. Hasta todas estas actualizaciones constantes. Mi Internet y mi cable se bloquean mucho por la noche y, a veces, durante el día, algunos canales ni siquiera funcionan y, a pedido, a veces tampoco funcionan. Deseo que hagan algo al respecto. Porque hace solo unos minutos, Internet se ha bloqueado durante unos 20 minutos sin ningún motivo. Estoy cansado de eso y estoy pensando en cambiar a Wow o algo así. Por favor, no obtengas Xfinity.',\n",
    " 'Estoy tan cansado de Comcast! El peor proveedor de internet. Estoy tomando clases en línea y muchas veces llegué tarde con mis tareas debido a las interrupciones de energía en mi área que conducen a un servicio de Internet de baja calidad. Definitivamente cambiando a Verizon. Prefiero pagar $ 10 adicionales que tratar con problemas de Internet Comcast y sin parar.',\n",
    " 'Si pudiera darles una estrella negativa o ninguna estrella en esta crítica, lo haría. Nunca he trabajado con ninguna industria con tan mal servicio al cliente como Comcast. No es una cuestión de dinero porque hago lo suficiente por encima y más allá para pagar sus servicios, pero son una estafa legítima. Creo que son la estafa más grande desde el colapso principal de la industria hipotecaria y espero mudarme a algún lugar donde Comcast no exista. El hecho de querer ayudar o hacer lo correcto es sinceramente asombroso. Si tiene que llamar, lo que hace PARA TODOS LOS PROBLEMAS: facturación, conexión / servicio, agregar o eliminar servicios, errores, no importa que se le transfiera un mínimo de 4 veces. Todos dicen lo mismo y pasan los problemas a la siguiente persona y nadie resuelve el problema. Ofrecen paquetes promocionales en plazos pequeños y nunca pueden acceder a ellos nuevamente para que luego lo actualicen sin que lo desee y cambien su facturación. Han pasado 5 meses y me han cobrado $ 40 al mes desde que comencé con ellos. La grosería descarada que debe hacerlo calificado para hacer este trabajo es el tipo de servicio de calidad que le otorga esta revisión. Entonces ... Querido Comcast, apestas. Sinceramente, un cliente que no puede esperar para nunca volver a usar su servicio.',\n",
    " 'He tenido las peores experiencias hasta ahora desde la instalación el 10/10/16. Nada más que problemas. Dos no presentaciones en citas de servicio programadas, dificultad extrema para agregar cuadros al segundo piso. ¿Qué es tan difícil de agregar cuadros a una cuenta existente? ¡No, gracias, no estoy comenzando una segunda cuenta para el segundo piso de la misma casa! ¿Un paquete de paquete separado? Todo lo que quería era agregar algunas cajas. Aparentemente esto no es posible. Bueno, supongo que no es posible seguir siendo cliente.',\n",
    " 'Revise su contrato cuando se registre en Comcast ya que sus ofertas anunciadas no coinciden con el contrato que emiten. Me inscribí por $ 49.99 a 150Mbps de internet por 2 años, sin embargo mi contrato tiene $ 19.99 por 25Mbps de internet por 2 años. ¡Dicen que hay un complemento por $ 30 que lo impulsa a Blast! Pro, sin embargo, esto no es parte del contrato, lo que significa que Comcast puede aumentar el precio cuando lo desee dentro de los 2 años. Esto significa que no he recibido la tarifa anunciada. Hasta el momento, Comcast se ha negado a emitir un contrato corregido, o emitir por escrito que los $ 30 permanecerán a ese precio durante 2 años. Solo tengo que confiar en ellos. Así que cuidado, Comcast está haciendo las prácticas ilegales habituales, supongo que atraparán a la gente y espero que no se den cuenta y terminen pagando más de lo que deberían.',\n",
    " 'Gracias a Dios. Estoy cambiando a plato. Me dieron precios increíbles y super personas con las que tratar. Realmente puedes entender lo que están diciendo. Estoy muy emocionado de finalmente poder devolver este equipo, aunque todavía no he recibido la seguridad del hogar como lo prometí 4 veces. Vaya a h * ll Comcast. Me has hecho miserable y me has hecho perder muchas horas de trabajo con tus promesas.',\n",
    " 'He sido cliente por mucho tiempo y solo tengo a Xfinity como mi ISP por un tiempo. Mientras estaba en el Walmart local el 4 de noviembre de 2016, había representantes de clientes de Xfinity que realizaban promociones para y en el área de Salt Lake City. Hablé con un representante y pude obtener y firmar un contrato para Pro Blast a $ 50.00 al mes sin contrato ni cargos por cancelación anticipada. Recibí un correo electrónico de Xfinity indicando los cambios que se realizarían en mi cuenta. Declaró que no solo estaría bajo contrato por 24 meses sino que habría cargos por cancelación anticipada. Esto no es para lo que me había inscrito originalmente y lo indica específicamente en el contrato que firmé. Me contacté con el servicio al cliente de Xfinity y me dijeron que no podían ver el contrato por teléfono que tendría que ir a la tienda de Xfinity en persona. Fui a la tienda Xfinity el 8 de noviembre de 2016 y me dijeron que estaría bajo contrato y que no había forma de evitarlo. Debido a esto, he cancelado la actualización y volví a mi plan original. Es simple y llanamente. Cuando se firma un contrato, debe cumplirse con lo que se indica en él. Xfinity es deshonesto y no confiable. Por lo tanto, buscaré y cambiaré mi ISP lo antes posible a otra compañía. Xfinity no merece un cheque de mi parte ni de nadie más que yo conozca.']"
   ]
  },
  {
   "cell_type": "code",
   "execution_count": 18,
   "metadata": {},
   "outputs": [
    {
     "data": {
      "text/plain": [
       "7"
      ]
     },
     "execution_count": 18,
     "metadata": {},
     "output_type": "execute_result"
    }
   ],
   "source": [
    "len(lst_translations)"
   ]
  },
  {
   "cell_type": "code",
   "execution_count": 19,
   "metadata": {},
   "outputs": [
    {
     "data": {
      "text/html": [
       "<div>\n",
       "<style scoped>\n",
       "    .dataframe tbody tr th:only-of-type {\n",
       "        vertical-align: middle;\n",
       "    }\n",
       "\n",
       "    .dataframe tbody tr th {\n",
       "        vertical-align: top;\n",
       "    }\n",
       "\n",
       "    .dataframe thead th {\n",
       "        text-align: right;\n",
       "    }\n",
       "</style>\n",
       "<table border=\"1\" class=\"dataframe\">\n",
       "  <thead>\n",
       "    <tr style=\"text-align: right;\">\n",
       "      <th></th>\n",
       "      <th>author</th>\n",
       "      <th>date</th>\n",
       "      <th>text</th>\n",
       "      <th>spanish_text</th>\n",
       "    </tr>\n",
       "  </thead>\n",
       "  <tbody>\n",
       "    <tr>\n",
       "      <th>0</th>\n",
       "      <td>Alantae of Chesterfeild, MI</td>\n",
       "      <td>Nov. 22, 2016</td>\n",
       "      <td>I used to love Comcast. Until all these consta...</td>\n",
       "      <td>Me encantaba Comcast. Hasta todas estas actual...</td>\n",
       "    </tr>\n",
       "    <tr>\n",
       "      <th>1</th>\n",
       "      <td>Vera of Philadelphia, PA</td>\n",
       "      <td>Nov. 19, 2016</td>\n",
       "      <td>I'm so over Comcast! The worst internet provid...</td>\n",
       "      <td>Estoy tan cansado de Comcast! El peor proveedo...</td>\n",
       "    </tr>\n",
       "    <tr>\n",
       "      <th>2</th>\n",
       "      <td>Sarah of Rancho Cordova, CA</td>\n",
       "      <td>Nov. 17, 2016</td>\n",
       "      <td>If I could give them a negative star or no sta...</td>\n",
       "      <td>Si pudiera darles una estrella negativa o ning...</td>\n",
       "    </tr>\n",
       "  </tbody>\n",
       "</table>\n",
       "</div>"
      ],
      "text/plain": [
       "                        author           date  \\\n",
       "0  Alantae of Chesterfeild, MI  Nov. 22, 2016   \n",
       "1     Vera of Philadelphia, PA  Nov. 19, 2016   \n",
       "2  Sarah of Rancho Cordova, CA  Nov. 17, 2016   \n",
       "\n",
       "                                                text  \\\n",
       "0  I used to love Comcast. Until all these consta...   \n",
       "1  I'm so over Comcast! The worst internet provid...   \n",
       "2  If I could give them a negative star or no sta...   \n",
       "\n",
       "                                        spanish_text  \n",
       "0  Me encantaba Comcast. Hasta todas estas actual...  \n",
       "1  Estoy tan cansado de Comcast! El peor proveedo...  \n",
       "2  Si pudiera darles una estrella negativa o ning...  "
      ]
     },
     "execution_count": 19,
     "metadata": {},
     "output_type": "execute_result"
    }
   ],
   "source": [
    "# Add translations to DF:\n",
    "df_example['spanish_text'] = lst_translations\n",
    "df_example.head(3)"
   ]
  },
  {
   "cell_type": "code",
   "execution_count": 20,
   "metadata": {},
   "outputs": [
    {
     "name": "stdout",
     "output_type": "stream",
     "text": [
      "No se pueden revisar los carácteres de la palabra: \"\"\n",
      "[(19, 77, 3), (14, 59, 3), (54, 216, 3), (28, 85, 2), (16, 146, 8), (13, 68, 4), (14, 239, 15)]\n"
     ]
    },
    {
     "data": {
      "text/html": [
       "<div>\n",
       "<style scoped>\n",
       "    .dataframe tbody tr th:only-of-type {\n",
       "        vertical-align: middle;\n",
       "    }\n",
       "\n",
       "    .dataframe tbody tr th {\n",
       "        vertical-align: top;\n",
       "    }\n",
       "\n",
       "    .dataframe thead th {\n",
       "        text-align: right;\n",
       "    }\n",
       "</style>\n",
       "<table border=\"1\" class=\"dataframe\">\n",
       "  <thead>\n",
       "    <tr style=\"text-align: right;\">\n",
       "      <th></th>\n",
       "      <th>author</th>\n",
       "      <th>date</th>\n",
       "      <th>text</th>\n",
       "      <th>spanish_text</th>\n",
       "      <th>total_words</th>\n",
       "      <th>wrong_words</th>\n",
       "      <th>priority</th>\n",
       "    </tr>\n",
       "  </thead>\n",
       "  <tbody>\n",
       "    <tr>\n",
       "      <th>0</th>\n",
       "      <td>Alantae of Chesterfeild, MI</td>\n",
       "      <td>Nov. 22, 2016</td>\n",
       "      <td>I used to love Comcast. Until all these consta...</td>\n",
       "      <td>Me encantaba Comcast. Hasta todas estas actual...</td>\n",
       "      <td>77</td>\n",
       "      <td>3</td>\n",
       "      <td>19</td>\n",
       "    </tr>\n",
       "    <tr>\n",
       "      <th>1</th>\n",
       "      <td>Vera of Philadelphia, PA</td>\n",
       "      <td>Nov. 19, 2016</td>\n",
       "      <td>I'm so over Comcast! The worst internet provid...</td>\n",
       "      <td>Estoy tan cansado de Comcast! El peor proveedo...</td>\n",
       "      <td>59</td>\n",
       "      <td>3</td>\n",
       "      <td>14</td>\n",
       "    </tr>\n",
       "    <tr>\n",
       "      <th>2</th>\n",
       "      <td>Sarah of Rancho Cordova, CA</td>\n",
       "      <td>Nov. 17, 2016</td>\n",
       "      <td>If I could give them a negative star or no sta...</td>\n",
       "      <td>Si pudiera darles una estrella negativa o ning...</td>\n",
       "      <td>216</td>\n",
       "      <td>3</td>\n",
       "      <td>54</td>\n",
       "    </tr>\n",
       "    <tr>\n",
       "      <th>3</th>\n",
       "      <td>Dennis of Manchester, NH</td>\n",
       "      <td>Nov. 16, 2016</td>\n",
       "      <td>I've had the worst experiences so far since in...</td>\n",
       "      <td>He tenido las peores experiencias hasta ahora ...</td>\n",
       "      <td>85</td>\n",
       "      <td>2</td>\n",
       "      <td>28</td>\n",
       "    </tr>\n",
       "    <tr>\n",
       "      <th>4</th>\n",
       "      <td>Ryan of Bellevue, WA</td>\n",
       "      <td>Nov. 14, 2016</td>\n",
       "      <td>Check your contract when you sign up for Comca...</td>\n",
       "      <td>Revise su contrato cuando se registre en Comca...</td>\n",
       "      <td>146</td>\n",
       "      <td>8</td>\n",
       "      <td>16</td>\n",
       "    </tr>\n",
       "    <tr>\n",
       "      <th>5</th>\n",
       "      <td>Terri of Mobile, AL</td>\n",
       "      <td>Nov. 9, 2016</td>\n",
       "      <td>Thank God. I am changing to Dish. They gave me...</td>\n",
       "      <td>Gracias a Dios. Estoy cambiando a plato. Me di...</td>\n",
       "      <td>68</td>\n",
       "      <td>4</td>\n",
       "      <td>13</td>\n",
       "    </tr>\n",
       "    <tr>\n",
       "      <th>6</th>\n",
       "      <td>Kellie of Salt Lake City, UT</td>\n",
       "      <td>Nov. 9, 2016</td>\n",
       "      <td>I Have been a long time customer and only have...</td>\n",
       "      <td>He sido cliente por mucho tiempo y solo tengo ...</td>\n",
       "      <td>239</td>\n",
       "      <td>15</td>\n",
       "      <td>14</td>\n",
       "    </tr>\n",
       "  </tbody>\n",
       "</table>\n",
       "</div>"
      ],
      "text/plain": [
       "                         author           date  \\\n",
       "0   Alantae of Chesterfeild, MI  Nov. 22, 2016   \n",
       "1      Vera of Philadelphia, PA  Nov. 19, 2016   \n",
       "2   Sarah of Rancho Cordova, CA  Nov. 17, 2016   \n",
       "3      Dennis of Manchester, NH  Nov. 16, 2016   \n",
       "4          Ryan of Bellevue, WA  Nov. 14, 2016   \n",
       "5           Terri of Mobile, AL   Nov. 9, 2016   \n",
       "6  Kellie of Salt Lake City, UT   Nov. 9, 2016   \n",
       "\n",
       "                                                text  \\\n",
       "0  I used to love Comcast. Until all these consta...   \n",
       "1  I'm so over Comcast! The worst internet provid...   \n",
       "2  If I could give them a negative star or no sta...   \n",
       "3  I've had the worst experiences so far since in...   \n",
       "4  Check your contract when you sign up for Comca...   \n",
       "5  Thank God. I am changing to Dish. They gave me...   \n",
       "6  I Have been a long time customer and only have...   \n",
       "\n",
       "                                        spanish_text  total_words  \\\n",
       "0  Me encantaba Comcast. Hasta todas estas actual...           77   \n",
       "1  Estoy tan cansado de Comcast! El peor proveedo...           59   \n",
       "2  Si pudiera darles una estrella negativa o ning...          216   \n",
       "3  He tenido las peores experiencias hasta ahora ...           85   \n",
       "4  Revise su contrato cuando se registre en Comca...          146   \n",
       "5  Gracias a Dios. Estoy cambiando a plato. Me di...           68   \n",
       "6  He sido cliente por mucho tiempo y solo tengo ...          239   \n",
       "\n",
       "   wrong_words  priority  \n",
       "0            3        19  \n",
       "1            3        14  \n",
       "2            3        54  \n",
       "3            2        28  \n",
       "4            8        16  \n",
       "5            4        13  \n",
       "6           15        14  "
      ]
     },
     "execution_count": 20,
     "metadata": {},
     "output_type": "execute_result"
    }
   ],
   "source": [
    "# Executions of the analysis and creation of DF columns:\n",
    "\n",
    "analysis = [(tqa.analize(x), tqa.total_words,tqa.c_wrong_words) for x in df_example['spanish_text']]\n",
    "print(analysis)\n",
    "df_example['total_words'] = [x[1] for x in analysis]\n",
    "df_example['wrong_words'] = [x[2] for x in analysis]\n",
    "df_example['priority'] = [x[0] for x in analysis]\n",
    "df_example"
   ]
  },
  {
   "cell_type": "code",
   "execution_count": 21,
   "metadata": {},
   "outputs": [
    {
     "data": {
      "text/html": [
       "<div>\n",
       "<style scoped>\n",
       "    .dataframe tbody tr th:only-of-type {\n",
       "        vertical-align: middle;\n",
       "    }\n",
       "\n",
       "    .dataframe tbody tr th {\n",
       "        vertical-align: top;\n",
       "    }\n",
       "\n",
       "    .dataframe thead th {\n",
       "        text-align: right;\n",
       "    }\n",
       "</style>\n",
       "<table border=\"1\" class=\"dataframe\">\n",
       "  <thead>\n",
       "    <tr style=\"text-align: right;\">\n",
       "      <th></th>\n",
       "      <th>author</th>\n",
       "      <th>date</th>\n",
       "      <th>text</th>\n",
       "      <th>spanish_text</th>\n",
       "      <th>total_words</th>\n",
       "      <th>wrong_words</th>\n",
       "      <th>priority</th>\n",
       "    </tr>\n",
       "  </thead>\n",
       "  <tbody>\n",
       "    <tr>\n",
       "      <th>2</th>\n",
       "      <td>Sarah of Rancho Cordova, CA</td>\n",
       "      <td>Nov. 17, 2016</td>\n",
       "      <td>If I could give them a negative star or no sta...</td>\n",
       "      <td>Si pudiera darles una estrella negativa o ning...</td>\n",
       "      <td>216</td>\n",
       "      <td>3</td>\n",
       "      <td>54</td>\n",
       "    </tr>\n",
       "    <tr>\n",
       "      <th>3</th>\n",
       "      <td>Dennis of Manchester, NH</td>\n",
       "      <td>Nov. 16, 2016</td>\n",
       "      <td>I've had the worst experiences so far since in...</td>\n",
       "      <td>He tenido las peores experiencias hasta ahora ...</td>\n",
       "      <td>85</td>\n",
       "      <td>2</td>\n",
       "      <td>28</td>\n",
       "    </tr>\n",
       "    <tr>\n",
       "      <th>0</th>\n",
       "      <td>Alantae of Chesterfeild, MI</td>\n",
       "      <td>Nov. 22, 2016</td>\n",
       "      <td>I used to love Comcast. Until all these consta...</td>\n",
       "      <td>Me encantaba Comcast. Hasta todas estas actual...</td>\n",
       "      <td>77</td>\n",
       "      <td>3</td>\n",
       "      <td>19</td>\n",
       "    </tr>\n",
       "    <tr>\n",
       "      <th>4</th>\n",
       "      <td>Ryan of Bellevue, WA</td>\n",
       "      <td>Nov. 14, 2016</td>\n",
       "      <td>Check your contract when you sign up for Comca...</td>\n",
       "      <td>Revise su contrato cuando se registre en Comca...</td>\n",
       "      <td>146</td>\n",
       "      <td>8</td>\n",
       "      <td>16</td>\n",
       "    </tr>\n",
       "    <tr>\n",
       "      <th>1</th>\n",
       "      <td>Vera of Philadelphia, PA</td>\n",
       "      <td>Nov. 19, 2016</td>\n",
       "      <td>I'm so over Comcast! The worst internet provid...</td>\n",
       "      <td>Estoy tan cansado de Comcast! El peor proveedo...</td>\n",
       "      <td>59</td>\n",
       "      <td>3</td>\n",
       "      <td>14</td>\n",
       "    </tr>\n",
       "    <tr>\n",
       "      <th>6</th>\n",
       "      <td>Kellie of Salt Lake City, UT</td>\n",
       "      <td>Nov. 9, 2016</td>\n",
       "      <td>I Have been a long time customer and only have...</td>\n",
       "      <td>He sido cliente por mucho tiempo y solo tengo ...</td>\n",
       "      <td>239</td>\n",
       "      <td>15</td>\n",
       "      <td>14</td>\n",
       "    </tr>\n",
       "    <tr>\n",
       "      <th>5</th>\n",
       "      <td>Terri of Mobile, AL</td>\n",
       "      <td>Nov. 9, 2016</td>\n",
       "      <td>Thank God. I am changing to Dish. They gave me...</td>\n",
       "      <td>Gracias a Dios. Estoy cambiando a plato. Me di...</td>\n",
       "      <td>68</td>\n",
       "      <td>4</td>\n",
       "      <td>13</td>\n",
       "    </tr>\n",
       "  </tbody>\n",
       "</table>\n",
       "</div>"
      ],
      "text/plain": [
       "                         author           date  \\\n",
       "2   Sarah of Rancho Cordova, CA  Nov. 17, 2016   \n",
       "3      Dennis of Manchester, NH  Nov. 16, 2016   \n",
       "0   Alantae of Chesterfeild, MI  Nov. 22, 2016   \n",
       "4          Ryan of Bellevue, WA  Nov. 14, 2016   \n",
       "1      Vera of Philadelphia, PA  Nov. 19, 2016   \n",
       "6  Kellie of Salt Lake City, UT   Nov. 9, 2016   \n",
       "5           Terri of Mobile, AL   Nov. 9, 2016   \n",
       "\n",
       "                                                text  \\\n",
       "2  If I could give them a negative star or no sta...   \n",
       "3  I've had the worst experiences so far since in...   \n",
       "0  I used to love Comcast. Until all these consta...   \n",
       "4  Check your contract when you sign up for Comca...   \n",
       "1  I'm so over Comcast! The worst internet provid...   \n",
       "6  I Have been a long time customer and only have...   \n",
       "5  Thank God. I am changing to Dish. They gave me...   \n",
       "\n",
       "                                        spanish_text  total_words  \\\n",
       "2  Si pudiera darles una estrella negativa o ning...          216   \n",
       "3  He tenido las peores experiencias hasta ahora ...           85   \n",
       "0  Me encantaba Comcast. Hasta todas estas actual...           77   \n",
       "4  Revise su contrato cuando se registre en Comca...          146   \n",
       "1  Estoy tan cansado de Comcast! El peor proveedo...           59   \n",
       "6  He sido cliente por mucho tiempo y solo tengo ...          239   \n",
       "5  Gracias a Dios. Estoy cambiando a plato. Me di...           68   \n",
       "\n",
       "   wrong_words  priority  \n",
       "2            3        54  \n",
       "3            2        28  \n",
       "0            3        19  \n",
       "4            8        16  \n",
       "1            3        14  \n",
       "6           15        14  \n",
       "5            4        13  "
      ]
     },
     "execution_count": 21,
     "metadata": {},
     "output_type": "execute_result"
    }
   ],
   "source": [
    "# DF sorted by descending priority score:\n",
    "df_example.sort_values('priority', ascending=False)"
   ]
  },
  {
   "cell_type": "markdown",
   "metadata": {},
   "source": [
    "### Scripts que Generan Traducciones"
   ]
  },
  {
   "cell_type": "code",
   "execution_count": 22,
   "metadata": {},
   "outputs": [],
   "source": [
    "# # Generation of translations:\n",
    "\n",
    "\n",
    "\n",
    "# translator = goslate.Goslate()\n",
    "\n",
    "# df_example['spanish_text'] = [translator.translate(text, 'es') for text in df_example.text]\n",
    "# df_example.head(3)\n"
   ]
  },
  {
   "cell_type": "code",
   "execution_count": 23,
   "metadata": {},
   "outputs": [],
   "source": [
    "# text = \"I used to love Comcast. Until all these constant updates. My internet and cable crash a lot at night, and sometimes during the day, some channels don't even work and on demand sometimes don't play either. I wish they will do something about it. Because just a few mins ago, the internet have crashed for about 20 mins for no reason. I'm tired of it and thinking about switching to Wow or something. Please do not get Xfinity.\"\n",
    "# # translator.translate(text, src='en', dest='es')\n",
    "\n",
    "# gs = goslate.Goslate()\n",
    "# translatedText = gs.translate(text,'es')\n",
    "\n",
    "# print(translatedText)\n"
   ]
  },
  {
   "cell_type": "code",
   "execution_count": 24,
   "metadata": {},
   "outputs": [],
   "source": [
    "# import goslate\n",
    "\n",
    "# text = \"Hello World\"\n",
    "\n",
    "# gs = goslate.Goslate()\n",
    "# translatedText = gs.translate(text,'es')\n",
    "\n",
    "# print(translatedText)"
   ]
  },
  {
   "cell_type": "markdown",
   "metadata": {},
   "source": [
    "# Intentos Fallidos\n",
    "\n",
    "Librerías externas como pyenchant, nltk"
   ]
  },
  {
   "cell_type": "markdown",
   "metadata": {},
   "source": [
    "## pyenchant"
   ]
  },
  {
   "cell_type": "code",
   "execution_count": 25,
   "metadata": {},
   "outputs": [],
   "source": [
    "# !pip install -U pip"
   ]
  },
  {
   "cell_type": "code",
   "execution_count": 26,
   "metadata": {},
   "outputs": [],
   "source": [
    "# !pip install pyenchant"
   ]
  },
  {
   "cell_type": "code",
   "execution_count": 27,
   "metadata": {},
   "outputs": [],
   "source": [
    "# import enchant\n",
    "# d = enchant.Dict(\"en_US\")\n",
    "# d.check(\"Hello\")"
   ]
  },
  {
   "cell_type": "code",
   "execution_count": 28,
   "metadata": {},
   "outputs": [
    {
     "data": {
      "text/plain": [
       "0"
      ]
     },
     "execution_count": 28,
     "metadata": {},
     "output_type": "execute_result"
    }
   ],
   "source": [
    "import os\n",
    "os.system('uname -o')"
   ]
  },
  {
   "cell_type": "code",
   "execution_count": 29,
   "metadata": {},
   "outputs": [
    {
     "data": {
      "text/plain": [
       "'linux'"
      ]
     },
     "execution_count": 29,
     "metadata": {},
     "output_type": "execute_result"
    }
   ],
   "source": [
    "from sys import platform as plat\n",
    "plat"
   ]
  },
  {
   "cell_type": "code",
   "execution_count": 30,
   "metadata": {},
   "outputs": [
    {
     "data": {
      "text/plain": [
       "<function platform.linux_distribution(distname='', version='', id='', supported_dists=('SuSE', 'debian', 'fedora', 'redhat', 'centos', 'mandrake', 'mandriva', 'rocks', 'slackware', 'yellowdog', 'gentoo', 'UnitedLinux', 'turbolinux', 'arch', 'mageia'), full_distribution_name=1)>"
      ]
     },
     "execution_count": 30,
     "metadata": {},
     "output_type": "execute_result"
    }
   ],
   "source": [
    "import platform\n",
    "platform.linux_distribution"
   ]
  },
  {
   "cell_type": "code",
   "execution_count": 31,
   "metadata": {},
   "outputs": [],
   "source": [
    "# !sudo yum update -y"
   ]
  },
  {
   "cell_type": "code",
   "execution_count": 32,
   "metadata": {},
   "outputs": [],
   "source": [
    "# !sudo yum install -y libenchant-dev"
   ]
  },
  {
   "cell_type": "code",
   "execution_count": 33,
   "metadata": {},
   "outputs": [],
   "source": [
    "# !pip install distro"
   ]
  },
  {
   "cell_type": "code",
   "execution_count": 34,
   "metadata": {},
   "outputs": [
    {
     "data": {
      "text/plain": [
       "('Amazon Linux AMI', '2018.03', '')"
      ]
     },
     "execution_count": 34,
     "metadata": {},
     "output_type": "execute_result"
    }
   ],
   "source": [
    "import distro\n",
    "distro.linux_distribution()"
   ]
  },
  {
   "cell_type": "markdown",
   "metadata": {},
   "source": [
    "## nltk"
   ]
  },
  {
   "cell_type": "code",
   "execution_count": 35,
   "metadata": {},
   "outputs": [],
   "source": [
    "# from nltk.corpus import words\n",
    "# \"would\" in words.words()"
   ]
  },
  {
   "cell_type": "code",
   "execution_count": 36,
   "metadata": {},
   "outputs": [],
   "source": [
    "# import nltk\n",
    "# nltk.download('words')"
   ]
  }
 ],
 "metadata": {
  "kernelspec": {
   "display_name": "conda_python3",
   "language": "python",
   "name": "conda_python3"
  },
  "language_info": {
   "codemirror_mode": {
    "name": "ipython",
    "version": 3
   },
   "file_extension": ".py",
   "mimetype": "text/x-python",
   "name": "python",
   "nbconvert_exporter": "python",
   "pygments_lexer": "ipython3",
   "version": "3.6.5"
  }
 },
 "nbformat": 4,
 "nbformat_minor": 4
}
